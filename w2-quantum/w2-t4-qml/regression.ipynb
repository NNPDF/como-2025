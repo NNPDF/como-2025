{
 "cells": [
  {
   "cell_type": "markdown",
   "id": "10b6ffc3-a7a6-460e-9777-19e4d08f8ea2",
   "metadata": {},
   "source": [
    "# Quantum Machine Learning Models with *qiboml*\n",
    "\n",
    "Qiboml is an open-source and full-stack quantum machine learning package based on Qibo aiming at:\n",
    "\n",
    "- providing automatically differentiable backends for any Qibo application;\n",
    "- rendering Qibo circuits as differentiable layers of well-known machine learning frameworks such as Tensorflow and Pytorch;\n",
    "\n",
    "## the general structure\n",
    "\n",
    "<img src=\"https://qibo.science/qiboml/stable/_images/qiboml.png\" width=800>\n",
    "\n",
    "## Before starting\n",
    "Make sure you have the most recent version of ``qiboml`` installed and a working version of ``torch`` and ``qibolab``."
   ]
  },
  {
   "cell_type": "code",
   "execution_count": 1,
   "id": "0e8bc1c0-b8c0-46a7-960f-61e99a7c04e2",
   "metadata": {},
   "outputs": [],
   "source": [
    "# uncomment if you need to install\n",
    "\n",
    "#!pip install git+https://github.com/qiboteam/qiboml#\n",
    "#!pip install torch\n",
    "#!pip install qibolab"
   ]
  },
  {
   "cell_type": "markdown",
   "id": "c44ec1ec-f4a6-4de4-9af2-913c22418b33",
   "metadata": {},
   "source": [
    "# Data regression through a Reuploading model\n",
    "\n",
    "In this tutorial we show how to setup and train a quantum machine learning model implementing a Data Reuploading strategy.\n",
    "We will make use of our interface to structure a quantum circuit which is composed of an alternating execution of trainable and encoding layers.\n",
    "\n",
    "In fact, the main idea behind data reuploading strategies is that data are encoded more than once into our quantum machine learning model. This approach usually leads to a quantum circuit which is approximating a target in a way which is equivalent to a Fourier approximation. In particular, the number of times the data are uploaded is proportional to the number of frequencies populating the Fourier spectrum and the parametrized part of the circuit is responsible of the tuning of the coefficients of this same Fourier series. For more details, a good reference is [Schuld M., Sweke R., Meyer J. - 2021](https://arxiv.org/abs/2008.08605).\n",
    "\n",
    "<img src=\"./figures/reuploading.svg\" width=\"600\" height=\"200\" alt=\"My Image\">"
   ]
  },
  {
   "cell_type": "markdown",
   "id": "75aa168a-a6b1-468e-8302-e5864e08937e",
   "metadata": {},
   "source": [
    "### Some imports"
   ]
  },
  {
   "cell_type": "code",
   "execution_count": 2,
   "id": "d98894d1-7544-4f37-97a6-b668c326cb9e",
   "metadata": {},
   "outputs": [
    {
     "name": "stderr",
     "output_type": "stream",
     "text": [
      "2025-07-17 09:56:27.362826: E external/local_xla/xla/stream_executor/cuda/cuda_fft.cc:467] Unable to register cuFFT factory: Attempting to register factory for plugin cuFFT when one has already been registered\n",
      "WARNING: All log messages before absl::InitializeLog() is called are written to STDERR\n",
      "E0000 00:00:1752738987.374735   24629 cuda_dnn.cc:8579] Unable to register cuDNN factory: Attempting to register factory for plugin cuDNN when one has already been registered\n",
      "E0000 00:00:1752738987.378396   24629 cuda_blas.cc:1407] Unable to register cuBLAS factory: Attempting to register factory for plugin cuBLAS when one has already been registered\n",
      "W0000 00:00:1752738987.388772   24629 computation_placer.cc:177] computation placer already registered. Please check linkage and avoid linking the same target more than once.\n",
      "W0000 00:00:1752738987.388783   24629 computation_placer.cc:177] computation placer already registered. Please check linkage and avoid linking the same target more than once.\n",
      "W0000 00:00:1752738987.388784   24629 computation_placer.cc:177] computation placer already registered. Please check linkage and avoid linking the same target more than once.\n",
      "W0000 00:00:1752738987.388786   24629 computation_placer.cc:177] computation placer already registered. Please check linkage and avoid linking the same target more than once.\n"
     ]
    }
   ],
   "source": [
    "# Let's do the imports first\n",
    "\n",
    "import torch\n",
    "torch.set_default_dtype(torch.float64)\n",
    "import numpy as np\n",
    "import matplotlib.pyplot as plt\n",
    "import os\n",
    "\n",
    "import torch.optim as optim\n",
    "import torch.nn as nn\n",
    "\n",
    "from qibo import Circuit, gates, construct_backend, set_backend\n",
    "from qibo.hamiltonians import Z\n",
    "from qibo.transpiler import Passes, NativeGates, Unroller\n",
    "\n",
    "from qibolab import create_platform\n",
    "\n",
    "from qiboml.models.encoding import PhaseEncoding\n",
    "from qiboml.models.ansatze import HardwareEfficient\n",
    "from qiboml.models.decoding import Expectation\n",
    "from qiboml.interfaces.pytorch import QuantumModel\n",
    "from qiboml.operations.differentiation import PSR"
   ]
  },
  {
   "cell_type": "markdown",
   "id": "5818cd1b-3ca0-4067-8730-b1a05b66e888",
   "metadata": {},
   "source": [
    "### The target function to be fitted\n",
    "\n",
    "To the purpose of this introductory example, we are going to fit a one-dimensional function."
   ]
  },
  {
   "cell_type": "code",
   "execution_count": 3,
   "id": "8da88063-ec11-4680-ae89-d1ba5bd0c327",
   "metadata": {},
   "outputs": [],
   "source": [
    "# Prepare the training dataset \n",
    "def f(x):\n",
    "    return 1 * torch.sin(x)  ** 2 - 0.3 * torch.cos(x) \n",
    "\n",
    "num_samples = 30\n",
    "x_train = torch.linspace(0, 2 * np.pi, num_samples, dtype=torch.float64).unsqueeze(1)\n",
    "y_train = f(x_train)\n",
    "\n",
    "# Normalizing it to be between -1 and 1 (because we are going to use a Z observable in our decoding)\n",
    "y_train = 2 * ( (y_train - min(y_train)) / (max(y_train) - min(y_train)) - 0.5 )"
   ]
  },
  {
   "cell_type": "code",
   "execution_count": 4,
   "id": "eb7679a7-2ef1-495b-a563-2d56a7ed00f0",
   "metadata": {},
   "outputs": [],
   "source": [
    "# A plotting function which will be useful now and later\n",
    "def plot_target(x, target, predictions=None):\n",
    "    \"\"\"Plot target function and, optionally, the predictions of our model.\"\"\"\n",
    "    plt.figure(figsize=(4, 4 * 6 / 8), dpi=120)\n",
    "    plt.plot(\n",
    "        x_train.detach().cpu().numpy(), \n",
    "        y_train.detach().cpu().numpy(),\n",
    "        marker=\".\",\n",
    "        markersize=10,\n",
    "        color=\"blue\", \n",
    "        label=\"Targets\",\n",
    "        alpha=0.7\n",
    "    )\n",
    "    if predictions is not None:\n",
    "        plt.plot(\n",
    "            x_train.detach().cpu().numpy(), \n",
    "            y_pred.detach().cpu().numpy(), \n",
    "            marker=\".\",\n",
    "            markersize=10,\n",
    "            color=\"red\", \n",
    "            label=\"Predictions\",\n",
    "            alpha=0.7\n",
    "        )\n",
    "    plt.xlabel(r\"$x$\")\n",
    "    plt.ylabel(r\"$f(x)$\")\n",
    "    plt.legend()\n",
    "    plt.show()"
   ]
  },
  {
   "cell_type": "code",
   "execution_count": 5,
   "id": "4783d94c-9fb6-4849-a884-05c070988e57",
   "metadata": {},
   "outputs": [
    {
     "data": {
      "image/png": "[encoded data removed]",
      "text/plain": [
       "<Figure size 480x360 with 1 Axes>"
      ]
     },
     "metadata": {},
     "output_type": "display_data"
    }
   ],
   "source": [
    "# Plotting\n",
    "plot_target(x=x_train, target=y_train)"
   ]
  },
  {
   "cell_type": "markdown",
   "id": "8165b197-fa43-46d0-b9a4-692ea64790e4",
   "metadata": {},
   "source": [
    "### The model's building blocks\n",
    "\n",
    "We now need to construct our QML model, composed by three main building blocks: encoding layers, trainable layers and decoding.\n",
    "Since we are going to fit a one dimensional function we will need just one qubit.\n",
    "\n",
    "### Encoder\n",
    "Let's start from the encoding layer. The ``PhaseEncoding`` object allows us to encode data into a single qubit rotation around the $x$ axis."
   ]
  },
  {
   "cell_type": "code",
   "execution_count": 6,
   "id": "6dfd3479-6de8-4f1a-8c82-8fd83fb294c7",
   "metadata": {},
   "outputs": [
    {
     "data": {
      "text/plain": [
       "PhaseEncoding(nqubits=1, qubits=(0,), density_matrix=False, _circuit=<qibo.models.circuit.Circuit object at 0x7b92c096e320>, encoding_gate=<class 'qibo.gates.gates.RX'>)"
      ]
     },
     "execution_count": 6,
     "metadata": {},
     "output_type": "execute_result"
    }
   ],
   "source": [
    "# Setting the number of qubits\n",
    "nqubits = 1\n",
    "\n",
    "# Encoding layer\n",
    "encoding_circ = PhaseEncoding(\n",
    "    nqubits=nqubits, \n",
    "    encoding_gate=gates.RX\n",
    ")\n",
    "encoding_circ"
   ]
  },
  {
   "cell_type": "markdown",
   "id": "298bfb7e-3753-451b-b255-ad6b6a13448b",
   "metadata": {},
   "source": [
    "### Trainable layer\n",
    "Then, we need to define a trainable circuit layer. For instance, we can use the ``HardwareEfficient`` ansatz for convenience, but any parametric quantum circuit would do."
   ]
  },
  {
   "cell_type": "code",
   "execution_count": 7,
   "id": "756852e1-9b55-4aa2-8bfa-4ace2033b577",
   "metadata": {},
   "outputs": [
    {
     "name": "stdout",
     "output_type": "stream",
     "text": [
      "0: ─RY─RZ─\n"
     ]
    }
   ],
   "source": [
    "# Trainable layer\n",
    "trainable_circuit = HardwareEfficient(nqubits=nqubits)\n",
    "trainable_circuit.draw()"
   ]
  },
  {
   "cell_type": "markdown",
   "id": "2d5b825d-895e-4901-bdca-60d6de3c7619",
   "metadata": {},
   "source": [
    "### Composing the Reuploading pattern\n",
    "\n",
    "Let's combine now together the encoding layers and the trainable layers to build the reuploading model. \n",
    "- **Note:** make sure that the instances of the trainable layers are different objects, or Pytorch will train all the layers as they are references to the same object (with the same parameters)."
   ]
  },
  {
   "cell_type": "code",
   "execution_count": 8,
   "id": "fe466373-9037-4278-b085-5e5eff825b79",
   "metadata": {},
   "outputs": [],
   "source": [
    "# We set a number of layers\n",
    "nlayers = 2\n",
    "\n",
    "# We initialise an empty circuit structure\n",
    "circuit_structure = []\n",
    "# We populate it with alternation of encoding (always the same) and trainable layers (always a new instance)\n",
    "for _ in range(nlayers):\n",
    "    circuit_structure.extend([encoding_circ, trainable_circuit.copy(True)])"
   ]
  },
  {
   "cell_type": "markdown",
   "id": "4d01ccdc-b536-4f1b-ab63-45a1deaeb2a4",
   "metadata": {},
   "source": [
    "### Decoder\n",
    "Last but not least, a decoding strategy needs to be defined to extract the classical information from the final quantum state. A quite common choice is to compute the expectation value of an observable. In particular, the ``Expectation`` decoder object computes by default the expectation value of a non interacting Z hamiltonian. \n",
    "\n",
    "Before creating the decoder, remember to set the backend you wish to run with, for instance by using the ``torch`` backend with the ``torch`` interface we ensure that pytorch's native autodifferentiation is used. \n"
   ]
  },
  {
   "cell_type": "code",
   "execution_count": 9,
   "id": "83ff156c-1ff3-4313-be34-648cd38c15e5",
   "metadata": {},
   "outputs": [
    {
     "name": "stderr",
     "output_type": "stream",
     "text": [
      "[Qibo 0.2.20|INFO|2025-07-17 09:56:28]: Using qiboml (pytorch) backend on cuda:0\n"
     ]
    }
   ],
   "source": [
    "# set the execution backend\n",
    "set_backend(\"qiboml\", platform=\"pytorch\")\n",
    "\n",
    "# Decoding layer\n",
    "decoding_circ = Expectation(\n",
    "    nqubits=nqubits,\n",
    "    observable=Z(nqubits), # this is the default choice anyway\n",
    ")"
   ]
  },
  {
   "cell_type": "markdown",
   "id": "04141478-b36a-4e71-97dd-c0982e6fc267",
   "metadata": {},
   "source": [
    "### The complete Quantum Model\n",
    "\n",
    "Finally, we can assemble the whole quantum model using ``qiboml``'s pytorch interface."
   ]
  },
  {
   "cell_type": "code",
   "execution_count": 10,
   "id": "a9aa0a5d-e817-4e1a-a6e2-81ec87a09984",
   "metadata": {},
   "outputs": [
    {
     "data": {
      "image/png": "[encoded data removed]",
      "text/plain": [
       "<Figure size 360x60 with 1 Axes>"
      ]
     },
     "metadata": {},
     "output_type": "display_data"
    }
   ],
   "source": [
    "# The whole model, this is a torch.nn.Module object\n",
    "model = QuantumModel(\n",
    "    circuit_structure=circuit_structure,\n",
    "    decoding=decoding_circ,\n",
    ")\n",
    "\n",
    "# Let's draw it\n",
    "fig = model.draw()"
   ]
  },
  {
   "cell_type": "markdown",
   "id": "6fbcfa4b-968a-47a1-bf65-8295ee4480f1",
   "metadata": {},
   "source": [
    "### Use Pytorch to train it!\n",
    "\n",
    "Now, we can setup a standard Pytorch training loop to find an optimal quantum circuit for fitting our target function. \n",
    "\n",
    "We start by selecting a desired optimizer and cost function:"
   ]
  },
  {
   "cell_type": "code",
   "execution_count": 11,
   "id": "fdfc2f01-13d5-42ab-b3ba-fe62025950bd",
   "metadata": {},
   "outputs": [],
   "source": [
    "optimizer = optim.Adam(model.parameters(), lr=0.1)\n",
    "criterion = nn.MSELoss()"
   ]
  },
  {
   "cell_type": "markdown",
   "id": "34fbdefc-8907-4259-a36f-9eef09b168be",
   "metadata": {},
   "source": [
    "then, we move everything to the correct device (GPU if available, CPU otherwise):"
   ]
  },
  {
   "cell_type": "code",
   "execution_count": 12,
   "id": "96904d2d-dc79-4e50-9215-b4eccdb220a1",
   "metadata": {},
   "outputs": [],
   "source": [
    "dev = torch.device(\"cuda:0\") if torch.cuda.is_available() else torch.device(\"cpu\")\n",
    "model = model.to(dev)\n",
    "x_train = x_train.to(dev)\n",
    "y_train = y_train.to(dev)"
   ]
  },
  {
   "cell_type": "markdown",
   "id": "9cd5fa8a-7416-4432-8ad7-86975c417a6c",
   "metadata": {},
   "source": [
    "And we then perform a classical training loop."
   ]
  },
  {
   "cell_type": "code",
   "execution_count": 13,
   "id": "07a15857-ff5e-409e-839d-dc91ae413932",
   "metadata": {},
   "outputs": [
    {
     "name": "stdout",
     "output_type": "stream",
     "text": [
      "Epoch 0: Loss = 0.7027711095782841\n",
      "Epoch 10: Loss = 0.1293856077610009\n",
      "Epoch 20: Loss = 0.011217561161185245\n",
      "Epoch 30: Loss = 0.01716807188286111\n",
      "Epoch 40: Loss = 0.010709019782028505\n",
      "Epoch 50: Loss = 0.005391736294486316\n",
      "Epoch 60: Loss = 0.005433664592651816\n",
      "Epoch 70: Loss = 0.004637805735243879\n",
      "Epoch 80: Loss = 0.004616196148524373\n",
      "Epoch 90: Loss = 0.004579460400529497\n"
     ]
    }
   ],
   "source": [
    "epochs = 100\n",
    "for epoch in range(epochs):\n",
    "    optimizer.zero_grad()\n",
    "    # Use torch.stack to get a tensor of shape (100, 1, 1)\n",
    "    y_pred = torch.stack([model(x) for x in x_train])\n",
    "    # Remove the extra singleton dimension so that y_pred has shape (100, 1)\n",
    "    y_pred = y_pred.squeeze(-1)\n",
    "    \n",
    "    loss = criterion(y_pred, y_train)\n",
    "    loss.backward()\n",
    "    optimizer.step()    \n",
    "    if epoch % 10 == 0:\n",
    "        print(f\"Epoch {epoch}: Loss = {loss.item()}\")"
   ]
  },
  {
   "cell_type": "markdown",
   "id": "baa42e50-ef18-488a-866b-9d5e26c794d7",
   "metadata": {},
   "source": [
    "### A final look to our results"
   ]
  },
  {
   "cell_type": "code",
   "execution_count": 14,
   "id": "58a5a723-0448-426d-b639-bceaee5c1e02",
   "metadata": {},
   "outputs": [
    {
     "data": {
      "image/png": "[encoded data removed]",
      "text/plain": [
       "<Figure size 480x360 with 1 Axes>"
      ]
     },
     "metadata": {},
     "output_type": "display_data"
    }
   ],
   "source": [
    "plot_target(x=x_train, target=y_train, predictions=y_pred)"
   ]
  },
  {
   "cell_type": "markdown",
   "id": "4f62f722-7ae7-4c5d-be1e-78a8b20fd625",
   "metadata": {},
   "source": [
    "We fitted it 🥳"
   ]
  },
  {
   "cell_type": "markdown",
   "id": "e211c99a-c960-4e74-8163-a00131d759b3",
   "metadata": {},
   "source": [
    "### A more realistic case\n",
    "In the previous example, we used the ``pytorch`` backend to simulate computation, however, as you've seen yesterday, there are more realistic ways to simulate quantum computation on a superconducting device, e.g. using an **Emulator**.\n",
    "Let's change the global backend to the emulator runcard that we prepared already."
   ]
  },
  {
   "cell_type": "code",
   "execution_count": 15,
   "id": "759761f3-b4bc-43bf-83e7-2cb89a76edd8",
   "metadata": {},
   "outputs": [
    {
     "name": "stderr",
     "output_type": "stream",
     "text": [
      "[Qibo 0.2.20|INFO|2025-07-17 09:56:37]: Loading platform emulator\n",
      "[Qibo 0.2.20|INFO|2025-07-17 09:56:37]: Using qibolab (emulator) backend on /CPU:0\n"
     ]
    }
   ],
   "source": [
    "os.environ[\"QIBOLAB_PLATFORMS\"] = \"../\"\n",
    "platform = create_platform(\"emulator\")\n",
    "set_backend(\"qibolab\", platform=platform)"
   ]
  },
  {
   "cell_type": "markdown",
   "id": "bff4f88e-21bf-4754-bd9d-b884ff39768a",
   "metadata": {},
   "source": [
    "Since we changed the backend, it is a good idea to define a new decoder from scratch. We will always use the ``Expectation`` decoder, but this time, since we are runnning in a more realistic scenario, we need to specify some additional settings:\n",
    "- **nshots**: the number of samples we generate\n",
    "- **transpiler**: the transpilation pipeline used to translate the high-level circuit into the native operations supported by the device"
   ]
  },
  {
   "cell_type": "code",
   "execution_count": 16,
   "id": "e117b2c4-ef27-4853-8c6d-f89f1cf89400",
   "metadata": {},
   "outputs": [],
   "source": [
    "nshots = 100\n",
    "transpiler = Passes(\n",
    "    connectivity=[], # this is the topology of the chip, since we are using just a\n",
    "                     # single qubit, there's no connectivity to respect\n",
    "    passes=[Unroller(NativeGates.default())]\n",
    ")"
   ]
  },
  {
   "cell_type": "markdown",
   "id": "9522a899-8002-45de-a8c2-b3c197b1d89e",
   "metadata": {},
   "source": [
    "The original circuit was:"
   ]
  },
  {
   "cell_type": "code",
   "execution_count": 17,
   "id": "d9849841-32a9-48eb-9b27-e2079736c8cb",
   "metadata": {},
   "outputs": [
    {
     "name": "stdout",
     "output_type": "stream",
     "text": [
      "0: ─RY─RZ─\n"
     ]
    }
   ],
   "source": [
    "trainable_circuit.draw()"
   ]
  },
  {
   "cell_type": "markdown",
   "id": "e1dee5d7-89a8-4256-8eda-4fb4b7092631",
   "metadata": {},
   "source": [
    "after transpilation the non-native ``RY`` gate is converted into a sequence of native ``GPI2``, ``Z`` and ``RZ`` gates."
   ]
  },
  {
   "cell_type": "code",
   "execution_count": 18,
   "id": "bfcc5d0c-d8ad-4432-a10f-563849af6e6d",
   "metadata": {},
   "outputs": [
    {
     "name": "stdout",
     "output_type": "stream",
     "text": [
      "0: ─GPI2─RZ─GPI2─Z─RZ─\n"
     ]
    }
   ],
   "source": [
    "transpiler(trainable_circuit)[0].draw()"
   ]
  },
  {
   "cell_type": "markdown",
   "id": "37b5d3dc-c948-45bd-b10e-15d424dd2f77",
   "metadata": {},
   "source": [
    "Therefore, we can now build a new decoder to be used with the emulator:"
   ]
  },
  {
   "cell_type": "code",
   "execution_count": 19,
   "id": "39de3024-8a7d-4a79-a0bd-63d9f3c1ae14",
   "metadata": {},
   "outputs": [],
   "source": [
    "# New Decoding layer\n",
    "decoding_circ = Expectation(\n",
    "    nqubits=nqubits,\n",
    "    observable=Z(nqubits),\n",
    "    nshots=nshots,\n",
    "    transpiler=transpiler,\n",
    ")"
   ]
  },
  {
   "cell_type": "markdown",
   "id": "a9c824a4-5332-4931-a1e1-eca16748eae8",
   "metadata": {},
   "source": [
    "Now, let's assemble the quantum model as before."
   ]
  },
  {
   "cell_type": "code",
   "execution_count": 20,
   "id": "72944803-73b1-47c1-8cf3-f04ec1cf4eda",
   "metadata": {},
   "outputs": [],
   "source": [
    "model = QuantumModel(\n",
    "    circuit_structure=circuit_structure,\n",
    "    decoding=decoding_circ,\n",
    ")"
   ]
  },
  {
   "cell_type": "markdown",
   "id": "8ae4db7f-c435-47ad-81b6-3f56caddae3a",
   "metadata": {},
   "source": [
    " However, the emulator is extremly taxing (and thus slow) unfortunately, since it involves the computation of the evolution of the system's hamiltonian through a master equation. Therefore, for this short tutorial we cannot afford to train a new model from scratch with the emulator. What we can do though, is verify how running with the emulator affects the predictions of our trained model at inference time:"
   ]
  },
  {
   "cell_type": "code",
   "execution_count": 21,
   "id": "5b9ae70e-a352-4ae5-9e74-21df82a07c20",
   "metadata": {},
   "outputs": [
    {
     "name": "stderr",
     "output_type": "stream",
     "text": [
      "[Qibo 0.2.20|INFO|2025-07-17 09:56:37]: Minimal execution time: 4.2000000000000004e-05\n",
      "[Qibo 0.2.20|INFO|2025-07-17 09:56:38]: Minimal execution time: 4.2000000000000004e-05\n",
      "[Qibo 0.2.20|INFO|2025-07-17 09:56:40]: Minimal execution time: 4.2000000000000004e-05\n",
      "[Qibo 0.2.20|INFO|2025-07-17 09:56:41]: Minimal execution time: 4.2000000000000004e-05\n",
      "[Qibo 0.2.20|INFO|2025-07-17 09:56:42]: Minimal execution time: 4.2000000000000004e-05\n",
      "[Qibo 0.2.20|INFO|2025-07-17 09:56:44]: Minimal execution time: 4.2000000000000004e-05\n",
      "[Qibo 0.2.20|INFO|2025-07-17 09:56:45]: Minimal execution time: 4.2000000000000004e-05\n",
      "[Qibo 0.2.20|INFO|2025-07-17 09:56:47]: Minimal execution time: 4.2000000000000004e-05\n",
      "[Qibo 0.2.20|INFO|2025-07-17 09:56:48]: Minimal execution time: 4.2000000000000004e-05\n",
      "[Qibo 0.2.20|INFO|2025-07-17 09:56:49]: Minimal execution time: 4.2000000000000004e-05\n",
      "[Qibo 0.2.20|INFO|2025-07-17 09:56:51]: Minimal execution time: 4.2000000000000004e-05\n",
      "[Qibo 0.2.20|INFO|2025-07-17 09:56:52]: Minimal execution time: 4.2000000000000004e-05\n",
      "[Qibo 0.2.20|INFO|2025-07-17 09:56:53]: Minimal execution time: 4.2000000000000004e-05\n",
      "[Qibo 0.2.20|INFO|2025-07-17 09:56:55]: Minimal execution time: 4.2000000000000004e-05\n",
      "[Qibo 0.2.20|INFO|2025-07-17 09:56:56]: Minimal execution time: 4.2000000000000004e-05\n",
      "[Qibo 0.2.20|INFO|2025-07-17 09:56:58]: Minimal execution time: 4.2000000000000004e-05\n",
      "[Qibo 0.2.20|INFO|2025-07-17 09:56:59]: Minimal execution time: 4.2000000000000004e-05\n",
      "[Qibo 0.2.20|INFO|2025-07-17 09:57:00]: Minimal execution time: 4.2000000000000004e-05\n",
      "[Qibo 0.2.20|INFO|2025-07-17 09:57:02]: Minimal execution time: 4.2000000000000004e-05\n",
      "[Qibo 0.2.20|INFO|2025-07-17 09:57:03]: Minimal execution time: 4.2000000000000004e-05\n",
      "[Qibo 0.2.20|INFO|2025-07-17 09:57:04]: Minimal execution time: 4.2000000000000004e-05\n",
      "[Qibo 0.2.20|INFO|2025-07-17 09:57:06]: Minimal execution time: 4.2000000000000004e-05\n",
      "[Qibo 0.2.20|INFO|2025-07-17 09:57:07]: Minimal execution time: 4.2000000000000004e-05\n",
      "[Qibo 0.2.20|INFO|2025-07-17 09:57:08]: Minimal execution time: 4.2000000000000004e-05\n",
      "[Qibo 0.2.20|INFO|2025-07-17 09:57:10]: Minimal execution time: 4.2000000000000004e-05\n",
      "[Qibo 0.2.20|INFO|2025-07-17 09:57:11]: Minimal execution time: 4.2000000000000004e-05\n",
      "[Qibo 0.2.20|INFO|2025-07-17 09:57:13]: Minimal execution time: 4.2000000000000004e-05\n",
      "[Qibo 0.2.20|INFO|2025-07-17 09:57:14]: Minimal execution time: 4.2000000000000004e-05\n",
      "[Qibo 0.2.20|INFO|2025-07-17 09:57:15]: Minimal execution time: 4.2000000000000004e-05\n",
      "[Qibo 0.2.20|INFO|2025-07-17 09:57:17]: Minimal execution time: 4.2000000000000004e-05\n"
     ]
    },
    {
     "data": {
      "image/png": "[encoded data removed]",
      "text/plain": [
       "<Figure size 480x360 with 1 Axes>"
      ]
     },
     "metadata": {},
     "output_type": "display_data"
    }
   ],
   "source": [
    "with torch.no_grad():\n",
    "    y_pred = torch.stack([model(x) for x in x_train]).to(dev)\n",
    "    y_pred = y_pred.squeeze(-1)\n",
    "plot_target(x=x_train, target=y_train, predictions=y_pred)"
   ]
  },
  {
   "cell_type": "code",
   "execution_count": null,
   "id": "d5a2fa1b-b128-402e-8e69-9b3ce9604c18",
   "metadata": {},
   "outputs": [],
   "source": []
  }
 ],
 "metadata": {
  "kernelspec": {
   "display_name": "Python 3 (ipykernel)",
   "language": "python",
   "name": "python3"
  },
  "language_info": {
   "codemirror_mode": {
    "name": "ipython",
    "version": 3
   },
   "file_extension": ".py",
   "mimetype": "text/x-python",
   "name": "python",
   "nbconvert_exporter": "python",
   "pygments_lexer": "ipython3",
   "version": "3.10.18"
  }
 },
 "nbformat": 4,
 "nbformat_minor": 5
}
