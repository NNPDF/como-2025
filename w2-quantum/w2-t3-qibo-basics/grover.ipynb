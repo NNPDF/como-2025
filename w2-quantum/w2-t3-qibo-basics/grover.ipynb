{
 "cells": [
  {
   "cell_type": "markdown",
   "id": "97fce24f-ed47-450e-801b-df5342d70af9",
   "metadata": {},
   "source": [
    "# Lecture 2: Grover search algorithm\n",
    "\n",
    "## Introduction\n",
    "\n",
    "The Grover algorithm is probably one of the most famous quantum computing proof of utility. \n",
    "\n",
    "It has been known as \"Grover search algorithm\" because it is effective in a context in which we aim to find a specific solution of a problem among a set of possible solutions. \n",
    "\n",
    "#### Problem setup\n",
    "\n",
    "In this notebook, we are going to implement the Grover algorithm using a system of $N$ qubits in order to explore a set of $M=2^N$ possible solutions and, without going deep into the mathematical details, we will proof we need a number of Grover iterations proportional to $\\sqrt{M}$ to find the target solution with probability close to one.\n",
    "\n",
    "---\n",
    "\n",
    "To give the lesson a more concrete aspect, let's take a more realistic problem: \n",
    "Suppose you're at a party with $M=2^N$ friends. While you're peacefully drinking your coffee, you get distracted for a moment, and someone, without you noticing, pours sugar into your coffee.\n",
    "\n",
    "It's a disaster because you like your coffee bitter! So, you absolutely need to find the person responsible for this.\n",
    "\n",
    "Let's also suppose that there is no concrete evidence that can lead us to the guilty person, however, while poursing coffee inside your mug, the thief left a hair inside the cup, which can be used to extract DNA.\n",
    "\n",
    "Perfect! We can compare the guilty DNA with that of every person who was at the party at that moment.\n",
    "\n",
    "---\n",
    "\n",
    "This problem can be **classically** tackled by checking all the people one by one and, in the worst case, it takes $M = 2^N$ attempts before finding the guilty person in the group. On the other hand, using quantum computing and the Grover algorithm, we will see the solution can be found with a number of algorithm's calls that scales as $\\sqrt{M}$: *we gain a quadratic speedup!*\n"
   ]
  },
  {
   "cell_type": "code",
   "execution_count": null,
   "id": "7c58e101-4db0-4782-82f8-eb199bf4b867",
   "metadata": {},
   "outputs": [],
   "source": [
    "import random \n",
    "\n",
    "import numpy as np\n",
    "import matplotlib.pyplot as plt\n",
    "\n",
    "import qibo\n",
    "from qibo import Circuit, gates\n",
    "\n",
    "# set qibo backend\n",
    "qibo.set_backend(\"numpy\")"
   ]
  },
  {
   "cell_type": "code",
   "execution_count": null,
   "id": "72c0feed-417f-4a22-9596-aa22d74642c8",
   "metadata": {},
   "outputs": [],
   "source": [
    "# set the problem dimensionality --> the size of the set to be explored\n",
    "n = 5\n",
    "\n",
    "# set the number of shots (circuit's executions)\n",
    "# we do this because it's more realistic \n",
    "nshots = 1000000\n",
    "\n",
    "bitstrings = [format(i, f\"0{n}b\") for i in range(2**n)]"
   ]
  },
  {
   "cell_type": "markdown",
   "id": "233d19c9-2984-4cec-b989-c2008b291577",
   "metadata": {},
   "source": [
    "Let's generate the list of people who were at the party."
   ]
  },
  {
   "cell_type": "code",
   "execution_count": null,
   "id": "ee8e85e9-749e-4748-b4e3-f160f2035898",
   "metadata": {},
   "outputs": [],
   "source": [
    "!pip install Faker \n",
    "from faker import Faker\n",
    "fake = Faker()"
   ]
  },
  {
   "cell_type": "code",
   "execution_count": null,
   "id": "90663687-cc58-4c5b-b405-364ba862d867",
   "metadata": {},
   "outputs": [],
   "source": [
    "# set seed\n",
    "Faker.seed(42)\n",
    "names = []\n",
    "for i in range(2**n):\n",
    "    names.append(fake.name())\n",
    "\n",
    "print(names)"
   ]
  },
  {
   "cell_type": "markdown",
   "id": "bc2f68ee-4759-4f75-a8d4-069160e42f85",
   "metadata": {},
   "source": [
    "In practice, we have now a list of strings, in which the element of index $k$ represents the $k$-th suspect among the people.\n",
    "\n",
    "Let's assume the guilty guy in the list is the number 11!"
   ]
  },
  {
   "cell_type": "code",
   "execution_count": null,
   "id": "35643d3f-baa0-4beb-9927-4f30daa28872",
   "metadata": {},
   "outputs": [],
   "source": [
    "guilty_index = 11\n",
    "print(f\"Guilty index: {guilty_index}\")\n",
    "print(f\"Guilty {names[guilty_index]} corresponding to state {bitstrings[guilty_index]}\")"
   ]
  },
  {
   "cell_type": "markdown",
   "id": "75cb9ef4-ed53-43b1-91be-15dfb800636a",
   "metadata": {},
   "source": [
    "### Grover algorithm main ingredients\n",
    "\n",
    "Now the problem is set up and we can focus on the Grover implementation. \n",
    "\n",
    "<center><img src=\"figures/grover-circ.png\" alt=\"drawing\" width=\"800\"/></center>\n",
    "We need to follow some steps:\n",
    "\n",
    "1. we prepare a system of $N+1$ qubits into the $|0\\rangle^{\\otimes N} |1\\rangle$ state. The ancilla gate is the one prepared as usual into $|1\\rangle$;\n",
    "2. we apply Hadamard gates to all the qubits in order to create superposition of all the $2^N$ states of the input register. We call this superposed state $|s\\rangle$;\n",
    "3. we apply an **oracle** function $U_f$ to the qubits, which is constructed in order to detect the guilty state among the others. In our narrative, it can be seen as the machine which process the DNA of the people, allowing to find the guilty person. In a quantum computer notation, it is a set of operation which flips the sign of the amplitude of the state corresponding to the guilty guy (the number 11 in our case).\n",
    "4. we apply the **diffusion operator** $U_s = 2|s\\rangle \\langle s| - I$, whose effect consists in reflecting the amplitudes of the system about the average amplitude. In practice, acting together with the oracle over the superposed states, it increases the amplitude of the guilty state and decrease the one of the others.\n",
    "5. we repeat the process a number of time proportional to $\\sqrt{M}$ to find the guilty guy state with probability close to one.\n",
    "\n",
    "We see some more detail in the following cells. For now, we can start implementing all the elements of the Grover algorithm.\n"
   ]
  },
  {
   "cell_type": "markdown",
   "id": "7462dd9f-2de1-4ae9-9820-ba4977942f0e",
   "metadata": {},
   "source": [
    "\n",
    "#### Initial layer of the circuit\n",
    "<div style=\"background-color: rgba(255, 105, 105, 0.3); border: 2.5px solid #000000; padding: 15px;\">\n",
    "    <strong>Exercise:</strong> Write a function that given the number of qubits create the initial layer of the Grover circuit. After you are done use the function below to plot the amplitudes by passing the expected state computed by executing the circuit.\n",
    "</div>"
   ]
  },
  {
   "cell_type": "code",
   "execution_count": null,
   "id": "44fd608d-bb84-43e9-9860-e6ef9ddb30b1",
   "metadata": {},
   "outputs": [],
   "source": [
    "def plot(state, probabilities=False):\n",
    "    \"\"\"Plot amplitudes for a given quantum `state`.\"\"\"    \n",
    "\n",
    "    n = int(np.log2(len(state)))\n",
    "    bitstring = [format(i, f\"0{n}b\") for i in range(2**n)]\n",
    "\n",
    "    fig, ax = plt.subplots(figsize=(10, 5 * 6/8))\n",
    "    img_title = \"State visualization\"\n",
    "\n",
    "    ax.set_title(img_title)\n",
    "    ax.set_xlabel('States')\n",
    "    if probabilities:\n",
    "        ax.set_ylabel('Probabilities')\n",
    "    else:\n",
    "        ax.set_ylabel('Amplitudes')\n",
    "\n",
    "    amplitudes = []\n",
    "\n",
    "    for i in range(0, len(state), 2):\n",
    "        amp = 1/np.sqrt(2)*(np.real(state[i]) - np.real(state[i+1]))\n",
    "        if probabilities:\n",
    "            amplitudes.append(amp**2)\n",
    "        else:\n",
    "            amplitudes.append(amp)\n",
    "\n",
    "    for i, amp in enumerate(amplitudes):\n",
    "        ax.bar(bitstring[i][1:], amp, color='#C194D8', edgecolor=\"black\")\n",
    "        \n",
    "    plt.xticks(rotation=90, fontsize=12)  \n",
    "    plt.yticks(fontsize=12)  \n",
    "\n",
    "    for spine in ax.spines.values():\n",
    "        spine.set_linewidth(1.5) "
   ]
  },
  {
   "cell_type": "code",
   "execution_count": null,
   "id": "37494d93-b7e4-46d7-a0c5-1a55b821239d",
   "metadata": {},
   "outputs": [],
   "source": [
    "def build_initial_layer(n):\n",
    "    \"\"\"Build the initial superposition in Grover circuit.\"\"\"\n",
    "    # n+1 qubits circuit\n",
    "    c = Circuit(n+1)\n",
    "    ...\n",
    "    return c"
   ]
  },
  {
   "cell_type": "code",
   "execution_count": null,
   "id": "99f3711f-a037-4e65-b69c-c226eee43894",
   "metadata": {},
   "outputs": [],
   "source": [
    "plot(build_initial_layer(n)().state())"
   ]
  },
  {
   "cell_type": "markdown",
   "id": "80c6db6f-c30c-4f17-bf40-af537c038b69",
   "metadata": {},
   "source": [
    "#### Oracle \n",
    "\n",
    "We need now to construct the oracle $U_f$, a quantum circuit with the ability to recognize the target state. The oracle is a unitary operator $U_f$ whose action on the computational basis is \n",
    "\n",
    "$$ |x\\rangle |q\\rangle \\xrightarrow{U_f} | x \\rangle |q \\oplus f(x) \\rangle $$\n",
    "\n",
    "where $f(x) = 1$ if $x$ is the solution and $0$ otherwise, $|x\\rangle$ is the quantum register, $|q\\rangle$ is the ancilla qubit and $\\oplus$ is the addition modulo 2.\n",
    "\n",
    "Let's have a closer look at the previous equation when $x$ is not a solution, i.e. $f(x)=0$\n",
    "\n",
    "$$ |x\\rangle |q\\rangle \\xrightarrow{U_f} | x \\rangle |q \\oplus f(x) \\rangle = | x \\rangle |q \\oplus 0 \\rangle = | x \\rangle |q \\rangle , $$\n",
    "\n",
    "and when $x$ is the solution, i.e. $f(x)=1$\n",
    "\n",
    "$$ |x\\rangle |q\\rangle \\xrightarrow{U_f} | x \\rangle |q \\oplus f(x) \\rangle = | x \\rangle |q \\oplus 1 \\rangle = | x \\rangle X |q \\rangle .$$\n",
    "\n",
    "If the ancillary qubit is initialized in the $|-\\rangle$ the application of $X$ gate results in an overall minus sign\n",
    "\n",
    "$$ X |-\\rangle = - |-\\rangle .$$\n",
    "\n",
    "Therefore we have a way to identify the solution, its amplitude will have an additional minus sign!\n",
    "Basically we need to code a quantum circuit where a $X$ gate is applied to the ancilla qubit only if the quantum register is in the solution state. We are describing a controlled operation! Usually the controlled operation is performed only if the target qubit(s) are in state $|1\\rangle$."
   ]
  },
  {
   "cell_type": "markdown",
   "id": "bedd18a0-2d4a-4915-9fb5-69f2d8347ccc",
   "metadata": {},
   "source": [
    "<div style=\"background-color: rgba(255, 105, 105, 0.3); border: 2.5px solid #000000; padding: 15px;\">\n",
    "    <strong>Exercise:</strong> Write a function that given the number of qubits and a target index creates a circuit implementing $U_f$.\n",
    "    Verify the implementation by plotting the circuit which includes first the initial layer that we coded before.\n",
    "    <br>\n",
    "    <em> Hint: Consider first the case in which the target index is the one corresponding to the state $|1\\ldots 1\\rangle$. Next generalize the implementation by applying $X$ gates on the quantum register. Remember to undo these gates after the controlled operation.</em>\n",
    "</div>"
   ]
  },
  {
   "cell_type": "code",
   "execution_count": null,
   "id": "ddef127e-eaaf-4521-b5af-e2a06a0c40e9",
   "metadata": {},
   "outputs": [],
   "source": [
    "def build_oracle(guilty_index, n):\n",
    "    \"\"\"Swap the guilty state.\"\"\"\n",
    "    # n+1 qubits circuit\n",
    "    circuit = Circuit(n+1)\n",
    "    ...\n",
    "    return circuit"
   ]
  },
  {
   "cell_type": "markdown",
   "id": "34426abd-9cff-4efe-b696-07f26cc7b7a4",
   "metadata": {},
   "source": [
    "Let's have a look to the circuit."
   ]
  },
  {
   "cell_type": "code",
   "execution_count": null,
   "id": "f3f7c0bd-bbfe-43d4-ab81-8fce73440ec0",
   "metadata": {},
   "outputs": [],
   "source": [
    "circuit = build_initial_layer(n=n) + build_oracle(guilty_index=guilty_index, n=n)\n",
    "circuit.draw()"
   ]
  },
  {
   "cell_type": "code",
   "execution_count": null,
   "id": "ec1c669a-d499-42da-8116-ab71e8d17e98",
   "metadata": {},
   "outputs": [],
   "source": [
    "plot(circuit().state())"
   ]
  },
  {
   "cell_type": "markdown",
   "id": "633b9c03-4457-41b5-9093-e5af208f0ab1",
   "metadata": {},
   "source": [
    "Even though the amplitude of the guilty state is flipped, if we look to the probabilies associated to the states of the input register we still collect an equally superposed state."
   ]
  },
  {
   "cell_type": "code",
   "execution_count": null,
   "id": "21d3ee4d-b5d4-45ad-93bf-6e099a5416c6",
   "metadata": {},
   "outputs": [],
   "source": [
    "plot(circuit().state(), probabilities=True)"
   ]
  },
  {
   "cell_type": "markdown",
   "id": "c329f55d-f821-4763-b14d-ef5adddb231b",
   "metadata": {},
   "source": [
    "We need to find a way to amplify the probabiity of the state `01011` so that when we measure the circuit we are most likely to measure that state!"
   ]
  },
  {
   "cell_type": "markdown",
   "id": "0232e4c8-8173-450e-8663-538deebdcbce",
   "metadata": {},
   "source": [
    "#### The diffusion operator\n",
    "\n",
    "The next step in Grover is to implement the diffusion operator, whose effect is to amplify the guilty amplitude while decreasing the others.\n",
    "$$ D = H^{\\otimes n} CPS_0 H^{\\otimes n}$$\n",
    "where $CPS_0$ is a conditional phase shift that flips the sign of all amplitudes but the state $\\ket{0}$\n",
    "$$ CPS_0 \\ket{x} \\rightarrow - (-)^{\\delta_{x0}} \\ket{x} $$.\n",
    "In the following we provide a function to generate the quantum circuit corresponding to the diffuser\n"
   ]
  },
  {
   "cell_type": "code",
   "execution_count": null,
   "id": "ce770931-3987-4e8a-b4fb-068ce28d91a8",
   "metadata": {},
   "outputs": [],
   "source": [
    "def build_diffusion_operator(n):\n",
    "    diffuser = Circuit(n+1)\n",
    "    for i in range(n):\n",
    "        diffuser.add(gates.H(i))\n",
    "    for i in range(n):\n",
    "        diffuser.add(gates.X(i))\n",
    "    diffuser.add(gates.Z(0).controlled_by(*range(1,n)))\n",
    "    for i in range(n):\n",
    "        diffuser.add(gates.X(i))\n",
    "    for i in range(n):\n",
    "        diffuser.add(gates.H(i))\n",
    "    return diffuser"
   ]
  },
  {
   "cell_type": "code",
   "execution_count": null,
   "id": "5a13ab0b-8ac2-4684-ace1-8c3dcbbf9031",
   "metadata": {},
   "outputs": [],
   "source": [
    "circuit = build_initial_layer(n=n) + build_oracle(guilty_index=guilty_index, n=n) + build_diffusion_operator(n)\n",
    "circuit.draw()"
   ]
  },
  {
   "cell_type": "code",
   "execution_count": null,
   "id": "44475a68-eaf7-40ab-8ddb-8b3566896499",
   "metadata": {},
   "outputs": [],
   "source": [
    "plot(circuit().state(), probabilities=True)"
   ]
  },
  {
   "cell_type": "markdown",
   "id": "06d9801b-0ca0-410e-920f-93cf4c25d218",
   "metadata": {},
   "source": [
    "<div style=\"background-color: rgba(255, 105, 105, 0.3); border: 2.5px solid #000000; padding: 15px;\">\n",
    "    <strong>Exercise:</strong> Write a function that given the number of qubits and the number of steps implements the Grover algorithm.\n",
    "    Both the oracle and the diffuser needs to be applied for number of times equals to the number of steps. Remember to add also measurements gates at the end.\n",
    "</div>"
   ]
  },
  {
   "cell_type": "code",
   "execution_count": null,
   "id": "1d99278d-39de-49fd-9d19-5036cdf799f7",
   "metadata": {},
   "outputs": [],
   "source": [
    "def build_grover(n, nsteps):\n",
    "    \"\"\"Build grover circuit with `n` qubits and repeating grover iteration `steps` times.\"\"\"\n",
    "    # n+1 qubits circuit\n",
    "    c = Circuit(n+1)\n",
    "    ...\n",
    "    return c"
   ]
  },
  {
   "cell_type": "code",
   "execution_count": null,
   "id": "6fa545bf-e482-4098-b613-a48666dca3b7",
   "metadata": {},
   "outputs": [],
   "source": [
    "# build grover circuit with nsteps=1\n",
    "c = build_grover(n, 1)\n",
    "\n",
    "# draw the circuit\n",
    "c.draw()"
   ]
  },
  {
   "cell_type": "code",
   "execution_count": null,
   "id": "2b1a2c74-1552-4717-b48e-fd44e8af27ee",
   "metadata": {},
   "outputs": [],
   "source": [
    "plot(c().state(), probabilities=True)"
   ]
  },
  {
   "cell_type": "markdown",
   "id": "3441acda-9519-4381-9c07-82b48fe30691",
   "metadata": {},
   "source": [
    "Now that we have added also measurements gate, we can plot the probabilities given by using a fixed number of shots as we did in the previous tutorial."
   ]
  },
  {
   "cell_type": "code",
   "execution_count": null,
   "id": "f3fade31-fa95-4382-934d-ef2525bc7faf",
   "metadata": {},
   "outputs": [],
   "source": [
    "def visualize_states(counter):\n",
    "    \"\"\"Plot state's frequencies.\"\"\"\n",
    "        \n",
    "    fig, ax = plt.subplots(figsize=(10, 5 * 6/8))\n",
    "    ax.set_title('State visualization')\n",
    "    ax.set_xlabel('States')\n",
    "    ax.set_ylabel('#')\n",
    "    plt.xticks(rotation=90)\n",
    "    n = len(list(counter)[0])\n",
    "    bitstrings = [format(i, f\"0{n}b\") for i in range(2**n)]\n",
    "    for state in bitstrings:\n",
    "        ax.bar(state, counter[state] if state in counter else 0, color='#C194D8', edgecolor=\"black\")"
   ]
  },
  {
   "cell_type": "code",
   "execution_count": null,
   "id": "0b00cb0b-f31e-4a22-a170-a9aa89e23f5a",
   "metadata": {},
   "outputs": [],
   "source": [
    "visualize_states(c(nshots=1000).frequencies())"
   ]
  },
  {
   "cell_type": "code",
   "execution_count": null,
   "id": "58a820f9-0998-4e08-80ea-67f19fd0e34b",
   "metadata": {},
   "outputs": [],
   "source": [
    "# collect frequencies with the current circuit\n",
    "frequencies = c(nshots=1000).frequencies()\n",
    "\n",
    "# write the corresponding probabilities\n",
    "probabilities = []\n",
    "for bitstring in frequencies:\n",
    "    probabilities.append(frequencies[bitstring] / 1000)\n",
    "\n",
    "index = np.argmax(probabilities)\n",
    "print(f\"The guilty state is {bitstrings[index]} with probability {probabilities[index]}, corresponding to {names[index]}!\")"
   ]
  },
  {
   "cell_type": "markdown",
   "id": "e312a4fd-2ad3-4781-9830-8c3e8689b04c",
   "metadata": {},
   "source": [
    "## Scaling of Grover's algorithm"
   ]
  },
  {
   "cell_type": "markdown",
   "id": "1733d798-6bee-47a6-97ae-e2387b2831bf",
   "metadata": {},
   "source": [
    "We expect the optimal number of Grover steps is $\\sim\\pi/4 \\sqrt{M}$ from the theoretical results.\n",
    "Let's check what happens with a growing number of steps."
   ]
  },
  {
   "cell_type": "code",
   "execution_count": null,
   "id": "b0c8334d-c9e2-49dd-a3de-27c6ed0dbb6c",
   "metadata": {},
   "outputs": [],
   "source": [
    "opt = (np.pi / 4) * np.sqrt(2**n) \n",
    "print(f\"Optimal number of steps: {opt}\")"
   ]
  },
  {
   "cell_type": "code",
   "execution_count": null,
   "id": "08f3c085-3d37-4c99-85f7-5312968d66fa",
   "metadata": {},
   "outputs": [],
   "source": [
    "# allocate empty max probabilities list\n",
    "prob_target = []\n",
    "\n",
    "# set the number of experiments, e.g. for nsteps up to 10 and use build_grover(n, nsteps)\n",
    "N = 15\n",
    "\n",
    "# check for number of steps in np.arange(0, nsteps) using the utils.compute_max_probability(c, nshots) function\n",
    "for i in range(N):\n",
    "    c = build_grover(n, i)\n",
    "    probabilities = c(nshots=1000).probabilities(qubits=range(n-1))\n",
    "    prob_target.append(np.max(probabilities))"
   ]
  },
  {
   "cell_type": "code",
   "execution_count": null,
   "id": "52db0149-29c2-4cb7-8ac9-a8cc0d248df2",
   "metadata": {},
   "outputs": [],
   "source": [
    "plt.figure(figsize=(7, 7*4/8))\n",
    "plt.plot(np.arange(0, N), prob_target, ls=\"-\", marker=\".\", markersize=15, alpha=0.6, color=\"purple\")\n",
    "plt.plot(np.arange(0, N), prob_target, ls=\"-\", color=\"black\", label=\"Grover estimation\")\n",
    "plt.vlines(opt, 0, 1.1, color=\"red\", ls=\"--\", label=\"Ideal number of iterations\")\n",
    "plt.xticks(np.arange(1, N+1))\n",
    "plt.title(r\"$|g\\rangle$ probability with Grover steps\")\n",
    "plt.xlabel(\"Number of steps\")\n",
    "plt.ylabel(\"Target probability\")\n",
    "plt.legend()\n",
    "plt.show()"
   ]
  },
  {
   "cell_type": "markdown",
   "id": "8c82453e-053c-4a8e-b6c0-c748368fb838",
   "metadata": {},
   "source": [
    "References\n",
    "\n",
    "[1] [A fast quantum mechanical algorithm for database search, 1996](https://arxiv.org/abs/quant-ph/9605043)\n",
    "\n",
    "[2] [Quantum Computation and Quantum Information, ng, Nielsen, 2000](https://www.cambridge.org/highereducation/books/quantum-computation-and-quantum-information/01E10196D0A682A6AEFFEA52D53BE9AE#overview)"
   ]
  },
  {
   "cell_type": "code",
   "execution_count": null,
   "id": "70eb55c7-14d2-4971-9ee8-e2c336bcdaf9",
   "metadata": {},
   "outputs": [],
   "source": []
  }
 ],
 "metadata": {
  "kernelspec": {
   "display_name": "Python 3 (ipykernel)",
   "language": "python",
   "name": "python3"
  },
  "language_info": {
   "codemirror_mode": {
    "name": "ipython",
    "version": 3
   },
   "file_extension": ".py",
   "mimetype": "text/x-python",
   "name": "python",
   "nbconvert_exporter": "python",
   "pygments_lexer": "ipython3",
   "version": "3.12.6"
  }
 },
 "nbformat": 4,
 "nbformat_minor": 5
}
