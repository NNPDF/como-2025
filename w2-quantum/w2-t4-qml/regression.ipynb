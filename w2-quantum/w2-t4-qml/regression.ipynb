{
 "cells": [
  {
   "cell_type": "markdown",
   "id": "10b6ffc3-a7a6-460e-9777-19e4d08f8ea2",
   "metadata": {},
   "source": [
    "# Quantum Machine Learning Models with *qiboml*\n",
    "\n",
    "Qiboml is an open-source and full-stack quantum machine learning package based on Qibo aiming at:\n",
    "\n",
    "- providing automatically differentiable backends for any Qibo application;\n",
    "- rendering Qibo circuits as differentiable layers of well-known machine learning frameworks such as Tensorflow and Pytorch;\n",
    "\n",
    "## the general structure\n",
    "\n",
    "<img src=\"https://qibo.science/qiboml/stable/_images/qiboml.png\" width=800>\n",
    "\n",
    "## Before starting\n",
    "Make sure you have the most recent version of ``qiboml`` installed and a working version of ``torch`` and ``qibolab``."
   ]
  },
  {
   "cell_type": "code",
   "execution_count": 1,
   "id": "0e8bc1c0-b8c0-46a7-960f-61e99a7c04e2",
   "metadata": {},
   "outputs": [
    {
     "name": "stdout",
     "output_type": "stream",
     "text": [
      "Collecting git+https://github.com/qiboteam/qibo\n",
      "  Cloning https://github.com/qiboteam/qibo to /private/var/folders/sv/99vmv90d60z_v2y05r1wrgzh0000gn/T/pip-req-build-vmq5eraf\n",
      "  Resolved https://github.com/qiboteam/qibo to commit 2db257632c607bb6d1eea61e73c382776089b12a\n",
      "  Installing build dependencies: started\n",
      "  Installing build dependencies: finished with status 'done'\n",
      "  Getting requirements to build wheel: started\n",
      "  Getting requirements to build wheel: finished with status 'done'\n",
      "  Preparing metadata (pyproject.toml): started\n",
      "  Preparing metadata (pyproject.toml): finished with status 'done'\n",
      "Requirement already satisfied: cma<4.0.0,>=3.4.0 in /Users/andrea/python_envs/3.10/lib/python3.10/site-packages (from qibo==0.2.21) (3.4.0)\n",
      "Requirement already satisfied: joblib<2.0.0,>=1.4.2 in /Users/andrea/python_envs/3.10/lib/python3.10/site-packages (from qibo==0.2.21) (1.5.1)\n",
      "Requirement already satisfied: networkx<4.0.0,>=3.2.1 in /Users/andrea/python_envs/3.10/lib/python3.10/site-packages (from qibo==0.2.21) (3.4.2)\n",
      "Requirement already satisfied: numpy<3.0.0,>=2.0.0 in /Users/andrea/python_envs/3.10/lib/python3.10/site-packages (from qibo==0.2.21) (2.2.6)\n",
      "Requirement already satisfied: openqasm3<2.0.0,>=1.0.1 in /Users/andrea/python_envs/3.10/lib/python3.10/site-packages (from openqasm3[parser]<2.0.0,>=1.0.1->qibo==0.2.21) (1.0.1)\n",
      "Requirement already satisfied: optuna<5.0.0,>=4.2.1 in /Users/andrea/python_envs/3.10/lib/python3.10/site-packages (from qibo==0.2.21) (4.4.0)\n",
      "Requirement already satisfied: scipy<2.0.0,>=1.15.2 in /Users/andrea/python_envs/3.10/lib/python3.10/site-packages (from qibo==0.2.21) (1.15.3)\n",
      "Requirement already satisfied: sympy<2.0.0,>=1.13.1 in /Users/andrea/python_envs/3.10/lib/python3.10/site-packages (from qibo==0.2.21) (1.14.0)\n",
      "Requirement already satisfied: tabulate<0.10.0,>=0.9.0 in /Users/andrea/python_envs/3.10/lib/python3.10/site-packages (from qibo==0.2.21) (0.9.0)\n",
      "Requirement already satisfied: antlr4_python3_runtime<4.14,>=4.7 in /Users/andrea/python_envs/3.10/lib/python3.10/site-packages (from openqasm3[parser]<2.0.0,>=1.0.1->qibo==0.2.21) (4.13.2)\n",
      "Requirement already satisfied: alembic>=1.5.0 in /Users/andrea/python_envs/3.10/lib/python3.10/site-packages (from optuna<5.0.0,>=4.2.1->qibo==0.2.21) (1.16.2)\n",
      "Requirement already satisfied: colorlog in /Users/andrea/python_envs/3.10/lib/python3.10/site-packages (from optuna<5.0.0,>=4.2.1->qibo==0.2.21) (6.9.0)\n",
      "Requirement already satisfied: packaging>=20.0 in /Users/andrea/python_envs/3.10/lib/python3.10/site-packages (from optuna<5.0.0,>=4.2.1->qibo==0.2.21) (25.0)\n",
      "Requirement already satisfied: sqlalchemy>=1.4.2 in /Users/andrea/python_envs/3.10/lib/python3.10/site-packages (from optuna<5.0.0,>=4.2.1->qibo==0.2.21) (2.0.41)\n",
      "Requirement already satisfied: tqdm in /Users/andrea/python_envs/3.10/lib/python3.10/site-packages (from optuna<5.0.0,>=4.2.1->qibo==0.2.21) (4.67.1)\n",
      "Requirement already satisfied: PyYAML in /Users/andrea/python_envs/3.10/lib/python3.10/site-packages (from optuna<5.0.0,>=4.2.1->qibo==0.2.21) (6.0.2)\n",
      "Requirement already satisfied: mpmath<1.4,>=1.1.0 in /Users/andrea/python_envs/3.10/lib/python3.10/site-packages (from sympy<2.0.0,>=1.13.1->qibo==0.2.21) (1.3.0)\n",
      "Requirement already satisfied: Mako in /Users/andrea/python_envs/3.10/lib/python3.10/site-packages (from alembic>=1.5.0->optuna<5.0.0,>=4.2.1->qibo==0.2.21) (1.3.10)\n",
      "Requirement already satisfied: typing-extensions>=4.12 in /Users/andrea/python_envs/3.10/lib/python3.10/site-packages (from alembic>=1.5.0->optuna<5.0.0,>=4.2.1->qibo==0.2.21) (4.14.0)\n",
      "Requirement already satisfied: tomli in /Users/andrea/python_envs/3.10/lib/python3.10/site-packages (from alembic>=1.5.0->optuna<5.0.0,>=4.2.1->qibo==0.2.21) (2.2.1)\n",
      "Requirement already satisfied: MarkupSafe>=0.9.2 in /Users/andrea/python_envs/3.10/lib/python3.10/site-packages (from Mako->alembic>=1.5.0->optuna<5.0.0,>=4.2.1->qibo==0.2.21) (3.0.2)\n",
      "Collecting git+https://github.com/qiboteam/qiboml\n",
      "  Cloning https://github.com/qiboteam/qiboml to /private/var/folders/sv/99vmv90d60z_v2y05r1wrgzh0000gn/T/pip-req-build-9nw_a5ik\n",
      "  Resolved https://github.com/qiboteam/qiboml to commit 32edca90f65f75dfae6ce5a9c6190d2bac490b96\n",
      "  Installing build dependencies: started\n",
      "  Installing build dependencies: finished with status 'done'\n",
      "  Getting requirements to build wheel: started\n",
      "  Getting requirements to build wheel: finished with status 'done'\n",
      "  Preparing metadata (pyproject.toml): started\n",
      "  Preparing metadata (pyproject.toml): finished with status 'done'\n",
      "Requirement already satisfied: jax<0.5.0,>=0.4.25 in /Users/andrea/python_envs/3.10/lib/python3.10/site-packages (from qiboml==0.0.3) (0.4.38)\n",
      "Requirement already satisfied: jaxlib<0.5.0,>=0.4.25 in /Users/andrea/python_envs/3.10/lib/python3.10/site-packages (from qiboml==0.0.3) (0.4.38)\n",
      "Requirement already satisfied: numpy<3.0.0,>=2.0.0 in /Users/andrea/python_envs/3.10/lib/python3.10/site-packages (from qiboml==0.0.3) (2.2.6)\n",
      "Requirement already satisfied: qibo<0.3.0,>=0.2.17 in /Users/andrea/python_envs/3.10/lib/python3.10/site-packages (from qiboml==0.0.3) (0.2.21)\n",
      "Requirement already satisfied: ml_dtypes>=0.4.0 in /Users/andrea/python_envs/3.10/lib/python3.10/site-packages (from jax<0.5.0,>=0.4.25->qiboml==0.0.3) (0.5.1)\n",
      "Requirement already satisfied: opt_einsum in /Users/andrea/python_envs/3.10/lib/python3.10/site-packages (from jax<0.5.0,>=0.4.25->qiboml==0.0.3) (3.4.0)\n",
      "Requirement already satisfied: scipy>=1.10 in /Users/andrea/python_envs/3.10/lib/python3.10/site-packages (from jax<0.5.0,>=0.4.25->qiboml==0.0.3) (1.15.3)\n",
      "Requirement already satisfied: cma<4.0.0,>=3.4.0 in /Users/andrea/python_envs/3.10/lib/python3.10/site-packages (from qibo<0.3.0,>=0.2.17->qiboml==0.0.3) (3.4.0)\n",
      "Requirement already satisfied: joblib<2.0.0,>=1.4.2 in /Users/andrea/python_envs/3.10/lib/python3.10/site-packages (from qibo<0.3.0,>=0.2.17->qiboml==0.0.3) (1.5.1)\n",
      "Requirement already satisfied: networkx<4.0.0,>=3.2.1 in /Users/andrea/python_envs/3.10/lib/python3.10/site-packages (from qibo<0.3.0,>=0.2.17->qiboml==0.0.3) (3.4.2)\n",
      "Requirement already satisfied: openqasm3<2.0.0,>=1.0.1 in /Users/andrea/python_envs/3.10/lib/python3.10/site-packages (from openqasm3[parser]<2.0.0,>=1.0.1->qibo<0.3.0,>=0.2.17->qiboml==0.0.3) (1.0.1)\n",
      "Requirement already satisfied: optuna<5.0.0,>=4.2.1 in /Users/andrea/python_envs/3.10/lib/python3.10/site-packages (from qibo<0.3.0,>=0.2.17->qiboml==0.0.3) (4.4.0)\n",
      "Requirement already satisfied: sympy<2.0.0,>=1.13.1 in /Users/andrea/python_envs/3.10/lib/python3.10/site-packages (from qibo<0.3.0,>=0.2.17->qiboml==0.0.3) (1.14.0)\n",
      "Requirement already satisfied: tabulate<0.10.0,>=0.9.0 in /Users/andrea/python_envs/3.10/lib/python3.10/site-packages (from qibo<0.3.0,>=0.2.17->qiboml==0.0.3) (0.9.0)\n",
      "Requirement already satisfied: antlr4_python3_runtime<4.14,>=4.7 in /Users/andrea/python_envs/3.10/lib/python3.10/site-packages (from openqasm3[parser]<2.0.0,>=1.0.1->qibo<0.3.0,>=0.2.17->qiboml==0.0.3) (4.13.2)\n",
      "Requirement already satisfied: alembic>=1.5.0 in /Users/andrea/python_envs/3.10/lib/python3.10/site-packages (from optuna<5.0.0,>=4.2.1->qibo<0.3.0,>=0.2.17->qiboml==0.0.3) (1.16.2)\n",
      "Requirement already satisfied: colorlog in /Users/andrea/python_envs/3.10/lib/python3.10/site-packages (from optuna<5.0.0,>=4.2.1->qibo<0.3.0,>=0.2.17->qiboml==0.0.3) (6.9.0)\n",
      "Requirement already satisfied: packaging>=20.0 in /Users/andrea/python_envs/3.10/lib/python3.10/site-packages (from optuna<5.0.0,>=4.2.1->qibo<0.3.0,>=0.2.17->qiboml==0.0.3) (25.0)\n",
      "Requirement already satisfied: sqlalchemy>=1.4.2 in /Users/andrea/python_envs/3.10/lib/python3.10/site-packages (from optuna<5.0.0,>=4.2.1->qibo<0.3.0,>=0.2.17->qiboml==0.0.3) (2.0.41)\n",
      "Requirement already satisfied: tqdm in /Users/andrea/python_envs/3.10/lib/python3.10/site-packages (from optuna<5.0.0,>=4.2.1->qibo<0.3.0,>=0.2.17->qiboml==0.0.3) (4.67.1)\n",
      "Requirement already satisfied: PyYAML in /Users/andrea/python_envs/3.10/lib/python3.10/site-packages (from optuna<5.0.0,>=4.2.1->qibo<0.3.0,>=0.2.17->qiboml==0.0.3) (6.0.2)\n",
      "Requirement already satisfied: mpmath<1.4,>=1.1.0 in /Users/andrea/python_envs/3.10/lib/python3.10/site-packages (from sympy<2.0.0,>=1.13.1->qibo<0.3.0,>=0.2.17->qiboml==0.0.3) (1.3.0)\n",
      "Requirement already satisfied: Mako in /Users/andrea/python_envs/3.10/lib/python3.10/site-packages (from alembic>=1.5.0->optuna<5.0.0,>=4.2.1->qibo<0.3.0,>=0.2.17->qiboml==0.0.3) (1.3.10)\n",
      "Requirement already satisfied: typing-extensions>=4.12 in /Users/andrea/python_envs/3.10/lib/python3.10/site-packages (from alembic>=1.5.0->optuna<5.0.0,>=4.2.1->qibo<0.3.0,>=0.2.17->qiboml==0.0.3) (4.14.0)\n",
      "Requirement already satisfied: tomli in /Users/andrea/python_envs/3.10/lib/python3.10/site-packages (from alembic>=1.5.0->optuna<5.0.0,>=4.2.1->qibo<0.3.0,>=0.2.17->qiboml==0.0.3) (2.2.1)\n",
      "Requirement already satisfied: MarkupSafe>=0.9.2 in /Users/andrea/python_envs/3.10/lib/python3.10/site-packages (from Mako->alembic>=1.5.0->optuna<5.0.0,>=4.2.1->qibo<0.3.0,>=0.2.17->qiboml==0.0.3) (3.0.2)\n",
      "Requirement already satisfied: torch in /Users/andrea/python_envs/3.10/lib/python3.10/site-packages (2.7.0)\n",
      "Requirement already satisfied: filelock in /Users/andrea/python_envs/3.10/lib/python3.10/site-packages (from torch) (3.18.0)\n",
      "Requirement already satisfied: typing-extensions>=4.10.0 in /Users/andrea/python_envs/3.10/lib/python3.10/site-packages (from torch) (4.14.0)\n",
      "Requirement already satisfied: sympy>=1.13.3 in /Users/andrea/python_envs/3.10/lib/python3.10/site-packages (from torch) (1.14.0)\n",
      "Requirement already satisfied: networkx in /Users/andrea/python_envs/3.10/lib/python3.10/site-packages (from torch) (3.4.2)\n",
      "Requirement already satisfied: jinja2 in /Users/andrea/python_envs/3.10/lib/python3.10/site-packages (from torch) (3.1.6)\n",
      "Requirement already satisfied: fsspec in /Users/andrea/python_envs/3.10/lib/python3.10/site-packages (from torch) (2025.5.1)\n",
      "Requirement already satisfied: mpmath<1.4,>=1.1.0 in /Users/andrea/python_envs/3.10/lib/python3.10/site-packages (from sympy>=1.13.3->torch) (1.3.0)\n",
      "Requirement already satisfied: MarkupSafe>=2.0 in /Users/andrea/python_envs/3.10/lib/python3.10/site-packages (from jinja2->torch) (3.0.2)\n",
      "Requirement already satisfied: qibolab[emulator] in /Users/andrea/python_envs/3.10/lib/python3.10/site-packages (0.2.7)\n",
      "Requirement already satisfied: numpy<3,>=1.26.4 in /Users/andrea/python_envs/3.10/lib/python3.10/site-packages (from qibolab[emulator]) (2.2.6)\n",
      "Requirement already satisfied: pydantic<3.0.0,>=2.6.4 in /Users/andrea/python_envs/3.10/lib/python3.10/site-packages (from qibolab[emulator]) (2.11.5)\n",
      "Requirement already satisfied: qibo<0.3.0,>=0.2.16 in /Users/andrea/python_envs/3.10/lib/python3.10/site-packages (from qibolab[emulator]) (0.2.21)\n",
      "Requirement already satisfied: scipy<2.0.0,>=1.13.0 in /Users/andrea/python_envs/3.10/lib/python3.10/site-packages (from qibolab[emulator]) (1.15.3)\n",
      "Requirement already satisfied: qutip<6.0.0,>=5.0.2 in /Users/andrea/python_envs/3.10/lib/python3.10/site-packages (from qibolab[emulator]) (5.1.1)\n",
      "Requirement already satisfied: annotated-types>=0.6.0 in /Users/andrea/python_envs/3.10/lib/python3.10/site-packages (from pydantic<3.0.0,>=2.6.4->qibolab[emulator]) (0.7.0)\n",
      "Requirement already satisfied: pydantic-core==2.33.2 in /Users/andrea/python_envs/3.10/lib/python3.10/site-packages (from pydantic<3.0.0,>=2.6.4->qibolab[emulator]) (2.33.2)\n",
      "Requirement already satisfied: typing-extensions>=4.12.2 in /Users/andrea/python_envs/3.10/lib/python3.10/site-packages (from pydantic<3.0.0,>=2.6.4->qibolab[emulator]) (4.14.0)\n",
      "Requirement already satisfied: typing-inspection>=0.4.0 in /Users/andrea/python_envs/3.10/lib/python3.10/site-packages (from pydantic<3.0.0,>=2.6.4->qibolab[emulator]) (0.4.1)\n",
      "Requirement already satisfied: cma<4.0.0,>=3.4.0 in /Users/andrea/python_envs/3.10/lib/python3.10/site-packages (from qibo<0.3.0,>=0.2.16->qibolab[emulator]) (3.4.0)\n",
      "Requirement already satisfied: joblib<2.0.0,>=1.4.2 in /Users/andrea/python_envs/3.10/lib/python3.10/site-packages (from qibo<0.3.0,>=0.2.16->qibolab[emulator]) (1.5.1)\n",
      "Requirement already satisfied: networkx<4.0.0,>=3.2.1 in /Users/andrea/python_envs/3.10/lib/python3.10/site-packages (from qibo<0.3.0,>=0.2.16->qibolab[emulator]) (3.4.2)\n",
      "Requirement already satisfied: openqasm3<2.0.0,>=1.0.1 in /Users/andrea/python_envs/3.10/lib/python3.10/site-packages (from openqasm3[parser]<2.0.0,>=1.0.1->qibo<0.3.0,>=0.2.16->qibolab[emulator]) (1.0.1)\n",
      "Requirement already satisfied: optuna<5.0.0,>=4.2.1 in /Users/andrea/python_envs/3.10/lib/python3.10/site-packages (from qibo<0.3.0,>=0.2.16->qibolab[emulator]) (4.4.0)\n",
      "Requirement already satisfied: sympy<2.0.0,>=1.13.1 in /Users/andrea/python_envs/3.10/lib/python3.10/site-packages (from qibo<0.3.0,>=0.2.16->qibolab[emulator]) (1.14.0)\n",
      "Requirement already satisfied: tabulate<0.10.0,>=0.9.0 in /Users/andrea/python_envs/3.10/lib/python3.10/site-packages (from qibo<0.3.0,>=0.2.16->qibolab[emulator]) (0.9.0)\n",
      "Requirement already satisfied: packaging in /Users/andrea/python_envs/3.10/lib/python3.10/site-packages (from qutip<6.0.0,>=5.0.2->qibolab[emulator]) (25.0)\n",
      "Requirement already satisfied: antlr4_python3_runtime<4.14,>=4.7 in /Users/andrea/python_envs/3.10/lib/python3.10/site-packages (from openqasm3[parser]<2.0.0,>=1.0.1->qibo<0.3.0,>=0.2.16->qibolab[emulator]) (4.13.2)\n",
      "Requirement already satisfied: alembic>=1.5.0 in /Users/andrea/python_envs/3.10/lib/python3.10/site-packages (from optuna<5.0.0,>=4.2.1->qibo<0.3.0,>=0.2.16->qibolab[emulator]) (1.16.2)\n",
      "Requirement already satisfied: colorlog in /Users/andrea/python_envs/3.10/lib/python3.10/site-packages (from optuna<5.0.0,>=4.2.1->qibo<0.3.0,>=0.2.16->qibolab[emulator]) (6.9.0)\n",
      "Requirement already satisfied: sqlalchemy>=1.4.2 in /Users/andrea/python_envs/3.10/lib/python3.10/site-packages (from optuna<5.0.0,>=4.2.1->qibo<0.3.0,>=0.2.16->qibolab[emulator]) (2.0.41)\n",
      "Requirement already satisfied: tqdm in /Users/andrea/python_envs/3.10/lib/python3.10/site-packages (from optuna<5.0.0,>=4.2.1->qibo<0.3.0,>=0.2.16->qibolab[emulator]) (4.67.1)\n",
      "Requirement already satisfied: PyYAML in /Users/andrea/python_envs/3.10/lib/python3.10/site-packages (from optuna<5.0.0,>=4.2.1->qibo<0.3.0,>=0.2.16->qibolab[emulator]) (6.0.2)\n",
      "Requirement already satisfied: mpmath<1.4,>=1.1.0 in /Users/andrea/python_envs/3.10/lib/python3.10/site-packages (from sympy<2.0.0,>=1.13.1->qibo<0.3.0,>=0.2.16->qibolab[emulator]) (1.3.0)\n",
      "Requirement already satisfied: Mako in /Users/andrea/python_envs/3.10/lib/python3.10/site-packages (from alembic>=1.5.0->optuna<5.0.0,>=4.2.1->qibo<0.3.0,>=0.2.16->qibolab[emulator]) (1.3.10)\n",
      "Requirement already satisfied: tomli in /Users/andrea/python_envs/3.10/lib/python3.10/site-packages (from alembic>=1.5.0->optuna<5.0.0,>=4.2.1->qibo<0.3.0,>=0.2.16->qibolab[emulator]) (2.2.1)\n",
      "Requirement already satisfied: MarkupSafe>=0.9.2 in /Users/andrea/python_envs/3.10/lib/python3.10/site-packages (from Mako->alembic>=1.5.0->optuna<5.0.0,>=4.2.1->qibo<0.3.0,>=0.2.16->qibolab[emulator]) (3.0.2)\n"
     ]
    },
    {
     "name": "stderr",
     "output_type": "stream",
     "text": [
      "  Running command git clone --filter=blob:none --quiet https://github.com/qiboteam/qibo /private/var/folders/sv/99vmv90d60z_v2y05r1wrgzh0000gn/T/pip-req-build-vmq5eraf\n",
      "\n",
      "\u001b[1m[\u001b[0m\u001b[34;49mnotice\u001b[0m\u001b[1;39;49m]\u001b[0m\u001b[39;49m A new release of pip is available: \u001b[0m\u001b[31;49m25.0\u001b[0m\u001b[39;49m -> \u001b[0m\u001b[32;49m25.1.1\u001b[0m\n",
      "\u001b[1m[\u001b[0m\u001b[34;49mnotice\u001b[0m\u001b[1;39;49m]\u001b[0m\u001b[39;49m To update, run: \u001b[0m\u001b[32;49mpip install --upgrade pip\u001b[0m\n",
      "  Running command git clone --filter=blob:none --quiet https://github.com/qiboteam/qiboml /private/var/folders/sv/99vmv90d60z_v2y05r1wrgzh0000gn/T/pip-req-build-9nw_a5ik\n",
      "\n",
      "\u001b[1m[\u001b[0m\u001b[34;49mnotice\u001b[0m\u001b[1;39;49m]\u001b[0m\u001b[39;49m A new release of pip is available: \u001b[0m\u001b[31;49m25.0\u001b[0m\u001b[39;49m -> \u001b[0m\u001b[32;49m25.1.1\u001b[0m\n",
      "\u001b[1m[\u001b[0m\u001b[34;49mnotice\u001b[0m\u001b[1;39;49m]\u001b[0m\u001b[39;49m To update, run: \u001b[0m\u001b[32;49mpip install --upgrade pip\u001b[0m\n",
      "\n",
      "\u001b[1m[\u001b[0m\u001b[34;49mnotice\u001b[0m\u001b[1;39;49m]\u001b[0m\u001b[39;49m A new release of pip is available: \u001b[0m\u001b[31;49m25.0\u001b[0m\u001b[39;49m -> \u001b[0m\u001b[32;49m25.1.1\u001b[0m\n",
      "\u001b[1m[\u001b[0m\u001b[34;49mnotice\u001b[0m\u001b[1;39;49m]\u001b[0m\u001b[39;49m To update, run: \u001b[0m\u001b[32;49mpip install --upgrade pip\u001b[0m\n",
      "\n",
      "\u001b[1m[\u001b[0m\u001b[34;49mnotice\u001b[0m\u001b[1;39;49m]\u001b[0m\u001b[39;49m A new release of pip is available: \u001b[0m\u001b[31;49m25.0\u001b[0m\u001b[39;49m -> \u001b[0m\u001b[32;49m25.1.1\u001b[0m\n",
      "\u001b[1m[\u001b[0m\u001b[34;49mnotice\u001b[0m\u001b[1;39;49m]\u001b[0m\u001b[39;49m To update, run: \u001b[0m\u001b[32;49mpip install --upgrade pip\u001b[0m\n"
     ]
    }
   ],
   "source": [
    "%%bash\n",
    "\n",
    "# make sure you have installed the most recent versions!\n",
    "\n",
    "pip install git+https://github.com/qiboteam/qibo#\n",
    "pip install git+https://github.com/qiboteam/qiboml#\n",
    "pip install torch\n",
    "pip install qibolab[emulator]"
   ]
  },
  {
   "cell_type": "markdown",
   "id": "c44ec1ec-f4a6-4de4-9af2-913c22418b33",
   "metadata": {},
   "source": [
    "# Data regression through a Reuploading model\n",
    "\n",
    "In this tutorial we show how to setup and train a quantum machine learning model implementing a Data Reuploading strategy.\n",
    "We will make use of our interface to structure a quantum circuit which is composed of an alternating execution of trainable and encoding layers.\n",
    "\n",
    "In fact, the main idea behind data reuploading strategies is that data are encoded more than once into our quantum machine learning model. This approach usually leads to a quantum circuit which is approximating a target in a way which is equivalent to a Fourier approximation. In particular, the number of times the data are uploaded is proportional to the number of frequencies populating the Fourier spectrum and the parametrized part of the circuit is responsible of the tuning of the coefficients of this same Fourier series. For more details, a good reference is [Schuld M., Sweke R., Meyer J. - 2021](https://arxiv.org/abs/2008.08605).\n",
    "\n",
    "<img src=\"./figures/reuploading.svg\" width=\"600\" height=\"200\" alt=\"My Image\">"
   ]
  },
  {
   "cell_type": "markdown",
   "id": "75aa168a-a6b1-468e-8302-e5864e08937e",
   "metadata": {},
   "source": [
    "### Some imports"
   ]
  },
  {
   "cell_type": "code",
   "execution_count": 2,
   "id": "d98894d1-7544-4f37-97a6-b668c326cb9e",
   "metadata": {},
   "outputs": [],
   "source": [
    "# Let's do the imports first\n",
    "\n",
    "import torch\n",
    "torch.set_default_dtype(torch.float64)\n",
    "import numpy as np\n",
    "import matplotlib.pyplot as plt\n",
    "import os\n",
    "\n",
    "import torch.optim as optim\n",
    "import torch.nn as nn\n",
    "\n",
    "from qibo import Circuit, gates, construct_backend, set_backend\n",
    "from qibo.hamiltonians import Z\n",
    "from qibo.transpiler import Passes, NativeGates, Unroller\n",
    "\n",
    "from qibolab import create_platform\n",
    "\n",
    "from qiboml.models.encoding import PhaseEncoding\n",
    "from qiboml.models.ansatze import HardwareEfficient\n",
    "from qiboml.models.decoding import Expectation\n",
    "from qiboml.interfaces.pytorch import QuantumModel\n",
    "from qiboml.operations.differentiation import PSR"
   ]
  },
  {
   "cell_type": "markdown",
   "id": "5818cd1b-3ca0-4067-8730-b1a05b66e888",
   "metadata": {},
   "source": [
    "### The target function to be fitted\n",
    "\n",
    "To the purpose of this introductory example, we are going to fit a one-dimensional function."
   ]
  },
  {
   "cell_type": "code",
   "execution_count": 3,
   "id": "8da88063-ec11-4680-ae89-d1ba5bd0c327",
   "metadata": {},
   "outputs": [],
   "source": [
    "# Prepare the training dataset \n",
    "def f(x):\n",
    "    return 1 * torch.sin(x)  ** 2 - 0.3 * torch.cos(x) \n",
    "\n",
    "num_samples = 30\n",
    "x_train = torch.linspace(0, 2 * np.pi, num_samples, dtype=torch.float64).unsqueeze(1)\n",
    "y_train = f(x_train)\n",
    "\n",
    "# Normalizing it to be between -1 and 1 (because we are going to use a Z observable in our decoding)\n",
    "y_train = 2 * ( (y_train - min(y_train)) / (max(y_train) - min(y_train)) - 0.5 )"
   ]
  },
  {
   "cell_type": "code",
   "execution_count": 4,
   "id": "eb7679a7-2ef1-495b-a563-2d56a7ed00f0",
   "metadata": {},
   "outputs": [],
   "source": [
    "# A plotting function which will be useful now and later\n",
    "def plot_target(x, target, predictions=None):\n",
    "    \"\"\"Plot target function and, optionally, the predictions of our model.\"\"\"\n",
    "    plt.figure(figsize=(4, 4 * 6 / 8), dpi=120)\n",
    "    plt.plot(\n",
    "        x_train.detach().cpu().numpy(), \n",
    "        y_train.detach().cpu().numpy(),\n",
    "        marker=\".\",\n",
    "        markersize=10,\n",
    "        color=\"blue\", \n",
    "        label=\"Targets\",\n",
    "        alpha=0.7\n",
    "    )\n",
    "    if predictions is not None:\n",
    "        plt.plot(\n",
    "            x_train.detach().cpu().numpy(), \n",
    "            y_pred.detach().cpu().numpy(), \n",
    "            marker=\".\",\n",
    "            markersize=10,\n",
    "            color=\"red\", \n",
    "            label=\"Predictions\",\n",
    "            alpha=0.7\n",
    "        )\n",
    "    plt.xlabel(r\"$x$\")\n",
    "    plt.ylabel(r\"$f(x)$\")\n",
    "    plt.legend()\n",
    "    plt.show()"
   ]
  },
  {
   "cell_type": "code",
   "execution_count": 5,
   "id": "4783d94c-9fb6-4849-a884-05c070988e57",
   "metadata": {},
   "outputs": [
    {
     "data": {
      "image/png": "[encoded data removed]",
      "text/plain": [
       "<Figure size 480x360 with 1 Axes>"
      ]
     },
     "metadata": {},
     "output_type": "display_data"
    }
   ],
   "source": [
    "# Plotting\n",
    "plot_target(x=x_train, target=y_train)"
   ]
  },
  {
   "cell_type": "markdown",
   "id": "8165b197-fa43-46d0-b9a4-692ea64790e4",
   "metadata": {},
   "source": [
    "### The model's building blocks\n",
    "\n",
    "We now need to construct our QML model, composed by three main building blocks: encoding layers, trainable layers and decoding.\n",
    "Since we are going to fit a one dimensional function we will need just one qubit.\n",
    "\n",
    "### Encoder\n",
    "Let's start from the encoding layer. The ``PhaseEncoding`` object allows us to encode data into a single qubit rotation around the $x$ axis."
   ]
  },
  {
   "cell_type": "code",
   "execution_count": 6,
   "id": "6dfd3479-6de8-4f1a-8c82-8fd83fb294c7",
   "metadata": {},
   "outputs": [
    {
     "data": {
      "text/plain": [
       "PhaseEncoding(nqubits=1, qubits=(0,), density_matrix=False, _circuit=<qibo.models.circuit.Circuit object at 0x311af6ce0>, encoding_gate=<class 'qibo.gates.gates.RX'>)"
      ]
     },
     "execution_count": 6,
     "metadata": {},
     "output_type": "execute_result"
    }
   ],
   "source": [
    "# Setting the number of qubits\n",
    "nqubits = 1\n",
    "\n",
    "# Encoding layer\n",
    "encoding_circ = PhaseEncoding(\n",
    "    nqubits=nqubits, \n",
    "    encoding_gate=gates.RX\n",
    ")\n",
    "encoding_circ"
   ]
  },
  {
   "cell_type": "markdown",
   "id": "298bfb7e-3753-451b-b255-ad6b6a13448b",
   "metadata": {},
   "source": [
    "### Trainable layer\n",
    "Then, we need to define a trainable circuit layer. For instance, we can use the ``HardwareEfficient`` ansatz for convenience, but any parametric quantum circuit would do."
   ]
  },
  {
   "cell_type": "code",
   "execution_count": 7,
   "id": "756852e1-9b55-4aa2-8bfa-4ace2033b577",
   "metadata": {},
   "outputs": [
    {
     "name": "stdout",
     "output_type": "stream",
     "text": [
      "0: ─RY─RZ─\n"
     ]
    }
   ],
   "source": [
    "# Trainable layer\n",
    "trainable_circuit = HardwareEfficient(nqubits=nqubits, nlayers=1)\n",
    "trainable_circuit.draw()"
   ]
  },
  {
   "cell_type": "markdown",
   "id": "2d5b825d-895e-4901-bdca-60d6de3c7619",
   "metadata": {},
   "source": [
    "### Composing the Reuploading pattern\n",
    "\n",
    "Let's combine now together the encoding layers and the trainable layers to build the reuploading model. \n",
    "- **Note:** make sure that the instances of the trainable layers are different objects, or Pytorch will train all the layers as they are references to the same object (with the same parameters)."
   ]
  },
  {
   "cell_type": "code",
   "execution_count": 8,
   "id": "fe466373-9037-4278-b085-5e5eff825b79",
   "metadata": {},
   "outputs": [],
   "source": [
    "# We set a number of layers\n",
    "nlayers = 2\n",
    "\n",
    "# We initialise an empty circuit structure\n",
    "circuit_structure = []\n",
    "# We populate it with alternation of encoding (always the same) and trainable layers (always a new instance)\n",
    "for _ in range(nlayers):\n",
    "    circuit_structure.extend([encoding_circ, trainable_circuit.copy(True)])"
   ]
  },
  {
   "cell_type": "markdown",
   "id": "4d01ccdc-b536-4f1b-ab63-45a1deaeb2a4",
   "metadata": {},
   "source": [
    "### Decoder\n",
    "Last but not least, a decoding strategy needs to be defined to extract the classical information from the final quantum state. A quite common choice is to compute the expectation value of an observable. In particular, the ``Expectation`` decoder object computes by default the expectation value of a non interacting Z hamiltonian. \n",
    "\n",
    "Before creating the decoder, remember to set the backend you wish to run with, for instance by using the ``torch`` backend with the ``torch`` interface we ensure that pytorch's native autodifferentiation is used. \n"
   ]
  },
  {
   "cell_type": "code",
   "execution_count": 9,
   "id": "83ff156c-1ff3-4313-be34-648cd38c15e5",
   "metadata": {},
   "outputs": [
    {
     "name": "stderr",
     "output_type": "stream",
     "text": [
      "[Qibo 0.2.21|INFO|2025-07-24 13:05:25]: Using qiboml (pytorch) backend on cpu\n"
     ]
    }
   ],
   "source": [
    "# set the execution backend\n",
    "set_backend(\"qiboml\", platform=\"pytorch\")\n",
    "\n",
    "# Decoding layer\n",
    "decoding_circ = Expectation(\n",
    "    nqubits=nqubits,\n",
    "    observable=Z(nqubits), # this is the default choice anyway\n",
    ")"
   ]
  },
  {
   "cell_type": "markdown",
   "id": "04141478-b36a-4e71-97dd-c0982e6fc267",
   "metadata": {},
   "source": [
    "### The complete Quantum Model\n",
    "\n",
    "Finally, we can assemble the whole quantum model using ``qiboml``'s pytorch interface."
   ]
  },
  {
   "cell_type": "code",
   "execution_count": 10,
   "id": "a9aa0a5d-e817-4e1a-a6e2-81ec87a09984",
   "metadata": {},
   "outputs": [
    {
     "data": {
      "image/png": "[encoded data removed]",
      "text/plain": [
       "<Figure size 360x60 with 1 Axes>"
      ]
     },
     "metadata": {},
     "output_type": "display_data"
    }
   ],
   "source": [
    "# The whole model, this is a torch.nn.Module object\n",
    "model = QuantumModel(\n",
    "    circuit_structure=circuit_structure,\n",
    "    decoding=decoding_circ,\n",
    ")\n",
    "\n",
    "# Let's draw it\n",
    "fig = model.draw()"
   ]
  },
  {
   "cell_type": "markdown",
   "id": "6fbcfa4b-968a-47a1-bf65-8295ee4480f1",
   "metadata": {},
   "source": [
    "### Use Pytorch to train it!\n",
    "\n",
    "Now, we can setup a standard Pytorch training loop to find an optimal quantum circuit for fitting our target function. \n",
    "\n",
    "We start by selecting a desired optimizer and cost function:"
   ]
  },
  {
   "cell_type": "code",
   "execution_count": 11,
   "id": "fdfc2f01-13d5-42ab-b3ba-fe62025950bd",
   "metadata": {},
   "outputs": [],
   "source": [
    "optimizer = optim.Adam(model.parameters(), lr=0.1)\n",
    "criterion = nn.MSELoss()"
   ]
  },
  {
   "cell_type": "markdown",
   "id": "34fbdefc-8907-4259-a36f-9eef09b168be",
   "metadata": {},
   "source": [
    "then, we move everything to the correct device (GPU if available, CPU otherwise):"
   ]
  },
  {
   "cell_type": "code",
   "execution_count": 12,
   "id": "96904d2d-dc79-4e50-9215-b4eccdb220a1",
   "metadata": {},
   "outputs": [],
   "source": [
    "dev = torch.device(\"cuda:0\") if torch.cuda.is_available() else torch.device(\"cpu\")\n",
    "model = model.to(dev)\n",
    "x_train = x_train.to(dev)\n",
    "y_train = y_train.to(dev)"
   ]
  },
  {
   "cell_type": "markdown",
   "id": "9cd5fa8a-7416-4432-8ad7-86975c417a6c",
   "metadata": {},
   "source": [
    "And we then perform a classical training loop."
   ]
  },
  {
   "cell_type": "code",
   "execution_count": 13,
   "id": "07a15857-ff5e-409e-839d-dc91ae413932",
   "metadata": {},
   "outputs": [
    {
     "name": "stdout",
     "output_type": "stream",
     "text": [
      "Epoch 0: Loss = 0.3550123505405033\n",
      "Epoch 10: Loss = 0.030175918750146493\n",
      "Epoch 20: Loss = 0.0198900748762263\n",
      "Epoch 30: Loss = 0.007659873231912536\n",
      "Epoch 40: Loss = 0.006205906477970969\n",
      "Epoch 50: Loss = 0.005224102897095295\n",
      "Epoch 60: Loss = 0.00502406864932085\n",
      "Epoch 70: Loss = 0.004599534974185885\n",
      "Epoch 80: Loss = 0.004601837149385693\n",
      "Epoch 90: Loss = 0.004568968387985319\n"
     ]
    }
   ],
   "source": [
    "epochs = 100\n",
    "for epoch in range(epochs):\n",
    "    optimizer.zero_grad()\n",
    "    # Use torch.stack to get a tensor of shape (100, 1, 1)\n",
    "    y_pred = torch.stack([model(x) for x in x_train])\n",
    "    # Remove the extra singleton dimension so that y_pred has shape (100, 1)\n",
    "    y_pred = y_pred.squeeze(-1)\n",
    "    \n",
    "    loss = criterion(y_pred, y_train)\n",
    "    loss.backward()\n",
    "    optimizer.step()    \n",
    "    if epoch % 10 == 0:\n",
    "        print(f\"Epoch {epoch}: Loss = {loss.item()}\")"
   ]
  },
  {
   "cell_type": "markdown",
   "id": "baa42e50-ef18-488a-866b-9d5e26c794d7",
   "metadata": {},
   "source": [
    "### A final look to our results"
   ]
  },
  {
   "cell_type": "code",
   "execution_count": 14,
   "id": "58a5a723-0448-426d-b639-bceaee5c1e02",
   "metadata": {},
   "outputs": [
    {
     "data": {
      "image/png": "[encoded data removed]",
      "text/plain": [
       "<Figure size 480x360 with 1 Axes>"
      ]
     },
     "metadata": {},
     "output_type": "display_data"
    }
   ],
   "source": [
    "plot_target(x=x_train, target=y_train, predictions=y_pred)"
   ]
  },
  {
   "cell_type": "markdown",
   "id": "4f62f722-7ae7-4c5d-be1e-78a8b20fd625",
   "metadata": {},
   "source": [
    "We fitted it 🥳"
   ]
  },
  {
   "cell_type": "markdown",
   "id": "e211c99a-c960-4e74-8163-a00131d759b3",
   "metadata": {},
   "source": [
    "### A more realistic case\n",
    "In the previous example, we used the ``pytorch`` backend to simulate computation, however, as you've seen yesterday, there are more realistic ways to simulate quantum computation on a superconducting device, e.g. using an **Emulator**.\n",
    "Let's change the global backend to the emulator runcard that we prepared already."
   ]
  },
  {
   "cell_type": "code",
   "execution_count": 15,
   "id": "759761f3-b4bc-43bf-83e7-2cb89a76edd8",
   "metadata": {},
   "outputs": [
    {
     "name": "stderr",
     "output_type": "stream",
     "text": [
      "[Qibo 0.2.21|INFO|2025-07-24 13:05:28]: Loading platform emulator\n",
      "[Qibo 0.2.21|INFO|2025-07-24 13:05:28]: Using qibolab (emulator) backend on /CPU:0\n"
     ]
    }
   ],
   "source": [
    "os.environ[\"QIBOLAB_PLATFORMS\"] = \"../\"\n",
    "platform = create_platform(\"emulator\")\n",
    "set_backend(\"qibolab\", platform=platform)"
   ]
  },
  {
   "cell_type": "markdown",
   "id": "bff4f88e-21bf-4754-bd9d-b884ff39768a",
   "metadata": {},
   "source": [
    "Since we changed the backend, it is a good idea to define a new decoder from scratch. We will always use the ``Expectation`` decoder, but this time, since we are runnning in a more realistic scenario, we need to specify some additional settings:\n",
    "- **nshots**: the number of samples we generate\n",
    "- **transpiler**: the transpilation pipeline used to translate the high-level circuit into the native operations supported by the device"
   ]
  },
  {
   "cell_type": "code",
   "execution_count": 16,
   "id": "e117b2c4-ef27-4853-8c6d-f89f1cf89400",
   "metadata": {},
   "outputs": [],
   "source": [
    "nshots = 1000\n",
    "transpiler = Passes(\n",
    "    connectivity=[], # this is the topology of the chip, since we are using just a\n",
    "                     # single qubit, there's no connectivity to respect\n",
    "    passes=[Unroller(NativeGates.default())]\n",
    ")"
   ]
  },
  {
   "cell_type": "markdown",
   "id": "9522a899-8002-45de-a8c2-b3c197b1d89e",
   "metadata": {},
   "source": [
    "The original circuit was:"
   ]
  },
  {
   "cell_type": "code",
   "execution_count": 17,
   "id": "d9849841-32a9-48eb-9b27-e2079736c8cb",
   "metadata": {},
   "outputs": [
    {
     "name": "stdout",
     "output_type": "stream",
     "text": [
      "0: ─RY─RZ─\n"
     ]
    }
   ],
   "source": [
    "trainable_circuit.draw()"
   ]
  },
  {
   "cell_type": "markdown",
   "id": "e1dee5d7-89a8-4256-8eda-4fb4b7092631",
   "metadata": {},
   "source": [
    "after transpilation the non-native ``RY`` gate is converted into a sequence of native ``GPI2``, ``Z`` and ``RZ`` gates."
   ]
  },
  {
   "cell_type": "code",
   "execution_count": 18,
   "id": "bfcc5d0c-d8ad-4432-a10f-563849af6e6d",
   "metadata": {},
   "outputs": [
    {
     "name": "stdout",
     "output_type": "stream",
     "text": [
      "0: ─GPI2─RZ─GPI2─Z─RZ─\n"
     ]
    }
   ],
   "source": [
    "transpiler(trainable_circuit)[0].draw()"
   ]
  },
  {
   "cell_type": "markdown",
   "id": "37b5d3dc-c948-45bd-b10e-15d424dd2f77",
   "metadata": {},
   "source": [
    "Therefore, we can now build a new decoder to be used with the emulator:"
   ]
  },
  {
   "cell_type": "code",
   "execution_count": 19,
   "id": "39de3024-8a7d-4a79-a0bd-63d9f3c1ae14",
   "metadata": {},
   "outputs": [],
   "source": [
    "# New Decoding layer\n",
    "decoding_circ = Expectation(\n",
    "    nqubits=nqubits,\n",
    "    observable=Z(nqubits),\n",
    "    nshots=nshots,\n",
    "    transpiler=transpiler,\n",
    ")"
   ]
  },
  {
   "cell_type": "markdown",
   "id": "a9c824a4-5332-4931-a1e1-eca16748eae8",
   "metadata": {},
   "source": [
    "Now, let's assemble the quantum model as before."
   ]
  },
  {
   "cell_type": "code",
   "execution_count": 20,
   "id": "72944803-73b1-47c1-8cf3-f04ec1cf4eda",
   "metadata": {},
   "outputs": [],
   "source": [
    "model = QuantumModel(\n",
    "    circuit_structure=circuit_structure,\n",
    "    decoding=decoding_circ,\n",
    ").to(dev)"
   ]
  },
  {
   "cell_type": "markdown",
   "id": "8ae4db7f-c435-47ad-81b6-3f56caddae3a",
   "metadata": {},
   "source": [
    " However, the emulator is extremly taxing (and thus slow) unfortunately, since it involves the computation of the evolution of the system's hamiltonian through a master equation. Therefore, for this short tutorial we cannot afford to train a new model from scratch with the emulator. What we can do though, is verify how running with the emulator affects the predictions of our trained model at inference time:"
   ]
  },
  {
   "cell_type": "code",
   "execution_count": 21,
   "id": "5b9ae70e-a352-4ae5-9e74-21df82a07c20",
   "metadata": {},
   "outputs": [
    {
     "name": "stderr",
     "output_type": "stream",
     "text": [
      "[Qibo 0.2.21|INFO|2025-07-24 13:05:28]: Minimal execution time: 0.000321\n",
      "[Qibo 0.2.21|INFO|2025-07-24 13:05:29]: Minimal execution time: 0.000321\n",
      "[Qibo 0.2.21|INFO|2025-07-24 13:05:30]: Minimal execution time: 0.000321\n",
      "[Qibo 0.2.21|INFO|2025-07-24 13:05:31]: Minimal execution time: 0.000321\n",
      "[Qibo 0.2.21|INFO|2025-07-24 13:05:32]: Minimal execution time: 0.000321\n",
      "[Qibo 0.2.21|INFO|2025-07-24 13:05:33]: Minimal execution time: 0.000321\n",
      "[Qibo 0.2.21|INFO|2025-07-24 13:05:35]: Minimal execution time: 0.000321\n",
      "[Qibo 0.2.21|INFO|2025-07-24 13:05:36]: Minimal execution time: 0.000321\n",
      "[Qibo 0.2.21|INFO|2025-07-24 13:05:37]: Minimal execution time: 0.000321\n",
      "[Qibo 0.2.21|INFO|2025-07-24 13:05:38]: Minimal execution time: 0.000321\n",
      "[Qibo 0.2.21|INFO|2025-07-24 13:05:39]: Minimal execution time: 0.000321\n",
      "[Qibo 0.2.21|INFO|2025-07-24 13:05:40]: Minimal execution time: 0.000321\n",
      "[Qibo 0.2.21|INFO|2025-07-24 13:05:41]: Minimal execution time: 0.000321\n",
      "[Qibo 0.2.21|INFO|2025-07-24 13:05:42]: Minimal execution time: 0.000321\n",
      "[Qibo 0.2.21|INFO|2025-07-24 13:05:44]: Minimal execution time: 0.000321\n",
      "[Qibo 0.2.21|INFO|2025-07-24 13:05:45]: Minimal execution time: 0.000321\n",
      "[Qibo 0.2.21|INFO|2025-07-24 13:05:46]: Minimal execution time: 0.000321\n",
      "[Qibo 0.2.21|INFO|2025-07-24 13:05:47]: Minimal execution time: 0.000321\n",
      "[Qibo 0.2.21|INFO|2025-07-24 13:05:48]: Minimal execution time: 0.000321\n",
      "[Qibo 0.2.21|INFO|2025-07-24 13:05:49]: Minimal execution time: 0.000321\n",
      "[Qibo 0.2.21|INFO|2025-07-24 13:05:50]: Minimal execution time: 0.000321\n",
      "[Qibo 0.2.21|INFO|2025-07-24 13:05:51]: Minimal execution time: 0.000321\n",
      "[Qibo 0.2.21|INFO|2025-07-24 13:05:52]: Minimal execution time: 0.000321\n",
      "[Qibo 0.2.21|INFO|2025-07-24 13:05:53]: Minimal execution time: 0.000321\n",
      "[Qibo 0.2.21|INFO|2025-07-24 13:05:54]: Minimal execution time: 0.000321\n",
      "[Qibo 0.2.21|INFO|2025-07-24 13:05:56]: Minimal execution time: 0.000321\n",
      "[Qibo 0.2.21|INFO|2025-07-24 13:05:57]: Minimal execution time: 0.000321\n",
      "[Qibo 0.2.21|INFO|2025-07-24 13:05:58]: Minimal execution time: 0.000321\n",
      "[Qibo 0.2.21|INFO|2025-07-24 13:05:59]: Minimal execution time: 0.000321\n",
      "[Qibo 0.2.21|INFO|2025-07-24 13:06:00]: Minimal execution time: 0.000321\n"
     ]
    },
    {
     "data": {
      "image/png": "[encoded data removed]",
      "text/plain": [
       "<Figure size 480x360 with 1 Axes>"
      ]
     },
     "metadata": {},
     "output_type": "display_data"
    }
   ],
   "source": [
    "with torch.no_grad():\n",
    "    y_pred = torch.stack([model(x) for x in x_train])\n",
    "    y_pred = y_pred.squeeze(-1)\n",
    "plot_target(x=x_train, target=y_train, predictions=y_pred)"
   ]
  },
  {
   "cell_type": "code",
   "execution_count": null,
   "id": "393e757c-907b-4ddf-8bbe-5562692c4834",
   "metadata": {},
   "outputs": [],
   "source": []
  }
 ],
 "metadata": {
  "kernelspec": {
   "display_name": "Python 3 (ipykernel)",
   "language": "python",
   "name": "python3"
  },
  "language_info": {
   "codemirror_mode": {
    "name": "ipython",
    "version": 3
   },
   "file_extension": ".py",
   "mimetype": "text/x-python",
   "name": "python",
   "nbconvert_exporter": "python",
   "pygments_lexer": "ipython3",
   "version": "3.10.16"
  }
 },
 "nbformat": 4,
 "nbformat_minor": 5
}
