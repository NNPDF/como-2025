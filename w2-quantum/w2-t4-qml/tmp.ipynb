{
 "cells": [
  {
   "cell_type": "markdown",
   "id": "7814de46-21a1-469c-b3a5-9e7f1c1caaa7",
   "metadata": {},
   "source": [
    "# Variational Quantum Eigensolver (VQE)\n",
    "\n",
    "A variational quantum eigensolver is a variational quantum algorithm where a parametrized quantum circuit is trained to prepare the ground state of a target Hamiltonian [See A. Peruzzo et al. - 2013](https://arxiv.org/abs/1304.3061).\n",
    "\n",
    "<img src=\"./figures/vqe.png\" width=\"800\" height=\"500\" alt=\"My Image\">\n",
    "\n",
    "As sketched above, the idea is that we get a state from a quantum circuit, and this state depends on the parameters of the circuit. Then we implement a machine learning routine to update the parameters of the circuit such that the expectation value of our target Hamiltonian on this state is minimized."
   ]
  },
  {
   "cell_type": "markdown",
   "id": "c56ba8fe-1b87-46b9-84ea-e5bf56e016f4",
   "metadata": {},
   "source": [
    "<div style=\"background-color: rgba(255, 105, 105, 0.3); border: 2.5px solid #000000; padding: 15px;\">\n",
    "    <strong>Exercise:</strong> \n",
    "    Solve the Grover problem using a VQE. Suppose that you want to find the $i$-th item in a database of $2^n$ items. To do that you have to formulate the problem as an energy minimization problem: you first define an Hamiltonian which encodes in its ground state the $i$-th item you are interested in, then you train your QML model to miminize the expectation value of such Hamiltonian.\n",
    "    \n",
    "</div>\n",
    "\n",
    "### Problem's Hamiltonian\n",
    "First you'll have to come up with the Hamiltonian form that solves the problem, i.e. that encodes the i-th item in its ground state. \n",
    "You can use ``qibo``'s ``SymbolicHamiltonian`` and symbols to define the form of your Grover's Hamiltonian."
   ]
  },
  {
   "cell_type": "code",
   "execution_count": 1,
   "id": "1ab9335e-0969-4ee9-9ce0-77839ef82c22",
   "metadata": {},
   "outputs": [
    {
     "name": "stderr",
     "output_type": "stream",
     "text": [
      "[Qibo 0.2.20|INFO|2025-07-18 11:01:30]: Using qibojit (cupy) backend on /GPU:0\n"
     ]
    },
    {
     "data": {
      "text/latex": [
       "$\\displaystyle 1 + Z_{0} I_{1} - Z_{2} \\left(1 + I_{0} Z_{1} Z_{2}\\right)$"
      ],
      "text/plain": [
       "1 + Z0*I1 - Z2*(1 + I0*Z1*Z2)"
      ]
     },
     "execution_count": 1,
     "metadata": {},
     "output_type": "execute_result"
    }
   ],
   "source": [
    "from qibo.hamiltonians import SymbolicHamiltonian\n",
    "from qibo.symbols import Z, I\n",
    "\n",
    "# this creates a Z0 * I1 operator, i.e. a tensor product between a pauli Z\n",
    "# on the first qubit and the identity on the second qubit\n",
    "form = Z(0) * I(1)\n",
    "# you can also add other terms\n",
    "form += 1 - Z(2) * (1 + I(0) * Z(1) * Z(2))\n",
    "form"
   ]
  },
  {
   "cell_type": "markdown",
   "id": "12d5d4f9-721f-4220-8b7c-990648a83bf1",
   "metadata": {},
   "source": [
    "**hint 1:** \n",
    "\n",
    "<details>\n",
    "<summary> show </summary>\n",
    "If you represent items in the database as bitstrings, then supposing the item you're looking for corresponds to the state with $| x^\\ast \\rangle = | x_0x_1 ... x_n \\rangle$, you may want to write the projector onto that state.\n",
    "</details>"
   ]
  },
  {
   "cell_type": "markdown",
   "id": "7c6c843c-a2a7-43bf-82eb-6e86b0f2ff06",
   "metadata": {},
   "source": [
    "**hint 2:** \n",
    "\n",
    "<details>\n",
    "<summary> show </summary>\n",
    "The projector you need is therefore $| x^\\ast \\rangle \\langle x^\\ast|$ and you can build the hamiltonian as: \n",
    "    $$H = 1 - | x^\\ast \\rangle \\langle x^\\ast |$$ \n",
    "which, since $x^\\ast$ is a string of bits, can be written in terms of $Z$ pauli operators as:\n",
    "    $$H = 1 - \\bigotimes_i \\bigg( 1 + (-1)^{x_i} Z_i \\bigg)$$\n",
    "where the $x_i$ are the bits composing $x^\\ast$.\n",
    "</details>"
   ]
  },
  {
   "cell_type": "code",
   "execution_count": 2,
   "id": "530347f0-6842-4f70-a55f-b72c08f37150",
   "metadata": {},
   "outputs": [
    {
     "data": {
      "text/latex": [
       "$\\displaystyle 1 - \\left(1 + Z_{0}\\right) \\left(1 - Z_{1}\\right) \\left(1 + Z_{2}\\right) \\left(1 - Z_{3}\\right) \\left(1 - Z_{4}\\right)$"
      ],
      "text/plain": [
       "1 - (1 + Z0)*(1 - Z1)*(1 + Z2)*(1 - Z3)*(1 - Z4)"
      ]
     },
     "execution_count": 2,
     "metadata": {},
     "output_type": "execute_result"
    }
   ],
   "source": [
    "import numpy as np\n",
    "\n",
    "def grover_hamiltonian(item_index: int, n_items: int) -> SymbolicHamiltonian:\n",
    "    # extract how many qubits you need\n",
    "    nqubits = (n_items - 1).bit_length()\n",
    "    # build the binary representation\n",
    "    bitstring = f\"{item_index:0{nqubits}b}\"\n",
    "    bits = [int(b) for b in bitstring]\n",
    "    # projector onto the desired state\n",
    "    form = 1 - np.prod([(1 + (-1)**bits[q] * Z(q) ) for q in range(nqubits)])\n",
    "    return SymbolicHamiltonian(form, nqubits=nqubits)\n",
    "\n",
    "item_index = 11\n",
    "n_items = 32\n",
    "\n",
    "H = grover_hamiltonian(item_index, n_items)\n",
    "H.form"
   ]
  },
  {
   "cell_type": "markdown",
   "id": "f80a68fc-0767-4fd7-80f3-b4b18e2fc605",
   "metadata": {},
   "source": [
    "### Build the QML model and train it!\n",
    "\n",
    "Now that we have the Hamiltonian, you can build the desired QML model using the tools introduced in the previous notebook. You can always use the ``HardwareEfficient`` ansatz to build the core of your model, or you can come up with your custom parametrized circuit, but do you actually need any encoder in this case?"
   ]
  },
  {
   "cell_type": "code",
   "execution_count": 49,
   "id": "82d6bbfd-a766-45da-820f-6fdb271f110d",
   "metadata": {},
   "outputs": [
    {
     "name": "stderr",
     "output_type": "stream",
     "text": [
      "[Qibo 0.2.20|INFO|2025-07-18 14:43:48]: Using qiboml (pytorch) backend on cuda:0\n"
     ]
    },
    {
     "name": "stdout",
     "output_type": "stream",
     "text": [
      "Epoch 0: Energy = 0.9819155984889707\n",
      "Epoch 1: Energy = 0.7353828512468703\n",
      "Epoch 2: Energy = 0.1806133324065875\n",
      "Epoch 3: Energy = -0.7541511083288581\n",
      "Epoch 4: Energy = -1.9263757063305063\n",
      "Epoch 5: Energy = -3.3710678329998873\n",
      "Epoch 6: Energy = -5.155050901616482\n",
      "Epoch 7: Energy = -7.138085487854079\n",
      "Epoch 8: Energy = -9.351907628850185\n",
      "Epoch 9: Energy = -11.976292952898769\n",
      "Epoch 10: Energy = -15.066764590617613\n",
      "Epoch 11: Energy = -18.29925747897681\n",
      "Epoch 12: Energy = -21.02186602588993\n",
      "Epoch 13: Energy = -22.905406247049\n",
      "Epoch 14: Energy = -24.238603462050808\n",
      "Epoch 15: Energy = -25.38196642004192\n",
      "Epoch 16: Energy = -26.426793239431127\n"
     ]
    },
    {
     "name": "stderr",
     "output_type": "stream",
     "text": [
      "[Qibo 0.2.20|INFO|2025-07-18 14:43:48]: Using numpy backend on /CPU:0\n"
     ]
    },
    {
     "name": "stdout",
     "output_type": "stream",
     "text": [
      "Epoch 17: Energy = -27.34342519466638\n",
      "Epoch 18: Energy = -28.1090219757134\n",
      "Epoch 19: Energy = -28.744130799718306\n",
      "\n",
      " -> We were looking for item: 01011\n"
     ]
    },
    {
     "data": {
      "text/plain": [
       "(<Axes: xlabel='States', ylabel='Probabilities'>,\n",
       " <Figure size 750x500 with 1 Axes>)"
      ]
     },
     "execution_count": 49,
     "metadata": {},
     "output_type": "execute_result"
    },
    {
     "data": {
      "image/png": "[encoded data removed]",
      "text/plain": [
       "<Figure size 640x480 with 1 Axes>"
      ]
     },
     "metadata": {},
     "output_type": "display_data"
    },
    {
     "data": {
      "image/png": "[encoded data removed]",
      "text/plain": [
       "<Figure size 750x500 with 1 Axes>"
      ]
     },
     "metadata": {},
     "output_type": "display_data"
    }
   ],
   "source": [
    "from qiboml.models.ansatze import HardwareEfficient\n",
    "from qiboml.models.decoding import Expectation\n",
    "from qiboml.interfaces.pytorch import QuantumModel\n",
    "\n",
    "from qibo import set_backend, gates\n",
    "from qibo.ui.result_visualization import visualize_state\n",
    "\n",
    "import torch\n",
    "import matplotlib.pyplot as plt\n",
    "\n",
    "# set pytorch as the global backend for better performance\n",
    "set_backend(\"qiboml\", platform=\"pytorch\")\n",
    "\n",
    "# let's consider a database of 32 items -> 5 qubits\n",
    "# suppose we look for item 11\n",
    "nqubits = 5\n",
    "item_index = 11\n",
    "n_items = 32\n",
    "\n",
    "# parametrized circuit\n",
    "trainable_circuit = HardwareEfficient(nqubits=nqubits, nlayers=3)\n",
    "# decoder\n",
    "decoder = Expectation(\n",
    "    nqubits=nqubits,\n",
    "    observable=grover_hamiltonian(item_index, n_items), # this is the default choice anyway\n",
    ")\n",
    "# quantum model\n",
    "model = QuantumModel(\n",
    "    circuit_structure=[trainable_circuit,],\n",
    "    decoding=decoder,\n",
    ")\n",
    "\n",
    "dev = torch.device(\"cuda:0\") if torch.cuda.is_available() else torch.device(\"cpu\")\n",
    "model = model.to(dev)\n",
    "\n",
    "optimizer = torch.optim.Adam(model.parameters(), lr=0.1)\n",
    "\n",
    "cost_history = []\n",
    "for epoch in range(20):\n",
    "    optimizer.zero_grad()\n",
    "    cost = model()\n",
    "    cost.backward()\n",
    "    optimizer.step()    \n",
    "    cost_history.append(cost.item())\n",
    "    print(f\"Epoch {epoch}: Energy = {cost.item()}\")\n",
    "\n",
    "plt.plot(cost_history)\n",
    "plt.ylabel(\"Energy\")\n",
    "plt.xlabel(\"Epoch\")\n",
    "\n",
    "# let's visualize the final state learnt by the model\n",
    "set_backend(\"numpy\")\n",
    "circ = trainable_circuit.copy(True)\n",
    "circ.add(gates.M(*range(nqubits)))\n",
    "circ.set_parameters(list(par[0].detach().cpu().numpy() for par in circ.get_parameters()))\n",
    "print(f\"\\n -> We were looking for item: {item_index:0{nqubits}b}\")\n",
    "visualize_state(circ())"
   ]
  },
  {
   "cell_type": "markdown",
   "id": "beeb1936-da84-4c0e-813c-b84860c7cb88",
   "metadata": {},
   "source": [
    "### Fetching multiple items\n",
    "\n",
    "<div style=\"background-color: rgba(255, 105, 105, 0.3); border: 2.5px solid #000000; padding: 15px;\">\n",
    "    <strong>Exercise:</strong> \n",
    "    What if instead we wanted to retrieve multiple items at once?\n",
    "</div>\n",
    "\n",
    "**hint:**\n",
    "\n",
    "<details>\n",
    "    <summary>show</summary>\n",
    "    While in the previous case a handful of layers was enough to find the ground state of the hamiltonian, how many will we need here to consistently retrieve all the desired objects?     \n",
    "</details>"
   ]
  },
  {
   "cell_type": "code",
   "execution_count": 4,
   "id": "cc699fd9-6852-49dd-b6f4-4882e2542a69",
   "metadata": {},
   "outputs": [
    {
     "data": {
      "text/latex": [
       "$\\displaystyle 3 - \\left(1 + Z_{0}\\right) \\left(1 - Z_{1}\\right) \\left(1 + Z_{2}\\right) \\left(1 - Z_{3}\\right) \\left(1 - Z_{4}\\right) - \\left(1 + Z_{0}\\right) \\left(1 + Z_{1}\\right) \\left(1 + Z_{2}\\right) \\left(1 + Z_{3}\\right) \\left(1 - Z_{4}\\right) - \\left(1 + Z_{0}\\right) \\left(1 + Z_{1}\\right) \\left(1 + Z_{2}\\right) \\left(1 + Z_{3}\\right) \\left(1 + Z_{4}\\right)$"
      ],
      "text/plain": [
       "3 - (1 + Z0)*(1 - Z1)*(1 + Z2)*(1 - Z3)*(1 - Z4) - (1 + Z0)*(1 + Z1)*(1 + Z2)*(1 + Z3)*(1 - Z4) - (1 + Z0)*(1 + Z1)*(1 + Z2)*(1 + Z3)*(1 + Z4)"
      ]
     },
     "execution_count": 4,
     "metadata": {},
     "output_type": "execute_result"
    }
   ],
   "source": [
    "def parallel_grover_hamiltonian(item_indices: list[int], n_items: int) -> SymbolicHamiltonian:\n",
    "    return sum(grover_hamiltonian(index, n_items) for index in item_indices)\n",
    "    \n",
    "H = parallel_grover_hamiltonian([0,1,11], 32)\n",
    "H.form"
   ]
  },
  {
   "cell_type": "code",
   "execution_count": 53,
   "id": "bd40e7e7-615a-4ad5-8ace-60f71b066f0a",
   "metadata": {},
   "outputs": [
    {
     "ename": "SyntaxError",
     "evalue": "f-string: invalid syntax (718230879.py, line 38)",
     "output_type": "error",
     "traceback": [
      "\u001b[0;36m  Cell \u001b[0;32mIn[53], line 38\u001b[0;36m\u001b[0m\n\u001b[0;31m    print(f\"\\n -> We were looking for items: {[index:0{nqubits}b for index in item_indices]}\")\u001b[0m\n\u001b[0m           ^\u001b[0m\n\u001b[0;31mSyntaxError\u001b[0m\u001b[0;31m:\u001b[0m f-string: invalid syntax\n"
     ]
    }
   ],
   "source": [
    "# parametrized circuit\n",
    "trainable_circuit = HardwareEfficient(nqubits=nqubits, nlayers=10)\n",
    "# decoder\n",
    "decoder = Expectation(\n",
    "    nqubits=nqubits,\n",
    "    observable=H,\n",
    ")\n",
    "model = QuantumModel(\n",
    "    circuit_structure=[trainable_circuit,],\n",
    "    decoding=decoder,\n",
    ")\n",
    "model = model.to(dev)\n",
    "\n",
    "optimizer = torch.optim.Adam(model.parameters(), lr=0.1)\n",
    "\n",
    "cost_history = []\n",
    "for epoch in range(300):\n",
    "    optimizer.zero_grad()\n",
    "    cost = model()\n",
    "    cost.backward()\n",
    "    optimizer.step()  \n",
    "    cost_history.append(cost.item())\n",
    "    if (epoch + 1) % 10 == 0:\n",
    "        print(f\"Epoch {epoch}: Energy = {cost.item()}\")\n",
    "\n",
    "plt.plot(cost_history)\n",
    "plt.ylabel(\"Energy\")\n",
    "plt.xlabel(\"Epoch\")\n",
    "    \n",
    "circ = trainable_circuit.copy(True)\n",
    "circ.add(gates.M(*range(nqubits)))\n",
    "\n",
    "# let's visualize the final state learnt by the model\n",
    "set_backend(\"numpy\")\n",
    "circ = trainable_circuit.copy(True)\n",
    "circ.add(gates.M(*range(nqubits)))\n",
    "circ.set_parameters(list(par[0].detach().cpu().numpy() for par in circ.get_parameters()))\n",
    "#print(f\"\\n -> We were looking for items: {[index:0{nqubits}b for index in item_indices]}\")\n",
    "visualize_state(circ())"
   ]
  },
  {
   "cell_type": "code",
   "execution_count": null,
   "id": "485d6997-13fa-428a-8b9c-78425cd56e58",
   "metadata": {},
   "outputs": [],
   "source": []
  },
  {
   "cell_type": "code",
   "execution_count": 20,
   "id": "8069a12f-7e0f-4c33-bc59-8671f2959aad",
   "metadata": {},
   "outputs": [
    {
     "name": "stdout",
     "output_type": "stream",
     "text": [
      "0:     ─RY─RZ─o───────────RX─RY─RZ─o───────────RX─RY─RZ─o───────────RX─RY─RZ─ ...\n",
      "1:     ─RY─RZ─RX─o────────|──RY─RZ─RX─o────────|──RY─RZ─RX─o────────|──RY─RZ─ ...\n",
      "2:     ─RY─RZ────RX─o─────|──RY─RZ────RX─o─────|──RY─RZ────RX─o─────|──RY─RZ─ ...\n",
      "3:     ─RY─RZ───────RX─o──|──RY─RZ───────RX─o──|──RY─RZ───────RX─o──|──RY─RZ─ ...\n",
      "4:     ─RY─RZ──────────RX─o──RY─RZ──────────RX─o──RY─RZ──────────RX─o──RY─RZ─ ...\n",
      "\n",
      "0: ... o───────────RX─RY─RZ─o───────────RX─RY─RZ─o───────────RX─RY─RZ─o────── ...\n",
      "1: ... RX─o────────|──RY─RZ─RX─o────────|──RY─RZ─RX─o────────|──RY─RZ─RX─o─── ...\n",
      "2: ... ───RX─o─────|──RY─RZ────RX─o─────|──RY─RZ────RX─o─────|──RY─RZ────RX─o ...\n",
      "3: ... ──────RX─o──|──RY─RZ───────RX─o──|──RY─RZ───────RX─o──|──RY─RZ───────R ...\n",
      "4: ... ─────────RX─o──RY─RZ──────────RX─o──RY─RZ──────────RX─o──RY─RZ──────── ...\n",
      "\n",
      "0: ... ─────RX─RY─RZ─o───────────RX─RY─RZ─o───────────RX─RY─RZ─o───────────RX ...\n",
      "1: ... ─────|──RY─RZ─RX─o────────|──RY─RZ─RX─o────────|──RY─RZ─RX─o────────|─ ...\n",
      "2: ... ─────|──RY─RZ────RX─o─────|──RY─RZ────RX─o─────|──RY─RZ────RX─o─────|─ ...\n",
      "3: ... X─o──|──RY─RZ───────RX─o──|──RY─RZ───────RX─o──|──RY─RZ───────RX─o──|─ ...\n",
      "4: ... ──RX─o──RY─RZ──────────RX─o──RY─RZ──────────RX─o──RY─RZ──────────RX─o─ ...\n",
      "\n",
      "0: ... ─RY─RZ─o───────────RX─RY─RZ─o───────────RX─RY─RZ─o───────────RX─RY─RZ─ ...\n",
      "1: ... ─RY─RZ─RX─o────────|──RY─RZ─RX─o────────|──RY─RZ─RX─o────────|──RY─RZ─ ...\n",
      "2: ... ─RY─RZ────RX─o─────|──RY─RZ────RX─o─────|──RY─RZ────RX─o─────|──RY─RZ─ ...\n",
      "3: ... ─RY─RZ───────RX─o──|──RY─RZ───────RX─o──|──RY─RZ───────RX─o──|──RY─RZ─ ...\n",
      "4: ... ─RY─RZ──────────RX─o──RY─RZ──────────RX─o──RY─RZ──────────RX─o──RY─RZ─ ...\n",
      "\n",
      "0: ... o───────────RX─RY─RZ─o───────────RX─RY─RZ─o───────────RX─RY─RZ─o────── ...\n",
      "1: ... RX─o────────|──RY─RZ─RX─o────────|──RY─RZ─RX─o────────|──RY─RZ─RX─o─── ...\n",
      "2: ... ───RX─o─────|──RY─RZ────RX─o─────|──RY─RZ────RX─o─────|──RY─RZ────RX─o ...\n",
      "3: ... ──────RX─o──|──RY─RZ───────RX─o──|──RY─RZ───────RX─o──|──RY─RZ───────R ...\n",
      "4: ... ─────────RX─o──RY─RZ──────────RX─o──RY─RZ──────────RX─o──RY─RZ──────── ...\n",
      "\n",
      "0: ... ─────RX─RY─RZ─o───────────RX─RY─RZ─o───────────RX─RY─RZ─o───────────RX ...\n",
      "1: ... ─────|──RY─RZ─RX─o────────|──RY─RZ─RX─o────────|──RY─RZ─RX─o────────|─ ...\n",
      "2: ... ─────|──RY─RZ────RX─o─────|──RY─RZ────RX─o─────|──RY─RZ────RX─o─────|─ ...\n",
      "3: ... X─o──|──RY─RZ───────RX─o──|──RY─RZ───────RX─o──|──RY─RZ───────RX─o──|─ ...\n",
      "4: ... ──RX─o──RY─RZ──────────RX─o──RY─RZ──────────RX─o──RY─RZ──────────RX─o─ ...\n",
      "\n",
      "0: ... ─\n",
      "1: ... ─\n",
      "2: ... ─\n",
      "3: ... ─\n",
      "4: ... ─\n",
      "Epoch 9: Energy = -25.974762339337502\n",
      "Epoch 19: Energy = -28.04497687949741\n",
      "Epoch 29: Energy = -28.58450114831728\n",
      "Epoch 39: Energy = -28.91009777284616\n",
      "Epoch 49: Energy = -28.955422802224312\n",
      "Epoch 59: Energy = -28.977543463575085\n",
      "Epoch 69: Energy = -28.99373613495696\n",
      "Epoch 79: Energy = -28.997912367596406\n",
      "Epoch 89: Energy = -28.999116475074942\n",
      "Epoch 99: Energy = -28.99974476750225\n",
      "Epoch 109: Energy = -28.999887346949496\n",
      "Epoch 119: Energy = -28.99994894306278\n",
      "Epoch 129: Energy = -28.999983750648173\n",
      "Epoch 139: Energy = -28.9999955645722\n",
      "Epoch 149: Energy = -28.999989715042013\n",
      "Epoch 159: Energy = -28.850081605226418\n",
      "Epoch 169: Energy = -28.625741798216648\n",
      "Epoch 179: Energy = -28.92432882836264\n",
      "Epoch 189: Energy = -28.975066610999917\n",
      "Epoch 199: Energy = -28.980776092167016\n",
      "Epoch 209: Energy = -28.75271266350995\n",
      "Epoch 219: Energy = -28.925872471479675\n",
      "Epoch 229: Energy = -28.97286742051572\n",
      "Epoch 239: Energy = -28.804345307204386\n",
      "Epoch 249: Energy = -28.866784718823027\n",
      "Epoch 259: Energy = -28.989928841412958\n",
      "Epoch 269: Energy = -28.982280557288405\n",
      "Epoch 279: Energy = -28.61932422048256\n",
      "Epoch 289: Energy = -28.96551127653809\n",
      "Epoch 299: Energy = -28.974663125793644\n",
      "01011\n",
      "Counter({'00000': 649, '00001': 269, '01011': 82})\n"
     ]
    },
    {
     "data": {
      "image/png": "[encoded data removed]",
      "text/plain": [
       "<Figure size 640x480 with 1 Axes>"
      ]
     },
     "metadata": {},
     "output_type": "display_data"
    }
   ],
   "source": [
    "from qibo import Circuit\n",
    "import random\n",
    "\n",
    "def entanglement_tunable_ansatz(nqubits: int, nlayers: int) -> Circuit:\n",
    "    circuit = Circuit(nqubits)\n",
    "    qubits = list(range(nqubits))\n",
    "    for _ in range(nlayers):\n",
    "        for q in qubits:\n",
    "            circuit.add(gates.RY(q, theta=random.random() * np.pi, trainable=True))\n",
    "            circuit.add(gates.RZ(q, theta=random.random() * np.pi, trainable=True))\n",
    "        if nqubits > 1:\n",
    "            for i, q in enumerate(qubits[:-1]):\n",
    "                circuit.add(gates.CRX(q0=q, q1=qubits[i + 1], theta=random.random() * np.pi, trainable=True))\n",
    "            circuit.add(gates.CRX(q0=qubits[-1], q1=qubits[0], theta=random.random() * np.pi, trainable=True))\n",
    "    return circuit\n",
    "\n",
    "trainable_circuit = entanglement_tunable_ansatz(nqubits, 20)\n",
    "\n",
    "model = QuantumModel(\n",
    "    circuit_structure=[trainable_circuit,],\n",
    "    decoding=decoder,\n",
    ")\n",
    "model = model.to(dev)\n",
    "\n",
    "optimizer = torch.optim.Adam(model.parameters(), lr=0.1)\n",
    "\n",
    "cost_history = []\n",
    "for epoch in range(300):\n",
    "    optimizer.zero_grad()\n",
    "    cost = model()\n",
    "    cost.backward()\n",
    "    optimizer.step()\n",
    "    cost_history.append(cost.item())\n",
    "    if (epoch + 1) % 10 == 0:\n",
    "        print(f\"Epoch {epoch}: Energy = {cost.item()}\")\n",
    "\n",
    "plt.plot(cost_history)\n",
    "plt.ylabel(\"Energy\")\n",
    "plt.xlabel(\"Epoch\")\n",
    "    \n",
    "circ = trainable_circuit.copy(True)\n",
    "circ.add(gates.M(*range(nqubits)))\n",
    "\n",
    "print(f\"{item_index:0{nqubits}b}\")\n",
    "print(circ().frequencies())"
   ]
  },
  {
   "cell_type": "code",
   "execution_count": 29,
   "id": "9619464e-763b-4b62-b3ba-411c460d197e",
   "metadata": {},
   "outputs": [
    {
     "data": {
      "text/plain": [
       "(array([2., 1., 0., 3., 1., 4., 1., 3., 1., 4.]),\n",
       " array([-0.00215627,  0.10466588,  0.21148803,  0.31831017,  0.42513232,\n",
       "         0.53195446,  0.63877661,  0.74559875,  0.8524209 ,  0.95924304,\n",
       "         1.06606519]),\n",
       " <BarContainer object of 10 artists>)"
      ]
     },
     "execution_count": 29,
     "metadata": {},
     "output_type": "execute_result"
    },
    {
     "data": {
      "image/png": "[encoded data removed]",
      "text/plain": [
       "<Figure size 640x480 with 6 Axes>"
      ]
     },
     "metadata": {},
     "output_type": "display_data"
    }
   ],
   "source": [
    "thetas = {(0,1): [], (1,2): [], (2,3): [], (3,4): [], (4,0): []}\n",
    "for gate in trainable_circuit.queue:\n",
    "    if isinstance(gate, gates.CRX):\n",
    "        thetas[gate.qubits].append(gate.parameters[0].detach().cpu().numpy() / np.pi)\n",
    "\n",
    "fig, axes = plt.subplots(3,2)\n",
    "axes[0,0].hist(thetas[(0,1)])\n",
    "axes[0,1].hist(thetas[(1,2)])\n",
    "axes[1,0].hist(thetas[(2,3)])\n",
    "axes[1,1].hist(thetas[(3,4)])\n",
    "axes[2,0].hist(thetas[(4,0)])"
   ]
  },
  {
   "cell_type": "code",
   "execution_count": null,
   "id": "fef56aa5-3b4a-4ac0-8b02-6ba3e65945bd",
   "metadata": {},
   "outputs": [],
   "source": []
  }
 ],
 "metadata": {
  "kernelspec": {
   "display_name": "Python 3 (ipykernel)",
   "language": "python",
   "name": "python3"
  },
  "language_info": {
   "codemirror_mode": {
    "name": "ipython",
    "version": 3
   },
   "file_extension": ".py",
   "mimetype": "text/x-python",
   "name": "python",
   "nbconvert_exporter": "python",
   "pygments_lexer": "ipython3",
   "version": "3.10.18"
  }
 },
 "nbformat": 4,
 "nbformat_minor": 5
}
