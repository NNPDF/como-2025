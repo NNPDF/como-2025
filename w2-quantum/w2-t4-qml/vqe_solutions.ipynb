{
 "cells": [
  {
   "cell_type": "markdown",
   "id": "7814de46-21a1-469c-b3a5-9e7f1c1caaa7",
   "metadata": {},
   "source": [
    "# Variational Quantum Eigensolver (VQE)\n",
    "\n",
    "A variational quantum eigensolver is a variational quantum algorithm where a parametrized quantum circuit is trained to prepare the ground state of a target Hamiltonian [See A. Peruzzo et al. - 2013](https://arxiv.org/abs/1304.3061).\n",
    "\n",
    "<img src=\"./figures/vqe.png\" width=\"800\" height=\"500\" alt=\"My Image\">\n",
    "\n",
    "As sketched above, the idea is that we get a state from a quantum circuit, and this state depends on the parameters of the circuit. Then we implement a machine learning routine to update the parameters of the circuit such that the expectation value of our target Hamiltonian on this state is minimized."
   ]
  },
  {
   "cell_type": "markdown",
   "id": "c56ba8fe-1b87-46b9-84ea-e5bf56e016f4",
   "metadata": {},
   "source": [
    "<div style=\"background-color: rgba(255, 105, 105, 0.3); border: 2.5px solid #000000; padding: 15px;\">\n",
    "    <strong>Exercise:</strong> \n",
    "    Solve the Grover problem using a VQE. Suppose that you want to find the $i$-th item in a database of $2^n$ items. To do that you have to formulate the problem as an energy minimization problem: you first define an Hamiltonian which encodes in its ground state the $i$-th item you are interested in, then you train your QML model to miminize the expectation value of such Hamiltonian.\n",
    "    \n",
    "</div>"
   ]
  },
  {
   "cell_type": "code",
   "execution_count": 1,
   "id": "18ee5410-f1bc-4a56-89ad-1829760337ee",
   "metadata": {},
   "outputs": [
    {
     "name": "stderr",
     "output_type": "stream",
     "text": [
      "[Qibo 0.2.21|INFO|2025-07-24 13:26:24]: Using qiboml (pytorch) backend on cpu\n"
     ]
    }
   ],
   "source": [
    "from qibo import set_backend\n",
    "import torch\n",
    "\n",
    "torch.set_default_dtype(torch.float64)\n",
    "dev = torch.device(\"cuda:0\") if torch.cuda.is_available() else torch.device(\"cpu\")\n",
    "\n",
    "# the pytorch backend is recommended for the best performance\n",
    "set_backend(\"qiboml\", platform=\"pytorch\")\n"
   ]
  },
  {
   "cell_type": "markdown",
   "id": "aaf528a7-39ee-4f2d-bb1e-736410e7479a",
   "metadata": {},
   "source": [
    "### Problem's Hamiltonian\n",
    "First you'll have to come up with the Hamiltonian form that solves the problem, i.e. that encodes the i-th item in its ground state. \n",
    "You can use ``qibo``'s ``SymbolicHamiltonian`` and symbols to define the form of your Grover's Hamiltonian."
   ]
  },
  {
   "cell_type": "code",
   "execution_count": 2,
   "id": "1ab9335e-0969-4ee9-9ce0-77839ef82c22",
   "metadata": {},
   "outputs": [
    {
     "data": {
      "text/latex": [
       "$\\displaystyle 1 + Z_{0} I_{1} - Z_{2} \\left(1 + I_{0} Z_{1} Z_{2}\\right)$"
      ],
      "text/plain": [
       "1 + Z0*I1 - Z2*(1 + I0*Z1*Z2)"
      ]
     },
     "execution_count": 2,
     "metadata": {},
     "output_type": "execute_result"
    }
   ],
   "source": [
    "from qibo.hamiltonians import SymbolicHamiltonian\n",
    "from qibo.symbols import Z, I\n",
    "\n",
    "# this creates a Z0 * I1 operator, i.e. a tensor product between a pauli Z\n",
    "# on the first qubit and the identity on the second qubit\n",
    "form = Z(0) * I(1)\n",
    "# you can also add other terms\n",
    "form += 1 - Z(2) * (1 + I(0) * Z(1) * Z(2))\n",
    "H = SymbolicHamiltonian(form, nqubits=3)\n",
    "H.form"
   ]
  },
  {
   "cell_type": "markdown",
   "id": "12d5d4f9-721f-4220-8b7c-990648a83bf1",
   "metadata": {},
   "source": [
    "**hint 1:** \n",
    "\n",
    "<details>\n",
    "<summary> show </summary>\n",
    "If you represent items in the database as bitstrings, then supposing the item you're looking for corresponds to the state with $| x^\\ast \\rangle = | x_0x_1 ... x_n \\rangle$, you may want to write the projector onto that state.\n",
    "</details>"
   ]
  },
  {
   "cell_type": "markdown",
   "id": "7c6c843c-a2a7-43bf-82eb-6e86b0f2ff06",
   "metadata": {},
   "source": [
    "**hint 2:** \n",
    "\n",
    "<details>\n",
    "<summary> show </summary>\n",
    "The projector you need is therefore $| x^\\ast \\rangle \\langle x^\\ast|$ and you can build the hamiltonian as: \n",
    "    $$H = 1 - | x^\\ast \\rangle \\langle x^\\ast |$$ \n",
    "which, since $x^\\ast$ is a string of bits, can be written in terms of $Z$ pauli operators as:\n",
    "    $$H = 1 - \\bigotimes_i \\bigg( 1 + (-1)^{x_i} Z_i \\bigg)$$\n",
    "where the $x_i$ are the bits composing $x^\\ast$.\n",
    "</details>"
   ]
  },
  {
   "cell_type": "code",
   "execution_count": 3,
   "id": "530347f0-6842-4f70-a55f-b72c08f37150",
   "metadata": {},
   "outputs": [],
   "source": [
    "# item to find\n",
    "item_index = 11 \n",
    "# database dimension\n",
    "n_items = 32\n",
    "# how many qubits do we need?\n",
    "# use the minimum number of qubits possible!\n",
    "nqubits = 5\n",
    "\n",
    "# define a function that takes item_index and n_items\n",
    "# as inputs and produces the Grover Hamiltonian\n",
    "import numpy as np\n",
    "\n",
    "def grover_hamiltonian(item_index: int, n_items: int) -> SymbolicHamiltonian:\n",
    "    # extract how many qubits you need\n",
    "    nqubits = (n_items - 1).bit_length()\n",
    "    # build the binary representation\n",
    "    bitstring = f\"{item_index:0{nqubits}b}\"\n",
    "    bits = [int(b) for b in bitstring]\n",
    "    # projector onto the desired state\n",
    "    form = 1 - np.prod([(1 + (-1)**bits[q] * Z(q) ) for q in range(nqubits)])\n",
    "    return SymbolicHamiltonian(form, nqubits=nqubits)\n",
    "\n",
    "H = grover_hamiltonian(item_index, n_items)"
   ]
  },
  {
   "cell_type": "markdown",
   "id": "f80a68fc-0767-4fd7-80f3-b4b18e2fc605",
   "metadata": {},
   "source": [
    "### Build the QML model and train it!\n",
    "\n",
    "Now that we have the Hamiltonian, you can build the desired QML model using the tools introduced in the previous notebook. You can always use the ``HardwareEfficient`` ansatz to build the core of your model if you like, or you can come up with your custom parametrized circuit, but do you actually need any encoder in this case?"
   ]
  },
  {
   "cell_type": "code",
   "execution_count": 4,
   "id": "82d6bbfd-a766-45da-820f-6fdb271f110d",
   "metadata": {},
   "outputs": [
    {
     "name": "stdout",
     "output_type": "stream",
     "text": [
      "Epoch 0: Energy = 0.7466289199868741\n",
      "Epoch 1: Energy = 0.23538663904970136\n",
      "Epoch 2: Energy = -0.5794923262782505\n",
      "Epoch 3: Energy = -1.6440672259271025\n",
      "Epoch 4: Energy = -2.8771040880595233\n",
      "Epoch 5: Energy = -4.204619911063046\n",
      "Epoch 6: Energy = -5.51900991208451\n",
      "Epoch 7: Energy = -6.673904268292004\n",
      "Epoch 8: Energy = -7.7089136215654035\n",
      "Epoch 9: Energy = -8.695572153524683\n",
      "Epoch 10: Energy = -9.700559368247308\n",
      "Epoch 11: Energy = -10.793016450400067\n",
      "Epoch 12: Energy = -12.004176225053085\n",
      "Epoch 13: Energy = -13.377594421412299\n",
      "Epoch 14: Energy = -14.947546670289102\n",
      "Epoch 15: Energy = -16.692209167568937\n",
      "Epoch 16: Energy = -18.54365335707153\n",
      "Epoch 17: Energy = -20.405678988779275\n",
      "Epoch 18: Energy = -22.2563758046511\n",
      "Epoch 19: Energy = -24.17647776128652\n",
      "\n",
      " -> We were looking for item: 01011\n"
     ]
    },
    {
     "data": {
      "text/plain": [
       "(<Axes: xlabel='States', ylabel='Probabilities'>,\n",
       " <Figure size 750x500 with 1 Axes>)"
      ]
     },
     "execution_count": 4,
     "metadata": {},
     "output_type": "execute_result"
    },
    {
     "data": {
      "image/png": "[encoded data removed]",
      "text/plain": [
       "<Figure size 640x480 with 1 Axes>"
      ]
     },
     "metadata": {},
     "output_type": "display_data"
    },
    {
     "data": {
      "image/png": "[encoded data removed]",
      "text/plain": [
       "<Figure size 750x500 with 1 Axes>"
      ]
     },
     "metadata": {},
     "output_type": "display_data"
    }
   ],
   "source": [
    "from qiboml.interfaces.pytorch import QuantumModel\n",
    "from qibo.ui.result_visualization import visualize_state\n",
    "import matplotlib.pyplot as plt\n",
    "\n",
    "from qiboml.models.ansatze import HardwareEfficient\n",
    "from qiboml.models.decoding import Expectation\n",
    "\n",
    "# define the parametric parts \n",
    "circuit = HardwareEfficient(nqubits=nqubits, nlayers=3)\n",
    "circuit_structure = [circuit,]\n",
    "# define the decoding strategy\n",
    "decoder = Expectation(\n",
    "    nqubits=nqubits,\n",
    "    observable=grover_hamiltonian(item_index, n_items), # this is the default choice anyway\n",
    ")\n",
    "\n",
    "# build your quantum model\n",
    "model = QuantumModel(\n",
    "   circuit_structure,\n",
    "   decoder\n",
    ")\n",
    "model = model.to(dev)\n",
    "\n",
    "# train the model\n",
    "n_epochs = 20\n",
    "energy_history = []\n",
    "optimizer = torch.optim.Adam(model.parameters(), lr=0.1)\n",
    "for epoch in range(n_epochs):\n",
    "    optimizer.zero_grad()\n",
    "    energy = model()\n",
    "    energy.backward()\n",
    "    optimizer.step()    \n",
    "    print(f\"Epoch {epoch}: Energy = {energy.item()}\")\n",
    "    # save the current energy\n",
    "    energy = energy.item()\n",
    "    energy_history.append(energy)\n",
    "\n",
    "plt.plot(energy_history)\n",
    "plt.ylabel(\"Energy\")\n",
    "plt.xlabel(\"Epoch\")\n",
    "\n",
    "# this is the item we were looking for\n",
    "print(f\"\\n -> We were looking for item: {item_index:0{nqubits}b}\")\n",
    "\n",
    "# uncomment this to check which item your model found\n",
    "# `circuit` should be the parametric circuit that you \n",
    "# built the QuantumModel with\n",
    "visualize_state(circuit())\n"
   ]
  },
  {
   "cell_type": "markdown",
   "id": "beeb1936-da84-4c0e-813c-b84860c7cb88",
   "metadata": {},
   "source": [
    "### Fetching multiple items\n",
    "\n",
    "<div style=\"background-color: rgba(255, 105, 105, 0.3); border: 2.5px solid #000000; padding: 15px;\">\n",
    "    <strong>Exercise:</strong> \n",
    "    What if instead we wanted to retrieve multiple items at once?\n",
    "</div>\n",
    "\n",
    "**hint:**\n",
    "<details>\n",
    "    <summary>show</summary>\n",
    "    In the multi-items case the energy landscape becomes way more rugged, thus a more careful tuning of the number of parameters of the circuit and number of epochs may be required...\n",
    "</details>"
   ]
  },
  {
   "cell_type": "code",
   "execution_count": 5,
   "id": "cc699fd9-6852-49dd-b6f4-4882e2542a69",
   "metadata": {},
   "outputs": [],
   "source": [
    "item_indices = [31, 7, 16]\n",
    "n_items = 32\n",
    "\n",
    "# define a function that takes a list of indices, item_indices, and n_items\n",
    "# as inputs and produces the Hamiltonian\n",
    "def multi_grover_hamiltonian(item_indices: list[int], n_items: int) -> SymbolicHamiltonian:\n",
    "    return sum(grover_hamiltonian(index, n_items) for index in item_indices)"
   ]
  },
  {
   "cell_type": "code",
   "execution_count": 6,
   "id": "bd40e7e7-615a-4ad5-8ace-60f71b066f0a",
   "metadata": {},
   "outputs": [
    {
     "name": "stdout",
     "output_type": "stream",
     "text": [
      "Epoch 0: Energy = 0.9516363560165118\n",
      "Epoch 10: Energy = -25.567354198285862\n",
      "Epoch 20: Energy = -28.383865992300457\n",
      "Epoch 30: Energy = -28.730326702390563\n",
      "Epoch 40: Energy = -28.878216348841374\n",
      "Epoch 50: Energy = -28.970413916004986\n",
      "Epoch 60: Energy = -28.984754064026006\n",
      "Epoch 70: Energy = -28.99529918615492\n",
      "Epoch 80: Energy = -28.998488791384418\n",
      "Epoch 90: Energy = -28.999279471373058\n",
      "Epoch 100: Energy = -28.999722753367045\n",
      "Epoch 110: Energy = -28.999879277123647\n",
      "Epoch 120: Energy = -28.999931118748364\n",
      "Epoch 130: Energy = -28.999964870702264\n",
      "Epoch 140: Energy = -28.999978068696418\n",
      "Epoch 150: Energy = -28.99998562553825\n",
      "Epoch 160: Energy = -28.99999032296683\n",
      "Epoch 170: Energy = -28.999993346682448\n",
      "Epoch 180: Energy = -28.99999542813266\n",
      "Epoch 190: Energy = -28.999996906326675\n",
      "\n",
      " -> We were looking for items: ['11111', '00111', '10000']\n"
     ]
    },
    {
     "data": {
      "text/plain": [
       "(<Axes: xlabel='States', ylabel='Probabilities'>,\n",
       " <Figure size 750x500 with 1 Axes>)"
      ]
     },
     "execution_count": 6,
     "metadata": {},
     "output_type": "execute_result"
    },
    {
     "data": {
      "image/png": "[encoded data removed]",
      "text/plain": [
       "<Figure size 640x480 with 1 Axes>"
      ]
     },
     "metadata": {},
     "output_type": "display_data"
    },
    {
     "data": {
      "image/png": "[encoded data removed]",
      "text/plain": [
       "<Figure size 750x500 with 1 Axes>"
      ]
     },
     "metadata": {},
     "output_type": "display_data"
    }
   ],
   "source": [
    "# define the parametric parts \n",
    "circuit = HardwareEfficient(nqubits=nqubits, nlayers=10)\n",
    "circuit_structure = [circuit,]\n",
    "\n",
    "# define the decoding strategy\n",
    "decoder = Expectation(\n",
    "    nqubits=nqubits,\n",
    "    observable=multi_grover_hamiltonian(item_indices, n_items), # this is the default choice anyway\n",
    ")\n",
    "\n",
    "# build your quantum model\n",
    "model = QuantumModel(\n",
    "   circuit_structure,\n",
    "   decoder\n",
    ")\n",
    "model = model.to(dev)\n",
    "\n",
    "# train the model\n",
    "n_epochs = 200\n",
    "energy_history = []\n",
    "optimizer = torch.optim.Adam(model.parameters(), lr=0.1)\n",
    "for epoch in range(n_epochs):\n",
    "    optimizer.zero_grad()\n",
    "    energy = model()\n",
    "    energy.backward()\n",
    "    optimizer.step()    \n",
    "    if epoch % 10 == 0:\n",
    "        print(f\"Epoch {epoch}: Energy = {energy.item()}\")\n",
    "    # save the current energy\n",
    "    energy = energy.item()\n",
    "    energy_history.append(energy)\n",
    "\n",
    "plt.plot(energy_history)\n",
    "plt.ylabel(\"Energy\")\n",
    "plt.xlabel(\"Epoch\")\n",
    "\n",
    "# these are the items we were looking for\n",
    "bitstrings = [f\"{index:0{nqubits}b}\" for index in item_indices]\n",
    "print(f\"\\n -> We were looking for items: {bitstrings}\")\n",
    "\n",
    "# uncomment this to check which items your model found\n",
    "# `circuit` should be the parametric circuit that you \n",
    "# built the QuantumModel with\n",
    "visualize_state(circuit())"
   ]
  },
  {
   "cell_type": "markdown",
   "id": "656985fe-625b-4712-a892-dbceb6274e38",
   "metadata": {},
   "source": [
    "<div style=\"background-color: rgba(255, 105, 105, 0.3); border: 2.5px solid #000000; padding: 15px;\">\n",
    "    <strong>Exercise:</strong> Write a quantum circuit with 3 qubits to produce the states $|001\\rangle$, $|010\\rangle$, and $|111\\rangle$.\n",
    "    <br>\n",
    "    ... but this time, using a single circuit!\n",
    "    <br>\n",
    "    For simplicity, let's say that we are not interested in obtaining specific amplitudes, but just a generic superposition of those 3 states:\n",
    "    $$\\alpha |001\\rangle + \\beta |010\\rangle + \\gamma |111\\rangle $$\n",
    "</div>"
   ]
  },
  {
   "cell_type": "code",
   "execution_count": 7,
   "id": "f0199187-1efc-4620-a28b-779665b5d535",
   "metadata": {},
   "outputs": [],
   "source": [
    "from qibo import Circuit\n",
    "\n",
    "def superposition_preparation(state_indices: list[int], n_layers=2, n_epochs=200) -> Circuit:\n",
    "    item_indices = state_indices\n",
    "    nqubits = max(item_indices).bit_length()\n",
    "    n_items = 2 ** nqubits\n",
    "\n",
    "    # define the parametric parts \n",
    "    circuit = HardwareEfficient(nqubits=nqubits, nlayers=n_layers)\n",
    "    circuit_structure = [circuit,]\n",
    "    \n",
    "    # define the decoding strategy\n",
    "    decoder = Expectation(\n",
    "        nqubits=nqubits,\n",
    "        observable=multi_grover_hamiltonian(item_indices, n_items), # this is the default choice anyway\n",
    "    )\n",
    "    \n",
    "    # build your quantum model\n",
    "    model = QuantumModel(\n",
    "       circuit_structure,\n",
    "       decoder\n",
    "    )\n",
    "    model = model.to(dev)\n",
    "    \n",
    "    # train the model\n",
    "    energy_history = []\n",
    "    optimizer = torch.optim.Adam(model.parameters(), lr=0.1)\n",
    "    for epoch in range(n_epochs):\n",
    "        optimizer.zero_grad()\n",
    "        energy = model()\n",
    "        energy.backward()\n",
    "        optimizer.step()    \n",
    "        #if epoch % 10 == 0:\n",
    "        #    print(f\"Epoch {epoch}: Energy = {energy.item()}\")\n",
    "        # save the current energy\n",
    "        energy = energy.item()\n",
    "        energy_history.append(energy)\n",
    "    \n",
    "    #plt.plot(energy_history)\n",
    "    #plt.ylabel(\"Energy\")\n",
    "    #plt.xlabel(\"Epoch\")\n",
    "    \n",
    "    # these are the items we were looking for\n",
    "    bitstrings = [f\"{index:0{nqubits}b}\" for index in item_indices]\n",
    "    #print(f\"\\n -> We were looking for items: {bitstrings}\")\n",
    "    \n",
    "    # uncomment this to check which items your model found\n",
    "    # `circuit` should be the parametric circuit that you \n",
    "    # built the QuantumModel with\n",
    "    #visualize_state(circuit())\n",
    "    return circuit"
   ]
  },
  {
   "cell_type": "code",
   "execution_count": 8,
   "id": "7080eef7-78ed-45f1-8e4d-afb2b222458b",
   "metadata": {},
   "outputs": [
    {
     "data": {
      "text/plain": [
       "(<Axes: xlabel='States', ylabel='Probabilities'>,\n",
       " <Figure size 600x500 with 1 Axes>)"
      ]
     },
     "execution_count": 8,
     "metadata": {},
     "output_type": "execute_result"
    },
    {
     "data": {
      "image/png": "[encoded data removed]",
      "text/plain": [
       "<Figure size 600x500 with 1 Axes>"
      ]
     },
     "metadata": {},
     "output_type": "display_data"
    }
   ],
   "source": [
    "circuit = superposition_preparation([1,2,7])\n",
    "visualize_state(circuit())"
   ]
  },
  {
   "cell_type": "code",
   "execution_count": 9,
   "id": "78686deb-8baa-4f51-823b-01713f5ab400",
   "metadata": {},
   "outputs": [
    {
     "name": "stdout",
     "output_type": "stream",
     "text": [
      "Superposition built 60.0% of the times\n"
     ]
    }
   ],
   "source": [
    "from qibo import gates\n",
    "\n",
    "n_repetitions = 10\n",
    "n_hits = 0\n",
    "state_indices = [1,2,7]\n",
    "bitstrings = [f\"{index:0{3}b}\" for index in state_indices]\n",
    "for _ in range(n_repetitions):\n",
    "    circuit = superposition_preparation(state_indices)\n",
    "    circuit.add(gates.M(*range(3)))\n",
    "    freq = circuit().frequencies()\n",
    "    if len(freq) == 3 and all(bitstring in freq for bitstring in bitstrings):\n",
    "        n_hits += 1\n",
    "\n",
    "print(f\"Superposition built {n_hits/n_repetitions * 100}% of the times\")"
   ]
  },
  {
   "cell_type": "code",
   "execution_count": null,
   "id": "be65fb10-281f-4113-955b-b67e990b752e",
   "metadata": {},
   "outputs": [],
   "source": []
  }
 ],
 "metadata": {
  "kernelspec": {
   "display_name": "Python 3 (ipykernel)",
   "language": "python",
   "name": "python3"
  },
  "language_info": {
   "codemirror_mode": {
    "name": "ipython",
    "version": 3
   },
   "file_extension": ".py",
   "mimetype": "text/x-python",
   "name": "python",
   "nbconvert_exporter": "python",
   "pygments_lexer": "ipython3",
   "version": "3.10.16"
  }
 },
 "nbformat": 4,
 "nbformat_minor": 5
}
