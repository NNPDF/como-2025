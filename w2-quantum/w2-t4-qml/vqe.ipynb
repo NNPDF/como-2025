{
 "cells": [
  {
   "cell_type": "markdown",
   "id": "7814de46-21a1-469c-b3a5-9e7f1c1caaa7",
   "metadata": {},
   "source": [
    "# Variational Quantum Eigensolver (VQE)\n",
    "\n",
    "A variational quantum eigensolver is a variational quantum algorithm where a parametrized quantum circuit is trained to prepare the ground state of a target Hamiltonian [See A. Peruzzo et al. - 2013](https://arxiv.org/abs/1304.3061).\n",
    "\n",
    "<img src=\"./figures/vqe.png\" width=\"800\" height=\"500\" alt=\"My Image\">\n",
    "\n",
    "As sketched above, the idea is that we get a state from a quantum circuit, and this state depends on the parameters of the circuit. Then we implement a machine learning routine to update the parameters of the circuit such that the expectation value of our target Hamiltonian on this state is minimized."
   ]
  },
  {
   "cell_type": "markdown",
   "id": "c56ba8fe-1b87-46b9-84ea-e5bf56e016f4",
   "metadata": {},
   "source": [
    "<div style=\"background-color: rgba(255, 105, 105, 0.3); border: 2.5px solid #000000; padding: 15px;\">\n",
    "    <strong>Exercise:</strong> \n",
    "    Solve the Grover problem using a VQE. Suppose that you want to find the $i$-th item in a database of $2^n$ items. To do that you have to formulate the problem as an energy minimization problem: you first define an Hamiltonian which encodes in its ground state the $i$-th item you are interested in, then you train your QML model to miminize the expectation value of such Hamiltonian.\n",
    "    \n",
    "</div>\n",
    "\n",
    "### Problem's Hamiltonian\n",
    "First you'll have to come up with the Hamiltonian form that solves the problem, i.e. that encodes the i-th item in its ground state. \n",
    "You can use ``qibo``'s ``SymbolicHamiltonian`` and symbols to define the form of your Grover's Hamiltonian."
   ]
  },
  {
   "cell_type": "code",
   "execution_count": 1,
   "id": "1ab9335e-0969-4ee9-9ce0-77839ef82c22",
   "metadata": {},
   "outputs": [
    {
     "name": "stderr",
     "output_type": "stream",
     "text": [
      "[Qibo 0.2.20|INFO|2025-07-18 17:18:18]: Using qibojit (cupy) backend on /GPU:0\n"
     ]
    },
    {
     "data": {
      "text/latex": [
       "$\\displaystyle 1 + Z_{0} I_{1} - Z_{2} \\left(1 + I_{0} Z_{1} Z_{2}\\right)$"
      ],
      "text/plain": [
       "1 + Z0*I1 - Z2*(1 + I0*Z1*Z2)"
      ]
     },
     "execution_count": 1,
     "metadata": {},
     "output_type": "execute_result"
    }
   ],
   "source": [
    "from qibo.hamiltonians import SymbolicHamiltonian\n",
    "from qibo.symbols import Z, I\n",
    "\n",
    "# this creates a Z0 * I1 operator, i.e. a tensor product between a pauli Z\n",
    "# on the first qubit and the identity on the second qubit\n",
    "form = Z(0) * I(1)\n",
    "# you can also add other terms\n",
    "form += 1 - Z(2) * (1 + I(0) * Z(1) * Z(2))\n",
    "H = SymbolicHamiltonian(form, nqubits=3)\n",
    "H.form"
   ]
  },
  {
   "cell_type": "markdown",
   "id": "12d5d4f9-721f-4220-8b7c-990648a83bf1",
   "metadata": {},
   "source": [
    "**hint 1:** \n",
    "\n",
    "<details>\n",
    "<summary> show </summary>\n",
    "If you represent items in the database as bitstrings, then supposing the item you're looking for corresponds to the state with $| x^\\ast \\rangle = | x_0x_1 ... x_n \\rangle$, you may want to write the projector onto that state.\n",
    "</details>"
   ]
  },
  {
   "cell_type": "markdown",
   "id": "7c6c843c-a2a7-43bf-82eb-6e86b0f2ff06",
   "metadata": {},
   "source": [
    "**hint 2:** \n",
    "\n",
    "<details>\n",
    "<summary> show </summary>\n",
    "The projector you need is therefore $| x^\\ast \\rangle \\langle x^\\ast|$ and you can build the hamiltonian as: \n",
    "    $$H = 1 - | x^\\ast \\rangle \\langle x^\\ast |$$ \n",
    "which, since $x^\\ast$ is a string of bits, can be written in terms of $Z$ pauli operators as:\n",
    "    $$H = 1 - \\bigotimes_i \\bigg( 1 + (-1)^{x_i} Z_i \\bigg)$$\n",
    "where the $x_i$ are the bits composing $x^\\ast$.\n",
    "</details>"
   ]
  },
  {
   "cell_type": "code",
   "execution_count": 2,
   "id": "530347f0-6842-4f70-a55f-b72c08f37150",
   "metadata": {},
   "outputs": [],
   "source": [
    "# item to find\n",
    "item_index = 11 \n",
    "# database dimension\n",
    "n_items = 32\n",
    "# how many qubits do we need?\n",
    "# use the minimum number of qubits possible!\n",
    "nqubits = 10\n",
    "\n",
    "# define a function that takes item_index and n_items\n",
    "# as inputs and produces the Grover Hamiltonian\n",
    "def grover_hamiltonian(item_index: int, n_items: int) -> SymbolicHamiltonian:\n",
    "    pass\n",
    "\n",
    "H = grover_hamiltonian(item_index, n_items)"
   ]
  },
  {
   "cell_type": "markdown",
   "id": "f80a68fc-0767-4fd7-80f3-b4b18e2fc605",
   "metadata": {},
   "source": [
    "### Build the QML model and train it!\n",
    "\n",
    "Now that we have the Hamiltonian, you can build the desired QML model using the tools introduced in the previous notebook. You can always use the ``HardwareEfficient`` ansatz to build the core of your model if you like, or you can come up with your custom parametrized circuit, but do you actually need any encoder in this case?"
   ]
  },
  {
   "cell_type": "code",
   "execution_count": 3,
   "id": "82d6bbfd-a766-45da-820f-6fdb271f110d",
   "metadata": {},
   "outputs": [
    {
     "name": "stderr",
     "output_type": "stream",
     "text": [
      "2025-07-18 17:18:19.298952: E external/local_xla/xla/stream_executor/cuda/cuda_fft.cc:467] Unable to register cuFFT factory: Attempting to register factory for plugin cuFFT when one has already been registered\n",
      "WARNING: All log messages before absl::InitializeLog() is called are written to STDERR\n",
      "E0000 00:00:1752851899.310909    9810 cuda_dnn.cc:8579] Unable to register cuDNN factory: Attempting to register factory for plugin cuDNN when one has already been registered\n",
      "E0000 00:00:1752851899.314602    9810 cuda_blas.cc:1407] Unable to register cuBLAS factory: Attempting to register factory for plugin cuBLAS when one has already been registered\n",
      "W0000 00:00:1752851899.324954    9810 computation_placer.cc:177] computation placer already registered. Please check linkage and avoid linking the same target more than once.\n",
      "W0000 00:00:1752851899.324965    9810 computation_placer.cc:177] computation placer already registered. Please check linkage and avoid linking the same target more than once.\n",
      "W0000 00:00:1752851899.324966    9810 computation_placer.cc:177] computation placer already registered. Please check linkage and avoid linking the same target more than once.\n",
      "W0000 00:00:1752851899.324967    9810 computation_placer.cc:177] computation placer already registered. Please check linkage and avoid linking the same target more than once.\n"
     ]
    },
    {
     "name": "stdout",
     "output_type": "stream",
     "text": [
      "\n",
      " -> We were looking for item: 0000001011\n"
     ]
    },
    {
     "data": {
      "image/png": "[encoded data removed]",
      "text/plain": [
       "<Figure size 640x480 with 1 Axes>"
      ]
     },
     "metadata": {},
     "output_type": "display_data"
    }
   ],
   "source": [
    "from qiboml.interfaces.pytorch import QuantumModel\n",
    "from qibo.ui.result_visualization import visualize_state\n",
    "import matplotlib.pyplot as plt\n",
    "\n",
    "# define the parametric parts \n",
    "circuit_structure = []\n",
    "# define the decoding strategy\n",
    "decoder = None\n",
    "\n",
    "# build your quantum model\n",
    "#model = QuantumModel(\n",
    "#   circuit_structure,\n",
    "#   decoder\n",
    "#)\n",
    "\n",
    "# train the model\n",
    "n_epochs = 10\n",
    "energy_history = []\n",
    "for epoch in range(n_epochs):\n",
    "    # ... \n",
    "    # ...\n",
    "    # save the current energy\n",
    "    energy = 0.\n",
    "    energy_history.append(energy)\n",
    "\n",
    "plt.plot(energy_history)\n",
    "plt.ylabel(\"Energy\")\n",
    "plt.xlabel(\"Epoch\")\n",
    "\n",
    "# this is the item we were looking for\n",
    "print(f\"\\n -> We were looking for item: {item_index:0{nqubits}b}\")\n",
    "\n",
    "# uncomment this to check which item your model found\n",
    "# `circuit` should be the parametric circuit that you \n",
    "# built the QuantumModel with\n",
    "#visualize_state(circuit())\n"
   ]
  },
  {
   "cell_type": "markdown",
   "id": "beeb1936-da84-4c0e-813c-b84860c7cb88",
   "metadata": {},
   "source": [
    "### Fetching multiple items\n",
    "\n",
    "<div style=\"background-color: rgba(255, 105, 105, 0.3); border: 2.5px solid #000000; padding: 15px;\">\n",
    "    <strong>Exercise:</strong> \n",
    "    What if instead we wanted to retrieve multiple items at once?\n",
    "</div>"
   ]
  },
  {
   "cell_type": "code",
   "execution_count": 4,
   "id": "cc699fd9-6852-49dd-b6f4-4882e2542a69",
   "metadata": {},
   "outputs": [],
   "source": [
    "item_indices = [31, 7, 16]\n",
    "n_items = 32\n",
    "\n",
    "# define a function that takes a list of indices, item_indices, and n_items\n",
    "# as inputs and produces the Hamiltonian\n",
    "def multi_grover_hamiltonian(item_indices: list[int], n_items: int) -> SymbolicHamiltonian:\n",
    "    pass"
   ]
  },
  {
   "cell_type": "code",
   "execution_count": 5,
   "id": "bd40e7e7-615a-4ad5-8ace-60f71b066f0a",
   "metadata": {},
   "outputs": [
    {
     "name": "stdout",
     "output_type": "stream",
     "text": [
      "\n",
      " -> We were looking for items: ['0000011111', '0000000111', '0000010000']\n"
     ]
    },
    {
     "data": {
      "image/png": "[encoded data removed]",
      "text/plain": [
       "<Figure size 640x480 with 1 Axes>"
      ]
     },
     "metadata": {},
     "output_type": "display_data"
    }
   ],
   "source": [
    "# define the parametric parts \n",
    "circuit_structure = []\n",
    "# define the decoding strategy\n",
    "decoder = None\n",
    "\n",
    "# build your quantum model\n",
    "#model = QuantumModel(\n",
    "#   circuit_structure,\n",
    "#   decoder\n",
    "#)\n",
    "\n",
    "# train the model\n",
    "n_epochs = 10\n",
    "energy_history = []\n",
    "for epoch in range(n_epochs):\n",
    "    # ... \n",
    "    # ...\n",
    "    # save the current energy\n",
    "    energy = 0.\n",
    "    energy_history.append(energy)\n",
    "\n",
    "plt.plot(energy_history)\n",
    "plt.ylabel(\"Energy\")\n",
    "plt.xlabel(\"Epoch\")\n",
    "\n",
    "# these are the items we were looking for\n",
    "bitstrings = [f\"{index:0{nqubits}b}\" for index in item_indices]\n",
    "print(f\"\\n -> We were looking for items: {bitstrings}\")\n",
    "\n",
    "# uncomment this to check which items your model found\n",
    "# `circuit` should be the parametric circuit that you \n",
    "# built the QuantumModel with\n",
    "#visualize_state(circuit())"
   ]
  },
  {
   "cell_type": "code",
   "execution_count": null,
   "id": "f0199187-1efc-4620-a28b-779665b5d535",
   "metadata": {},
   "outputs": [],
   "source": []
  }
 ],
 "metadata": {
  "kernelspec": {
   "display_name": "Python 3 (ipykernel)",
   "language": "python",
   "name": "python3"
  },
  "language_info": {
   "codemirror_mode": {
    "name": "ipython",
    "version": 3
   },
   "file_extension": ".py",
   "mimetype": "text/x-python",
   "name": "python",
   "nbconvert_exporter": "python",
   "pygments_lexer": "ipython3",
   "version": "3.10.18"
  }
 },
 "nbformat": 4,
 "nbformat_minor": 5
}
