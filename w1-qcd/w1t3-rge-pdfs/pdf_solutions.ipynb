{
 "cells": [
  {
   "attachments": {},
   "cell_type": "markdown",
   "id": "eb8ce77a",
   "metadata": {},
   "source": [
    "In this final tutorial we will show how to use EKO interfaced with LHAPDF to check different properties of PDFs. \n"
   ]
  },
  {
   "cell_type": "code",
   "execution_count": 1,
   "id": "6a26de44",
   "metadata": {},
   "outputs": [
    {
     "name": "stdout",
     "output_type": "stream",
     "text": [
      "PDF already installed: CT14llo (use --upgrade to force install)\n",
      "PDF already installed: NNPDF40_nnlo_as_01180 (use --upgrade to force install)\n"
     ]
    }
   ],
   "source": [
    "!lhapdf install CT14llo\n",
    "!lhapdf install NNPDF40_nnlo_as_01180"
   ]
  },
  {
   "cell_type": "code",
   "execution_count": 2,
   "id": "3ee636f6",
   "metadata": {},
   "outputs": [],
   "source": [
    "import numpy as np\n",
    "import pandas as pd\n",
    "import lhapdf\n",
    "import pathlib\n",
    "from matplotlib import pyplot as plt\n",
    "import eko\n",
    "from eko.interpolation import lambertgrid\n",
    "from ekobox.cards import example"
   ]
  },
  {
   "attachments": {},
   "cell_type": "markdown",
   "id": "6a4ccad5-2d9d-44ae-802f-455a9cc17c05",
   "metadata": {},
   "source": [
    "## Evolving a PDF\n",
    "\n",
    "Here we illustrate how to get (and install) directly a LHAPDF set evolved with eko. "
   ]
  },
  {
   "attachments": {},
   "cell_type": "markdown",
   "id": "bbbae6d6",
   "metadata": {},
   "source": [
    "Now, we set the theory inputs: in this example we will evolve our PDF at LO and create a new LHAPDF object with\n",
    "a size two `mugrid`."
   ]
  },
  {
   "cell_type": "code",
   "execution_count": 3,
   "id": "4a68494f",
   "metadata": {},
   "outputs": [],
   "source": [
    "th_card = example.theory()\n",
    "op_card = example.operator()\n",
    "# here we replace the grid with a very minimal one, to speed up the example\n",
    "op_card.xgrid = eko.interpolation.XGrid([1e-3, 1e-2, 1e-1, 5e-1, 1.0])\n",
    "op_card.mugrid = [[10.0, 5], [100.0, 5]]\n",
    "# set QCD LO evolution\n",
    "th_card.order = (1, 0)"
   ]
  },
  {
   "attachments": {},
   "cell_type": "markdown",
   "id": "4f1323db",
   "metadata": {},
   "source": [
    "We are ready to run eko and install the new PDF set.\n",
    "Note, that if the evolved PDF already exists, the code will overwrite it.\n",
    "\n",
    "You can set the variable `path` in `evolve_pdfs` to load a precomputed EKO, while setting `store_path` you can save the produced EKO and reuse it later.\n",
    "You can also iterate on the given PDF objects (e.g. replicas)."
   ]
  },
  {
   "cell_type": "code",
   "execution_count": 4,
   "id": "8c18c327",
   "metadata": {},
   "outputs": [
    {
     "name": "stdout",
     "output_type": "stream",
     "text": [
      "LHAPDF 6.5.5 loading /Users/evagroenendijk/anaconda3/share/LHAPDF/NNPDF40_nnlo_as_01180/NNPDF40_nnlo_as_01180_0000.dat\n",
      "NNPDF40_nnlo_as_01180 PDF set, member #0, version 1; LHAPDF ID = 331100\n",
      "install_pdf my_first_PDF\n"
     ]
    }
   ],
   "source": [
    "from ekobox.evol_pdf import evolve_pdfs\n",
    "\n",
    "# choose a PDFs set as a boundary condition\n",
    "pdf = lhapdf.mkPDF(\"NNPDF40_nnlo_as_01180\")\n",
    "\n",
    "# set a path to store the eko\n",
    "path = pathlib.Path(\"./myeko2.tar\")\n",
    "# and delete it in case it is already present\n",
    "path.unlink(missing_ok=True)\n",
    "\n",
    "evolve_pdfs([pdf], th_card, op_card, name=\"my_first_PDF\", store_path=path, install=True)"
   ]
  },
  {
   "attachments": {},
   "cell_type": "markdown",
   "id": "888e659d",
   "metadata": {},
   "source": [
    "Now, you can access the evolved PDF as all the other PDF sets (note that this requires the Python interface of lhapdf)."
   ]
  },
  {
   "cell_type": "code",
   "execution_count": 5,
   "id": "cf532a93-7a56-4e45-abd0-50e8652e9a59",
   "metadata": {},
   "outputs": [
    {
     "name": "stdout",
     "output_type": "stream",
     "text": [
      "LHAPDF 6.5.5 loading /Users/evagroenendijk/anaconda3/share/LHAPDF/my_first_PDF/my_first_PDF_0000.dat\n",
      "my_first_PDF PDF set, member #0, version 1\n"
     ]
    }
   ],
   "source": [
    "evolved_pdf = lhapdf.mkPDF(\"my_first_PDF\", 0)"
   ]
  },
  {
   "attachments": {},
   "cell_type": "markdown",
   "id": "4622dc19",
   "metadata": {},
   "source": [
    "To obtain the value of the gluon PDF at a given scale you can simply do:"
   ]
  },
  {
   "cell_type": "code",
   "execution_count": 6,
   "id": "9a85c78d",
   "metadata": {},
   "outputs": [
    {
     "name": "stdout",
     "output_type": "stream",
     "text": [
      "Is gluon in our PDF? True\n",
      "xg(x=0.01, mu^2=89.1) = 5.4395796981225155\n"
     ]
    }
   ],
   "source": [
    "pid = 21  # gluon pid\n",
    "mu2 = 89.10  # mu^2 in Gev^2\n",
    "x = 0.01  # momentum fraction\n",
    "\n",
    "# check that the particle is present\n",
    "print(\"Is gluon in our PDF?\", evolved_pdf.hasFlavor(pid))\n",
    "# now, let's do a lookup\n",
    "xg = evolved_pdf.xfxQ2(pid, x, mu2)\n",
    "print(f\"xg(x={x}, mu^2={mu2}) = {xg}\")"
   ]
  },
  {
   "attachments": {},
   "cell_type": "markdown",
   "id": "58b26d42",
   "metadata": {},
   "source": [
    "## Benchmark to CT14llo\n",
    "\n",
    "In this part of the tutorial we do an eko benchmark showing how PDFs evolved with eko can reproduce the values from the original LHAPDF grids."
   ]
  },
  {
   "attachments": {},
   "cell_type": "markdown",
   "id": "e5afc630",
   "metadata": {},
   "source": [
    "First, we need to set up the theory and operator runcards to match the settings used to produce the chosen PDF, here we will use `CT14llo`.\n",
    "\n",
    "We have to use LO evolution and we choose to dump our PDF into grids with 5 values of `mu2` and 60 points."
   ]
  },
  {
   "cell_type": "code",
   "execution_count": 7,
   "id": "00f4f8a4",
   "metadata": {},
   "outputs": [
    {
     "name": "stdout",
     "output_type": "stream",
     "text": [
      "LHAPDF 6.5.5 loading /Users/evagroenendijk/anaconda3/share/LHAPDF/CT14llo/CT14llo_0000.dat\n",
      "CT14llo PDF set, member #0, version 1; LHAPDF ID = 13205\n"
     ]
    }
   ],
   "source": [
    "from eko.quantities.heavy_quarks import QuarkMassRef, HeavyQuarks\n",
    "\n",
    "\n",
    "# get the PDF object\n",
    "ct14llo = lhapdf.mkPDF(\"CT14llo\")\n",
    "\n",
    "# setup the operator card\n",
    "op_card = example.operator()\n",
    "op_card.xgrid = eko.interpolation.XGrid(lambertgrid(60))  # x grid\n",
    "op_card.mugrid = [\n",
    "    (float(mu), 4 if mu <= 4.75 else 5) for mu in np.geomspace(5.0, 100, 5)\n",
    "]  # mu, nf grid\n",
    "op_card.mu0 = 1.295000  # starting point for the evolution\n",
    "\n",
    "# setup the theory card - this can be mostly inferred from the PDF's .info file\n",
    "\n",
    "th_card = example.theory()\n",
    "th_card.order = (1, 0)  # QCD LO\n",
    "th_card.heavy.masses = HeavyQuarks(\n",
    "    [\n",
    "        QuarkMassRef([1.3, np.nan]),\n",
    "        QuarkMassRef([4.75, np.nan]),\n",
    "        QuarkMassRef([172.0, np.nan]),\n",
    "    ]\n",
    ")  # quark mass\n",
    "th_card.couplings.alphas = 0.130000  # reference value of alpha_s\n",
    "th_card.couplings.scale = 91.1876  # the reference scale at which alpha_s is provided\n",
    "th_card.couplings.num_flavs_ref = (\n",
    "    5  # the number of flavors active at the alpha_s reference scale\n",
    ")\n",
    "th_card.couplings.num_flavs_init = (\n",
    "    3  # the number of flavors active at the reference scale\n",
    ")"
   ]
  },
  {
   "attachments": {},
   "cell_type": "markdown",
   "id": "a0a51d8b",
   "metadata": {},
   "source": [
    "Next, we run the evolution and save the new PDF. Due to the extended `x` grid and `mu2` grid this might take a minute so please be patient ..."
   ]
  },
  {
   "cell_type": "code",
   "execution_count": 8,
   "id": "05b81dca",
   "metadata": {},
   "outputs": [
    {
     "name": "stdout",
     "output_type": "stream",
     "text": [
      "install_pdf my_ct14llo\n"
     ]
    }
   ],
   "source": [
    "path = pathlib.Path(\"./myeko_ct14llo.tar\")\n",
    "path.unlink(missing_ok=True)\n",
    "evolve_pdfs(\n",
    "    [ct14llo], th_card, op_card, name=\"my_ct14llo\", store_path=path, install=True\n",
    ")"
   ]
  },
  {
   "attachments": {},
   "cell_type": "markdown",
   "id": "df0e805f",
   "metadata": {},
   "source": [
    "Now, we can compare the values given by the original PDF set and the one evolved with eko, both at different `x` and `mu2` scales, for a chosen parton,\n",
    "here we look at the gluon:"
   ]
  },
  {
   "cell_type": "code",
   "execution_count": 9,
   "id": "2b02aab1",
   "metadata": {},
   "outputs": [
    {
     "name": "stdout",
     "output_type": "stream",
     "text": [
      "LHAPDF 6.5.5 loading /Users/evagroenendijk/anaconda3/share/LHAPDF/my_ct14llo/my_ct14llo_0000.dat\n",
      "my_ct14llo PDF set, member #0, version 1\n"
     ]
    }
   ],
   "source": [
    "# load evolved pdf\n",
    "my_ct14llo = lhapdf.mkPDF(\"my_ct14llo\", 0)\n",
    "\n",
    "# let's check the gluon as an example\n",
    "pid = 21\n",
    "\n",
    "# collect data\n",
    "log = {\"x\": [], \"mu2\": [], \"ct14llo\": [], \"my_ct14llo\": [], \"relative_diff\": []}\n",
    "for mu2 in np.geomspace(25.0, 10000, 5):\n",
    "    for x in np.geomspace(1e-5, 0.9, 5):\n",
    "        value = ct14llo.xfxQ2(pid, x, mu2)\n",
    "        my_value = my_ct14llo.xfxQ2(pid, x, mu2)\n",
    "        log[\"x\"].append(x)\n",
    "        log[\"mu2\"].append(mu2)\n",
    "        log[\"ct14llo\"].append(value)\n",
    "        log[\"my_ct14llo\"].append(my_value)\n",
    "        log[\"relative_diff\"].append((value - my_value) * 100 / value)"
   ]
  },
  {
   "cell_type": "code",
   "execution_count": 10,
   "id": "ffc6ee6a-b19a-45de-8e03-0a7b82380052",
   "metadata": {},
   "outputs": [
    {
     "data": {
      "text/html": [
       "<div>\n",
       "<style scoped>\n",
       "    .dataframe tbody tr th:only-of-type {\n",
       "        vertical-align: middle;\n",
       "    }\n",
       "\n",
       "    .dataframe tbody tr th {\n",
       "        vertical-align: top;\n",
       "    }\n",
       "\n",
       "    .dataframe thead th {\n",
       "        text-align: right;\n",
       "    }\n",
       "</style>\n",
       "<table border=\"1\" class=\"dataframe\">\n",
       "  <thead>\n",
       "    <tr style=\"text-align: right;\">\n",
       "      <th></th>\n",
       "      <th>x</th>\n",
       "      <th>mu2</th>\n",
       "      <th>ct14llo</th>\n",
       "      <th>my_ct14llo</th>\n",
       "      <th>relative_diff</th>\n",
       "    </tr>\n",
       "  </thead>\n",
       "  <tbody>\n",
       "    <tr>\n",
       "      <th>0</th>\n",
       "      <td>0.000010</td>\n",
       "      <td>25.000000</td>\n",
       "      <td>7.635785e+01</td>\n",
       "      <td>7.632580e+01</td>\n",
       "      <td>0.041966</td>\n",
       "    </tr>\n",
       "    <tr>\n",
       "      <th>1</th>\n",
       "      <td>0.000173</td>\n",
       "      <td>25.000000</td>\n",
       "      <td>3.194273e+01</td>\n",
       "      <td>3.192935e+01</td>\n",
       "      <td>0.041888</td>\n",
       "    </tr>\n",
       "    <tr>\n",
       "      <th>2</th>\n",
       "      <td>0.003000</td>\n",
       "      <td>25.000000</td>\n",
       "      <td>1.081843e+01</td>\n",
       "      <td>1.081358e+01</td>\n",
       "      <td>0.044854</td>\n",
       "    </tr>\n",
       "    <tr>\n",
       "      <th>3</th>\n",
       "      <td>0.051962</td>\n",
       "      <td>25.000000</td>\n",
       "      <td>1.958956e+00</td>\n",
       "      <td>1.958258e+00</td>\n",
       "      <td>0.035608</td>\n",
       "    </tr>\n",
       "    <tr>\n",
       "      <th>4</th>\n",
       "      <td>0.900000</td>\n",
       "      <td>25.000000</td>\n",
       "      <td>1.922415e-05</td>\n",
       "      <td>1.262281e-05</td>\n",
       "      <td>34.338787</td>\n",
       "    </tr>\n",
       "    <tr>\n",
       "      <th>5</th>\n",
       "      <td>0.000010</td>\n",
       "      <td>111.803399</td>\n",
       "      <td>1.333957e+02</td>\n",
       "      <td>1.333740e+02</td>\n",
       "      <td>0.016266</td>\n",
       "    </tr>\n",
       "    <tr>\n",
       "      <th>6</th>\n",
       "      <td>0.000173</td>\n",
       "      <td>111.803399</td>\n",
       "      <td>4.777286e+01</td>\n",
       "      <td>4.776417e+01</td>\n",
       "      <td>0.018191</td>\n",
       "    </tr>\n",
       "    <tr>\n",
       "      <th>7</th>\n",
       "      <td>0.003000</td>\n",
       "      <td>111.803399</td>\n",
       "      <td>1.341028e+01</td>\n",
       "      <td>1.340777e+01</td>\n",
       "      <td>0.018742</td>\n",
       "    </tr>\n",
       "    <tr>\n",
       "      <th>8</th>\n",
       "      <td>0.051962</td>\n",
       "      <td>111.803399</td>\n",
       "      <td>1.978216e+00</td>\n",
       "      <td>1.978200e+00</td>\n",
       "      <td>0.000809</td>\n",
       "    </tr>\n",
       "    <tr>\n",
       "      <th>9</th>\n",
       "      <td>0.900000</td>\n",
       "      <td>111.803399</td>\n",
       "      <td>6.644805e-06</td>\n",
       "      <td>3.579746e-06</td>\n",
       "      <td>46.127147</td>\n",
       "    </tr>\n",
       "    <tr>\n",
       "      <th>10</th>\n",
       "      <td>0.000010</td>\n",
       "      <td>500.000000</td>\n",
       "      <td>1.967032e+02</td>\n",
       "      <td>1.966705e+02</td>\n",
       "      <td>0.016667</td>\n",
       "    </tr>\n",
       "    <tr>\n",
       "      <th>11</th>\n",
       "      <td>0.000173</td>\n",
       "      <td>500.000000</td>\n",
       "      <td>6.291393e+01</td>\n",
       "      <td>6.290202e+01</td>\n",
       "      <td>0.018940</td>\n",
       "    </tr>\n",
       "    <tr>\n",
       "      <th>12</th>\n",
       "      <td>0.003000</td>\n",
       "      <td>500.000000</td>\n",
       "      <td>1.542347e+01</td>\n",
       "      <td>1.542055e+01</td>\n",
       "      <td>0.018920</td>\n",
       "    </tr>\n",
       "    <tr>\n",
       "      <th>13</th>\n",
       "      <td>0.051962</td>\n",
       "      <td>500.000000</td>\n",
       "      <td>1.947465e+00</td>\n",
       "      <td>1.947452e+00</td>\n",
       "      <td>0.000636</td>\n",
       "    </tr>\n",
       "    <tr>\n",
       "      <th>14</th>\n",
       "      <td>0.900000</td>\n",
       "      <td>500.000000</td>\n",
       "      <td>2.929060e-06</td>\n",
       "      <td>1.295557e-06</td>\n",
       "      <td>55.768834</td>\n",
       "    </tr>\n",
       "    <tr>\n",
       "      <th>15</th>\n",
       "      <td>0.000010</td>\n",
       "      <td>2236.067977</td>\n",
       "      <td>2.633266e+02</td>\n",
       "      <td>2.632836e+02</td>\n",
       "      <td>0.016328</td>\n",
       "    </tr>\n",
       "    <tr>\n",
       "      <th>16</th>\n",
       "      <td>0.000173</td>\n",
       "      <td>2236.067977</td>\n",
       "      <td>7.708540e+01</td>\n",
       "      <td>7.707121e+01</td>\n",
       "      <td>0.018412</td>\n",
       "    </tr>\n",
       "    <tr>\n",
       "      <th>17</th>\n",
       "      <td>0.003000</td>\n",
       "      <td>2236.067977</td>\n",
       "      <td>1.700410e+01</td>\n",
       "      <td>1.700111e+01</td>\n",
       "      <td>0.017542</td>\n",
       "    </tr>\n",
       "    <tr>\n",
       "      <th>18</th>\n",
       "      <td>0.051962</td>\n",
       "      <td>2236.067977</td>\n",
       "      <td>1.893923e+00</td>\n",
       "      <td>1.893922e+00</td>\n",
       "      <td>0.000059</td>\n",
       "    </tr>\n",
       "    <tr>\n",
       "      <th>19</th>\n",
       "      <td>0.900000</td>\n",
       "      <td>2236.067977</td>\n",
       "      <td>1.544450e-06</td>\n",
       "      <td>5.770663e-07</td>\n",
       "      <td>62.636128</td>\n",
       "    </tr>\n",
       "    <tr>\n",
       "      <th>20</th>\n",
       "      <td>0.000010</td>\n",
       "      <td>10000.000000</td>\n",
       "      <td>3.314097e+02</td>\n",
       "      <td>3.313548e+02</td>\n",
       "      <td>0.016570</td>\n",
       "    </tr>\n",
       "    <tr>\n",
       "      <th>21</th>\n",
       "      <td>0.000173</td>\n",
       "      <td>10000.000000</td>\n",
       "      <td>9.023010e+01</td>\n",
       "      <td>9.021366e+01</td>\n",
       "      <td>0.018221</td>\n",
       "    </tr>\n",
       "    <tr>\n",
       "      <th>22</th>\n",
       "      <td>0.003000</td>\n",
       "      <td>10000.000000</td>\n",
       "      <td>1.825934e+01</td>\n",
       "      <td>1.825651e+01</td>\n",
       "      <td>0.015496</td>\n",
       "    </tr>\n",
       "    <tr>\n",
       "      <th>23</th>\n",
       "      <td>0.051962</td>\n",
       "      <td>10000.000000</td>\n",
       "      <td>1.830992e+00</td>\n",
       "      <td>1.831016e+00</td>\n",
       "      <td>-0.001332</td>\n",
       "    </tr>\n",
       "    <tr>\n",
       "      <th>24</th>\n",
       "      <td>0.900000</td>\n",
       "      <td>10000.000000</td>\n",
       "      <td>9.288458e-07</td>\n",
       "      <td>3.055435e-07</td>\n",
       "      <td>67.105034</td>\n",
       "    </tr>\n",
       "  </tbody>\n",
       "</table>\n",
       "</div>"
      ],
      "text/plain": [
       "           x           mu2       ct14llo    my_ct14llo  relative_diff\n",
       "0   0.000010     25.000000  7.635785e+01  7.632580e+01       0.041966\n",
       "1   0.000173     25.000000  3.194273e+01  3.192935e+01       0.041888\n",
       "2   0.003000     25.000000  1.081843e+01  1.081358e+01       0.044854\n",
       "3   0.051962     25.000000  1.958956e+00  1.958258e+00       0.035608\n",
       "4   0.900000     25.000000  1.922415e-05  1.262281e-05      34.338787\n",
       "5   0.000010    111.803399  1.333957e+02  1.333740e+02       0.016266\n",
       "6   0.000173    111.803399  4.777286e+01  4.776417e+01       0.018191\n",
       "7   0.003000    111.803399  1.341028e+01  1.340777e+01       0.018742\n",
       "8   0.051962    111.803399  1.978216e+00  1.978200e+00       0.000809\n",
       "9   0.900000    111.803399  6.644805e-06  3.579746e-06      46.127147\n",
       "10  0.000010    500.000000  1.967032e+02  1.966705e+02       0.016667\n",
       "11  0.000173    500.000000  6.291393e+01  6.290202e+01       0.018940\n",
       "12  0.003000    500.000000  1.542347e+01  1.542055e+01       0.018920\n",
       "13  0.051962    500.000000  1.947465e+00  1.947452e+00       0.000636\n",
       "14  0.900000    500.000000  2.929060e-06  1.295557e-06      55.768834\n",
       "15  0.000010   2236.067977  2.633266e+02  2.632836e+02       0.016328\n",
       "16  0.000173   2236.067977  7.708540e+01  7.707121e+01       0.018412\n",
       "17  0.003000   2236.067977  1.700410e+01  1.700111e+01       0.017542\n",
       "18  0.051962   2236.067977  1.893923e+00  1.893922e+00       0.000059\n",
       "19  0.900000   2236.067977  1.544450e-06  5.770663e-07      62.636128\n",
       "20  0.000010  10000.000000  3.314097e+02  3.313548e+02       0.016570\n",
       "21  0.000173  10000.000000  9.023010e+01  9.021366e+01       0.018221\n",
       "22  0.003000  10000.000000  1.825934e+01  1.825651e+01       0.015496\n",
       "23  0.051962  10000.000000  1.830992e+00  1.831016e+00      -0.001332\n",
       "24  0.900000  10000.000000  9.288458e-07  3.055435e-07      67.105034"
      ]
     },
     "execution_count": 10,
     "metadata": {},
     "output_type": "execute_result"
    }
   ],
   "source": [
    "pd.DataFrame(log)"
   ]
  },
  {
   "attachments": {},
   "cell_type": "markdown",
   "id": "6805c26d",
   "metadata": {},
   "source": [
    "As you can see EKO is able to reproduce the numbers from the original LHAPDF grid mostly below the permille level.\n",
    "\n",
    "The accuracy is mainly limited by the number of points in the `x` and `mu2` grids that can be finer to achieve higher precision.\n",
    "\n",
    "You can also notice that at large-x the gluon pdf vanishes so the worst accuracy of our benchmark is not worrying."
   ]
  },
  {
   "attachments": {},
   "cell_type": "markdown",
   "id": "5ed13da9",
   "metadata": {},
   "source": [
    "## DGLAP effects on PDFs\n",
    "\n",
    "We can now try to see what is the effect of DGLAP evolution on different PDFs.\n",
    "\n",
    "Let's take a look at the two coupled distributions, gluon and singlet:\n",
    "\n",
    "$$ \\Sigma = \\sum_{i=0}^{n_f} q_i + \\bar{q}_i $$\n",
    "\n",
    "\n",
    "To show this we will plot the NNPDF4.0 NNLO at different $\\mu$ scales, taking advantage of the precomputed LHAPDF grids."
   ]
  },
  {
   "cell_type": "code",
   "execution_count": 11,
   "id": "c462ea1b",
   "metadata": {},
   "outputs": [
    {
     "name": "stdout",
     "output_type": "stream",
     "text": [
      "LHAPDF 6.5.5 loading /Users/evagroenendijk/anaconda3/share/LHAPDF/NNPDF40_nnlo_as_01180/NNPDF40_nnlo_as_01180_0000.dat\n",
      "NNPDF40_nnlo_as_01180 PDF set, member #0, version 1; LHAPDF ID = 331100\n"
     ]
    },
    {
     "data": {
      "image/png": "[encoded data removed]",
      "text/plain": [
       "<Figure size 640x480 with 1 Axes>"
      ]
     },
     "metadata": {},
     "output_type": "display_data"
    }
   ],
   "source": [
    "# select the PDF\n",
    "pdf = lhapdf.mkPDF(\"NNPDF40_nnlo_as_01180\")\n",
    "\n",
    "# x_grid\n",
    "x_grid = lambertgrid(60, x_min=1e-2)\n",
    "mu2_grid = np.array([1.65, 100]) ** 2\n",
    "\n",
    "\n",
    "# plot gluon\n",
    "pid = 21\n",
    "for mu2 in mu2_grid:\n",
    "    plt.plot(\n",
    "        x_grid, [pdf.xfxQ2(pid, x, mu2) for x in x_grid], label=f\"$\\\\mu^2$ = {mu2:.3g}\"\n",
    "    )\n",
    "plt.title(\"$x g(x)$\")\n",
    "plt.xlabel(\"$x$\")\n",
    "plt.xscale(\"log\")\n",
    "plt.legend()\n",
    "plt.tight_layout()\n",
    "plt.show()"
   ]
  },
  {
   "attachments": {},
   "cell_type": "markdown",
   "id": "630da113",
   "metadata": {},
   "source": [
    "To plot the singlet PDF we must rotate the flavors to evolution basis. EKO provides the matrix to do it! "
   ]
  },
  {
   "cell_type": "code",
   "execution_count": 12,
   "id": "5786805b",
   "metadata": {},
   "outputs": [
    {
     "name": "stdout",
     "output_type": "stream",
     "text": [
      "(22, -6, -5, -4, -3, -2, -1, 21, 1, 2, 3, 4, 5, 6)\n",
      "('ph', 'S', 'g', 'V', 'V3', 'V8', 'V15', 'V24', 'V35', 'T3', 'T8', 'T15', 'T24', 'T35')\n",
      "[[ 1  0  0  0  0  0  0  0  0  0  0  0  0  0]\n",
      " [ 0  1  1  1  1  1  1  0  1  1  1  1  1  1]\n",
      " [ 0  0  0  0  0  0  0  1  0  0  0  0  0  0]\n",
      " [ 0 -1 -1 -1 -1 -1 -1  0  1  1  1  1  1  1]\n",
      " [ 0  0  0  0  0 -1  1  0 -1  1  0  0  0  0]\n",
      " [ 0  0  0  0  2 -1 -1  0  1  1 -2  0  0  0]\n",
      " [ 0  0  0  3 -1 -1 -1  0  1  1  1 -3  0  0]\n",
      " [ 0  0  4 -1 -1 -1 -1  0  1  1  1  1 -4  0]\n",
      " [ 0  5 -1 -1 -1 -1 -1  0  1  1  1  1  1 -5]\n",
      " [ 0  0  0  0  0  1 -1  0 -1  1  0  0  0  0]\n",
      " [ 0  0  0  0 -2  1  1  0  1  1 -2  0  0  0]\n",
      " [ 0  0  0 -3  1  1  1  0  1  1  1 -3  0  0]\n",
      " [ 0  0 -4  1  1  1  1  0  1  1  1  1 -4  0]\n",
      " [ 0 -5  1  1  1  1  1  0  1  1  1  1  1 -5]]\n"
     ]
    }
   ],
   "source": [
    "from eko import basis_rotation as br\n",
    "\n",
    "print(br.flavor_basis_pids)\n",
    "print(br.evol_basis)\n",
    "print(br.rotate_flavor_to_evolution)"
   ]
  },
  {
   "cell_type": "code",
   "execution_count": 13,
   "id": "105f2b45",
   "metadata": {},
   "outputs": [
    {
     "data": {
      "image/png": "[encoded data removed]",
      "text/plain": [
       "<Figure size 640x480 with 1 Axes>"
      ]
     },
     "metadata": {},
     "output_type": "display_data"
    }
   ],
   "source": [
    "# loop in mu2\n",
    "for mu2 in mu2_grid:\n",
    "    pdfs_flavor = []\n",
    "    # loop on flavors\n",
    "    for pid in br.flavor_basis_pids:\n",
    "        if pdf.hasFlavor(pid):\n",
    "            pdfs_flavor.append([pdf.xfxQ2(pid, x, mu2) for x in x_grid])\n",
    "        else:\n",
    "            pdfs_flavor.append(np.zeros_like(x_grid))\n",
    "\n",
    "    # rotate to evolution\n",
    "    pdf_evol = br.rotate_flavor_to_evolution @ pdfs_flavor\n",
    "\n",
    "    # select singlet values\n",
    "    singlet_vals = pdf_evol[1]\n",
    "\n",
    "    # plot\n",
    "    plt.plot(x_grid, singlet_vals, label=f\"$\\\\mu^2$ = {mu2:.3g}\")\n",
    "\n",
    "plt.title(\"$x \\Sigma(x)$\")\n",
    "plt.xlabel(\"$x$\")\n",
    "plt.xscale(\"log\")\n",
    "plt.legend()\n",
    "plt.tight_layout()\n",
    "plt.show()"
   ]
  },
  {
   "attachments": {},
   "cell_type": "markdown",
   "id": "3685f1c4",
   "metadata": {},
   "source": [
    "We can observe that DGLAP raises Singlet and gluon at small-x, due to the logarithm of type $\\log(x)/x $ present in the splitting functions.\n",
    "On contrary the large-x region appear suppressed at higher values of $\\mu$."
   ]
  },
  {
   "attachments": {},
   "cell_type": "markdown",
   "id": "fdf65ce1",
   "metadata": {},
   "source": [
    "**Exercise**: \n",
    "\n",
    "By using the rotation matrix provided by EKO, plot the valence distribution, which is defined as:\n",
    "\n",
    "$$ V = \\sum_{i=0}^{n_f} q_i - \\bar{q}_i $$\n",
    "\n",
    "\n",
    "Which are the effects of the DGLAP evolution on this distribution? "
   ]
  },
  {
   "cell_type": "markdown",
   "id": "42931fe7",
   "metadata": {},
   "source": [
    "**Solution**: \n"
   ]
  },
  {
   "cell_type": "code",
   "execution_count": 14,
   "id": "50a5b710",
   "metadata": {},
   "outputs": [
    {
     "data": {
      "image/png": "[encoded data removed]",
      "text/plain": [
       "<Figure size 640x480 with 1 Axes>"
      ]
     },
     "metadata": {},
     "output_type": "display_data"
    }
   ],
   "source": [
    "# loop in mu2\n",
    "for mu2 in mu2_grid:\n",
    "    pdfs_flavor = []\n",
    "    # loop on flavors\n",
    "    for pid in br.flavor_basis_pids:\n",
    "        if pdf.hasFlavor(pid):\n",
    "            pdfs_flavor.append([pdf.xfxQ2(pid, x, mu2) for x in x_grid])\n",
    "        else:\n",
    "            pdfs_flavor.append(np.zeros_like(x_grid))\n",
    "\n",
    "    # rotate to evolution\n",
    "    pdf_evol = br.rotate_flavor_to_evolution @ pdfs_flavor\n",
    "\n",
    "    # select singlet values\n",
    "    singlet_vals = pdf_evol[3]\n",
    "\n",
    "    # plot\n",
    "    plt.plot(x_grid, singlet_vals, label=f\"$\\\\mu^2$ = {mu2:.3g}\")\n",
    "\n",
    "plt.title(\"$x V(x)$\")\n",
    "plt.xlabel(\"$x$\")\n",
    "plt.xscale(\"log\")\n",
    "plt.legend()\n",
    "plt.tight_layout()\n",
    "plt.show()"
   ]
  },
  {
   "attachments": {},
   "cell_type": "markdown",
   "id": "6a0f2e15",
   "metadata": {},
   "source": [
    "## Sum rules\n",
    "\n",
    "PDFs are probabilities distribution (more precisely are functional probabilities) and thus obey to some conservation laws: \n",
    "\n",
    "* Momentum conservation: \n",
    "\n",
    "$$ \\sum_{i=1}^{n_f} \\int_0^{1}dx\\, x q^+_i(x) + \\int_0^{1}dx\\, x g(x) = 1 $$\n",
    "\n",
    "* Quark number conservation: \n",
    "\n",
    "$$ \\int_0^{1}dx\\, u(x) - \\bar{u}(x) = 2 \\quad\\text{and}\\quad \\int_0^{1}dx\\, d(x) - \\bar{d}(x) = 1  $$\n",
    "\n",
    "\n",
    "Using LHAPDF we can check how these sum rules are not violated during DGLAP evolution.\n"
   ]
  },
  {
   "cell_type": "code",
   "execution_count": 15,
   "id": "510da2a2",
   "metadata": {},
   "outputs": [
    {
     "name": "stdout",
     "output_type": "stream",
     "text": [
      "LHAPDF 6.5.5 loading /Users/evagroenendijk/anaconda3/share/LHAPDF/my_ct14llo/my_ct14llo_0000.dat\n",
      "my_ct14llo PDF set, member #0, version 1\n",
      "d sum rule evaluated to : 1.0000085276380484\n",
      "u sum rule evaluated to : 2.0000109883806902\n"
     ]
    }
   ],
   "source": [
    "from scipy.integrate import quad\n",
    "\n",
    "# select the PDF\n",
    "pdf = lhapdf.mkPDF(\"my_ct14llo\")\n",
    "\n",
    "# set a  mu scale\n",
    "mu = 25.0\n",
    "\n",
    "\n",
    "# define the integrand\n",
    "def integrand(pid, x):\n",
    "    return (pdf.xfxQ2(pid, x, mu**2) - pdf.xfxQ2(-pid, x, mu**2)) / x\n",
    "\n",
    "\n",
    "# select up and down pids\n",
    "pids = {\"d\": 1, \"u\": 2}\n",
    "\n",
    "for quark, pid in pids.items():\n",
    "    sum_rule = quad(lambda x: integrand(pid, x), 0, 1, points=(0, 1), epsabs=1e-4)[0]\n",
    "    print(f\"{quark} sum rule evaluated to : {sum_rule}\")"
   ]
  },
  {
   "attachments": {},
   "cell_type": "markdown",
   "id": "eff389f3",
   "metadata": {},
   "source": [
    "**Exercise**: \n",
    "\n",
    "* Modify the code above to check also the momentum sum rule.\n",
    "\n",
    "* Plot the momentum fraction $\\langle q_i\\rangle(\\mu^2)$ of different partons as a function of $\\mu^2$. \n",
    "\n",
    "  $$ \\langle q_i\\rangle(\\mu^2) =  \\int_0^1 x q_i(x, \\mu^2) dx $$\n",
    "  Which behavior do you expect given the discussion above?\n",
    "\n",
    "  (Hint: you need to use a PDF containing many the $\\mu^2$ values ... )\n",
    "\n",
    "* If we interpret splitting functions $P_{ab}$ as the probability of finding the parton $a$ inside the parton $b$, \n",
    "  how does the momentum sum rule look like for splitting functions?\n",
    "  "
   ]
  },
  {
   "cell_type": "markdown",
   "id": "0d66a16d",
   "metadata": {},
   "source": [
    "**Solution**: \n"
   ]
  },
  {
   "cell_type": "code",
   "execution_count": 18,
   "id": "270c14e7",
   "metadata": {},
   "outputs": [
    {
     "name": "stdout",
     "output_type": "stream",
     "text": [
      "Momentum sum rule evaluated to : 0.9761540252579374\n"
     ]
    }
   ],
   "source": [
    "# define the integrand\n",
    "def integrand(x):\n",
    "    singlet = 0\n",
    "    pids = {\"d\": 1, \"u\": 2, \"s\": 3, \"c\": 4}\n",
    "    for pid in pids.values():\n",
    "        singlet +=  (pdf.xfxQ2(pid, x, mu**2) + pdf.xfxQ2(-pid, x, mu**2))\n",
    "    gluon = pdf.xfxQ2(21, x, mu**2)\n",
    "    return singlet + gluon\n",
    "\n",
    "\n",
    "sum_rule = quad(integrand, 0, 1, points=(0, 1), epsabs=1e-4)[0]\n",
    "print(f\"Momentum sum rule evaluated to : {sum_rule}\")"
   ]
  },
  {
   "cell_type": "code",
   "execution_count": 19,
   "id": "d2194552",
   "metadata": {},
   "outputs": [
    {
     "name": "stdout",
     "output_type": "stream",
     "text": [
      "LHAPDF 6.5.5 loading /Users/evagroenendijk/anaconda3/share/LHAPDF/NNPDF40_nnlo_as_01180/NNPDF40_nnlo_as_01180_0000.dat\n",
      "NNPDF40_nnlo_as_01180 PDF set, member #0, version 1; LHAPDF ID = 331100\n"
     ]
    },
    {
     "data": {
      "image/png": "[encoded data removed]",
      "text/plain": [
       "<Figure size 640x480 with 1 Axes>"
      ]
     },
     "metadata": {},
     "output_type": "display_data"
    }
   ],
   "source": [
    "# set a mu grid\n",
    "mu_grid = np.geomspace(1.65, 100, 50)\n",
    "\n",
    "# set a real PDF\n",
    "pdf = lhapdf.mkPDF(\"NNPDF40_nnlo_as_01180\")\n",
    "\n",
    "# define the integrand\n",
    "def integrand(pid, x, mu):\n",
    "    return pdf.xfxQ2(pid, x, mu**2)\n",
    "\n",
    "# select up and down pids\n",
    "pids = {\"s\": 3, \"d\": 1, \"u\": 2, \"g\": 21, r\"\\bar{u}\": -2, r\"\\bar{d}\": -1, r\"\\bar{s}\": -3}\n",
    "\n",
    "for quark, pid in pids.items():\n",
    "    mom_fraction = []\n",
    "    for mu in mu_grid:\n",
    "        mom_fraction.append(quad(lambda x: integrand(pid, x, mu), 1e-6, 1, points=(0, 1), epsabs=1e-4)[0])\n",
    "    plt.plot(mu_grid, mom_fraction, label=f\"${quark}$\")\n",
    "\n",
    "plt.title(\"Momentum Fraction\")\n",
    "plt.xlabel(\"$\\mu$\")\n",
    "plt.xscale(\"log\")\n",
    "plt.legend()\n",
    "plt.tight_layout()\n",
    "plt.show()"
   ]
  },
  {
   "cell_type": "markdown",
   "id": "c285521c",
   "metadata": {},
   "source": [
    "Momentum sum rule for splitting functions:\n",
    "\n",
    "In order to respect momentum sum rule the sum of first moment of probability \n",
    "of a gluon to split another gluon and a quark should sum up to 0.\n",
    "\n",
    "\n",
    "Starting from: \n",
    "\n",
    "$$ \\sum_{i=1}^{n_f} \\int_0^{1}dx\\, x q_i^+(x) + \\int_0^{1}dx\\, x g(x) = 1 $$\n",
    "\n",
    "we differentiate w.r.t. $\\ln(\\mu^2)$:\n",
    "\n",
    "$$ \\sum_{i=1}^{n_f} \\int_0^{1}dx\\, x \\frac{d q_i^+(x)}{d \\ln(\\mu^2)} + \\int_0^{1}dx\\, x \\frac{d g(x)}{d \\ln(\\mu^2)} = 0 $$\n",
    "\n",
    "Plugging in the DGLAP equations:\n",
    "\n",
    "$$ \\sum_{i=1}^{n_f} \\int_0^{1}dx\\, x (P_{qq} + P_{gq}) \\otimes q^{+}_i + \\int_0^{1}dx\\, x (P_{gg} + P_{qg}) \\otimes g = 0 $$\n",
    "\n",
    "which implies two conditions on the first moments of the singlet splitting functions:\n",
    "\n",
    "$$ \\int_{0}^{1} dx\\ x P_{gg} + x P_{qg} = 0$$\n",
    "$$ \\int_{0}^{1} dx\\ x P_{gq} + x P_{qq} = 0$$\n",
    "\n",
    "You can use the same tricks for the quarks.\n",
    "\n",
    "\n",
    "\n"
   ]
  },
  {
   "attachments": {},
   "cell_type": "markdown",
   "id": "7d683cea",
   "metadata": {},
   "source": [
    "## QCD Higher order order corrections\n",
    "\n",
    "Finally we can compare the effects of DGLAP evolution at different order using always the same boundary PDF set."
   ]
  },
  {
   "cell_type": "code",
   "execution_count": 20,
   "id": "ee0e8a1f",
   "metadata": {},
   "outputs": [
    {
     "name": "stdout",
     "output_type": "stream",
     "text": [
      "LHAPDF 6.5.5 loading /Users/evagroenendijk/anaconda3/share/LHAPDF/NNPDF40_nnlo_as_01180/NNPDF40_nnlo_as_01180_0000.dat\n",
      "NNPDF40_nnlo_as_01180 PDF set, member #0, version 1; LHAPDF ID = 331100\n"
     ]
    }
   ],
   "source": [
    "# get the starting PDF object\n",
    "boundary_pdf = lhapdf.mkPDF(\"NNPDF40_nnlo_as_01180\")\n",
    "\n",
    "# setup the operator card\n",
    "op_card = example.operator()\n",
    "op_card.xgrid = eko.interpolation.XGrid(lambertgrid(60))  # x grid\n",
    "op_card.mugrid = [(10, 4), (100, 4)]  # (mu, nf) grid\n",
    "op_card.mu0 = 2.0  # starting point for the evolution\n",
    "\n",
    "# setup the theory card - this can be mostly inferred from the PDF's .info file\n",
    "th_card = example.theory()\n",
    "th_card.heavy.masses = HeavyQuarks(\n",
    "    [QuarkMassRef([1.51, 4]), QuarkMassRef([np.inf, 5]), QuarkMassRef([np.inf, 6])]\n",
    ")  # quark mass, let's use FFNS=4\n",
    "th_card.couplings.max_num_flavs = (\n",
    "    4  # the maximum number of flavors active in the alpha_s evolution\n",
    ")\n",
    "th_card.num_flavs_max_pdf = (\n",
    "    4  # the maximum number of flavors active in the pdf evolution.\n",
    ")\n",
    "th_card.couplings.num_flavs_ref = (\n",
    "    4  # the number of flavors active at the alpha_s reference scale\n",
    ")"
   ]
  },
  {
   "attachments": {},
   "cell_type": "markdown",
   "id": "2a943714",
   "metadata": {},
   "source": [
    "Run LO and NLO"
   ]
  },
  {
   "cell_type": "code",
   "execution_count": null,
   "id": "462db9fd",
   "metadata": {},
   "outputs": [],
   "source": [
    "th_card.order = (1, 0)  # QCD LO\n",
    "path = pathlib.Path(\"./LO.tar\")\n",
    "path.unlink(missing_ok=True)\n",
    "evolve_pdfs(\n",
    "    [boundary_pdf], th_card, op_card, name=\"my_LO_pdf\", store_path=path, install=True\n",
    ")"
   ]
  },
  {
   "cell_type": "code",
   "execution_count": null,
   "id": "bbb0ec29",
   "metadata": {},
   "outputs": [],
   "source": [
    "th_card.order = (2, 0)  # QCD NLO\n",
    "path = pathlib.Path(\"./NLO.tar\")\n",
    "path.unlink(missing_ok=True)\n",
    "evolve_pdfs(\n",
    "    [boundary_pdf], th_card, op_card, name=\"my_NLO_pdf\", store_path=path, install=True\n",
    ")"
   ]
  },
  {
   "cell_type": "code",
   "execution_count": null,
   "id": "2dfb3e66",
   "metadata": {},
   "outputs": [],
   "source": [
    "th_card.order = (3, 0)  # QCD NNLO\n",
    "path = pathlib.Path(\"./NNLO.tar\")\n",
    "path.unlink(missing_ok=True)\n",
    "evolve_pdfs(\n",
    "    [boundary_pdf], th_card, op_card, name=\"my_NNLO_pdf\", store_path=path, install=True\n",
    ")"
   ]
  },
  {
   "cell_type": "code",
   "execution_count": null,
   "id": "0f3c4eb9",
   "metadata": {},
   "outputs": [],
   "source": [
    "lo = lhapdf.mkPDF(\"my_LO_pdf\")\n",
    "nlo = lhapdf.mkPDF(\"my_NLO_pdf\")\n",
    "nnlo = lhapdf.mkPDF(\"my_NNLO_pdf\")\n",
    "\n",
    "\n",
    "# x_grid\n",
    "x_grid = lambertgrid(60, x_min=1e-2)\n",
    "mu2_grid = np.array([2, 10, 100]) ** 2\n",
    "\n",
    "fig, axes = plt.subplots(1, 3, figsize=(15, 5))\n",
    "\n",
    "# plot the gluon as an example\n",
    "# we're looking at the ratio between two neighbouring orders\n",
    "pid = 21\n",
    "for mu2, ax in zip(mu2_grid, axes):\n",
    "    ax.plot(\n",
    "        x_grid[:-3],\n",
    "        [nlo.xfxQ2(pid, x, mu2) / lo.xfxQ2(pid, x, mu2) for x in x_grid[:-3]],\n",
    "        label=f\"$NLO / LO$\",\n",
    "    )\n",
    "    ax.plot(\n",
    "        x_grid[:-3],\n",
    "        [nnlo.xfxQ2(pid, x, mu2) / nlo.xfxQ2(pid, x, mu2) for x in x_grid[:-3]],\n",
    "        label=f\"$NNLO / NLO$\",\n",
    "    )\n",
    "    ax.axhline(y=1, xmin=x_grid[0], xmax=x_grid[-3], color=\"black\", alpha=0.2)\n",
    "    ax.set_title(f\"$\\mu^2 = {mu2}$\")\n",
    "    ax.set_ylabel(\"$x g(x)$\")\n",
    "    ax.set_xlabel(\"$x$\")\n",
    "    ax.set_xscale(\"log\")\n",
    "    ax.legend()\n",
    "plt.tight_layout()\n",
    "fig;"
   ]
  },
  {
   "cell_type": "code",
   "execution_count": null,
   "id": "fa19a829-d5da-4985-8704-2fa3017bd585",
   "metadata": {},
   "outputs": [],
   "source": []
  }
 ],
 "metadata": {
  "kernelspec": {
   "display_name": "Python 3 (ipykernel)",
   "language": "python",
   "name": "python3"
  },
  "language_info": {
   "codemirror_mode": {
    "name": "ipython",
    "version": 3
   },
   "file_extension": ".py",
   "mimetype": "text/x-python",
   "name": "python",
   "nbconvert_exporter": "python",
   "pygments_lexer": "ipython3",
   "version": "3.11.0"
  }
 },
 "nbformat": 4,
 "nbformat_minor": 5
}
