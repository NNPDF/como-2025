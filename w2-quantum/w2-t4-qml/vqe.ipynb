{
 "cells": [
  {
   "cell_type": "markdown",
   "id": "7814de46-21a1-469c-b3a5-9e7f1c1caaa7",
   "metadata": {},
   "source": [
    "# Variational Quantum Eigensolver (VQE)\n",
    "\n",
    "A variational quantum eigensolver is a variational quantum algorithm where a parametrized quantum circuit is trained to prepare the ground state of a target Hamiltonian [See A. Peruzzo et al. - 2013](https://arxiv.org/abs/1304.3061).\n",
    "\n",
    "<img src=\"./figures/vqe.png\" width=\"800\" height=\"500\" alt=\"My Image\">\n",
    "\n",
    "As sketched above, the idea is that we get a state from a quantum circuit, and this state depends on the parameters of the circuit. Then we implement a machine learning routine to update the parameters of the circuit such that the expectation value of our target Hamiltonian on this state is minimized."
   ]
  },
  {
   "cell_type": "markdown",
   "id": "c56ba8fe-1b87-46b9-84ea-e5bf56e016f4",
   "metadata": {},
   "source": [
    "<div style=\"background-color: rgba(255, 105, 105, 0.3); border: 2.5px solid #000000; padding: 15px;\">\n",
    "    <strong>Exercise:</strong> \n",
    "    Solve the Grover problem using a VQE. Suppose that you want to find the $i$-th item in a database of $2^n$ items. To do that you have to formulate the problem as an energy minimization problem: you first define an Hamiltonian which encodes in its ground state the $i$-th item you are interested in, then you train your QML model to miminize the expectation value of such Hamiltonian.\n",
    "    \n",
    "</div>\n",
    "\n",
    "### Problem's Hamiltonian\n",
    "First you'll have to come up with the Hamiltonian form that solves the problem, i.e. that encodes the i-th item in its ground state. \n",
    "You can use ``qibo``'s ``SymbolicHamiltonian`` and symbols to define the form of your Grover's Hamiltonian."
   ]
  },
  {
   "cell_type": "code",
   "execution_count": 1,
   "id": "1ab9335e-0969-4ee9-9ce0-77839ef82c22",
   "metadata": {},
   "outputs": [
    {
     "name": "stderr",
     "output_type": "stream",
     "text": [
      "[Qibo 0.2.20|INFO|2025-07-17 17:56:41]: Using qibojit (cupy) backend on /GPU:0\n"
     ]
    },
    {
     "data": {
      "text/latex": [
       "$\\displaystyle 1 + Z_{0} I_{1} - Z_{2} \\left(1 + I_{0} Z_{1} Z_{2}\\right)$"
      ],
      "text/plain": [
       "1 + Z0*I1 - Z2*(1 + I0*Z1*Z2)"
      ]
     },
     "execution_count": 1,
     "metadata": {},
     "output_type": "execute_result"
    }
   ],
   "source": [
    "from qibo.hamiltonians import SymbolicHamiltonian\n",
    "from qibo.symbols import Z, I\n",
    "\n",
    "# this creates a Z0 * I1 operator, i.e. a tensor product between a pauli Z\n",
    "# on the first qubit and the identity on the second qubit\n",
    "form = Z(0) * I(1)\n",
    "# you can also add other terms\n",
    "form += 1 - Z(2) * (1 + I(0) * Z(1) * Z(2))\n",
    "form"
   ]
  },
  {
   "cell_type": "markdown",
   "id": "12d5d4f9-721f-4220-8b7c-990648a83bf1",
   "metadata": {},
   "source": [
    "**hint 1:** \n",
    "\n",
    "<details>\n",
    "<summary> show </summary>\n",
    "If you represent items in the database as bitstrings, then supposing the item you're looking for corresponds to the state with $| x^\\ast \\rangle = | x_0x_1 ... x_n \\rangle$, you may want to write the projector onto that state.\n",
    "</details>"
   ]
  },
  {
   "cell_type": "markdown",
   "id": "7c6c843c-a2a7-43bf-82eb-6e86b0f2ff06",
   "metadata": {},
   "source": [
    "**hint 2:** \n",
    "\n",
    "<details>\n",
    "<summary> show </summary>\n",
    "The projector you need is therefore $| x^\\ast \\rangle \\langle x^\\ast|$ and you can build the hamiltonian as: \n",
    "    $$H = 1 - | x^\\ast \\rangle \\langle x^\\ast |$$ \n",
    "which, since $x^\\ast$ is a string of bits, can be written in terms of $Z$ pauli operators as:\n",
    "    $$H = 1 - \\bigotimes_i \\bigg( 1 + (-1)^{x_i} Z_i \\bigg)$$\n",
    "where the $x_i$ are the bits composing $x^\\ast$.\n",
    "</details>"
   ]
  },
  {
   "cell_type": "code",
   "execution_count": 5,
   "id": "530347f0-6842-4f70-a55f-b72c08f37150",
   "metadata": {},
   "outputs": [
    {
     "data": {
      "text/latex": [
       "$\\displaystyle 1 - \\left(1 + Z_{0}\\right) \\left(1 - Z_{1}\\right) \\left(1 + Z_{2}\\right) \\left(1 - Z_{3}\\right) \\left(1 - Z_{4}\\right)$"
      ],
      "text/plain": [
       "1 - (1 + Z0)*(1 - Z1)*(1 + Z2)*(1 - Z3)*(1 - Z4)"
      ]
     },
     "execution_count": 5,
     "metadata": {},
     "output_type": "execute_result"
    }
   ],
   "source": [
    "import numpy as np\n",
    "\n",
    "def grover_hamiltonian(item_index, n_items):\n",
    "    # extract how many qubits you need\n",
    "    nqubits = (n_items - 1).bit_length()\n",
    "    # build the binary representation\n",
    "    bitstring = f\"{item_index:0{nqubits}b}\"\n",
    "    bits = [int(b) for b in bitstring]\n",
    "    # projector on the desired state\n",
    "    form = 1 - np.prod([(1 + (-1)**bits[q] * Z(q) ) for q in range(nqubits)])\n",
    "    return SymbolicHamiltonian(form)\n",
    "\n",
    "item_index = 11\n",
    "n_items = 32\n",
    "\n",
    "H = grover_hamiltonian(item_index, n_items)\n",
    "H.form"
   ]
  },
  {
   "cell_type": "markdown",
   "id": "f80a68fc-0767-4fd7-80f3-b4b18e2fc605",
   "metadata": {},
   "source": [
    "### Build the QML model\n",
    "\n",
    "Now that we have the Hamiltonian, you can build the desired QML model using the tools introduced in the previous notebook. "
   ]
  },
  {
   "cell_type": "code",
   "execution_count": 8,
   "id": "82d6bbfd-a766-45da-820f-6fdb271f110d",
   "metadata": {},
   "outputs": [
    {
     "name": "stderr",
     "output_type": "stream",
     "text": [
      "[Qibo 0.2.20|INFO|2025-07-17 18:03:00]: Using qiboml (pytorch) backend on cuda:0\n"
     ]
    },
    {
     "name": "stdout",
     "output_type": "stream",
     "text": [
      "Epoch 0: Energy = 0.39454764974900497\n",
      "Epoch 1: Energy = -0.9398785123709582\n",
      "Epoch 2: Energy = -2.664277760214087\n",
      "Epoch 3: Energy = -4.782827792936922\n",
      "Epoch 4: Energy = -7.164139469241632\n",
      "Epoch 5: Energy = -9.42084905102319\n",
      "Epoch 6: Energy = -11.281355752310192\n",
      "Epoch 7: Energy = -12.879771236016632\n",
      "Epoch 8: Energy = -14.395945224218336\n",
      "Epoch 9: Energy = -15.93934500051856\n",
      "Epoch 10: Energy = -17.58934666981554\n",
      "Epoch 11: Energy = -19.424308457996347\n",
      "Epoch 12: Energy = -21.34991918995205\n",
      "Epoch 13: Energy = -23.236498787106466\n",
      "Epoch 14: Energy = -25.036076015071178\n",
      "Epoch 15: Energy = -26.675899800942563\n",
      "Epoch 16: Energy = -28.014848489915252\n",
      "Epoch 17: Energy = -28.967138828424797\n",
      "Epoch 18: Energy = -29.54206001913085\n",
      "Epoch 19: Energy = -29.822521944054937\n",
      "01011\n",
      "Counter({'01011': 969, '11010': 9, '00110': 5, '00000': 4, '01001': 3, '01101': 3, '01010': 2, '00101': 1, '00111': 1, '01111': 1, '10111': 1, '11000': 1})\n"
     ]
    }
   ],
   "source": [
    "from qiboml.models.ansatze import HardwareEfficient\n",
    "from qiboml.models.decoding import Expectation\n",
    "from qiboml.interfaces.pytorch import QuantumModel\n",
    "\n",
    "from qibo import set_backend, gates\n",
    "\n",
    "import torch\n",
    "\n",
    "set_backend(\"qiboml\", platform=\"pytorch\")\n",
    "\n",
    "nqubits = 5\n",
    "item_index = 11\n",
    "n_items = 32\n",
    "\n",
    "# parametrized circuit\n",
    "trainable_circuit = HardwareEfficient(nqubits=nqubits, nlayers=3)\n",
    "# decoder\n",
    "decoder = Expectation(\n",
    "    nqubits=nqubits,\n",
    "    observable=grover_hamiltonian(item_index, n_items), # this is the default choice anyway\n",
    ")\n",
    "model = QuantumModel(\n",
    "    circuit_structure=[trainable_circuit,],\n",
    "    decoding=decoder,\n",
    ")\n",
    "\n",
    "dev = torch.device(\"cuda:0\") if torch.cuda.is_available() else torch.device(\"cpu\")\n",
    "model = model.to(dev)\n",
    "\n",
    "optimizer = torch.optim.Adam(model.parameters(), lr=0.1)\n",
    "\n",
    "for epoch in range(20):\n",
    "    optimizer.zero_grad()\n",
    "    cost = model()\n",
    "    cost.backward()\n",
    "    optimizer.step()    \n",
    "    print(f\"Epoch {epoch}: Energy = {cost.item()}\")\n",
    "    \n",
    "circ = trainable_circuit.copy(True)\n",
    "circ.add(gates.M(*range(nqubits)))\n",
    "\n",
    "print(f\"{item_index:0{nqubits}b}\")\n",
    "print(circ().frequencies())"
   ]
  },
  {
   "cell_type": "code",
   "execution_count": null,
   "id": "cc699fd9-6852-49dd-b6f4-4882e2542a69",
   "metadata": {},
   "outputs": [],
   "source": []
  }
 ],
 "metadata": {
  "kernelspec": {
   "display_name": "Python 3 (ipykernel)",
   "language": "python",
   "name": "python3"
  },
  "language_info": {
   "codemirror_mode": {
    "name": "ipython",
    "version": 3
   },
   "file_extension": ".py",
   "mimetype": "text/x-python",
   "name": "python",
   "nbconvert_exporter": "python",
   "pygments_lexer": "ipython3",
   "version": "3.10.18"
  }
 },
 "nbformat": 4,
 "nbformat_minor": 5
}
