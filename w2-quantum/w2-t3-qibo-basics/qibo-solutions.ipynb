{
 "cells": [
  {
   "cell_type": "markdown",
   "id": "a3cd0c18-4576-4c7e-80e5-b95609fa270f",
   "metadata": {},
   "source": [
    "# Lecture 1: introduction to `qibo`\n",
    "\n",
    "### Introduction\n",
    "\n",
    "During this course we are going to use `Qibo`, an open source framework for quantum computing. It provides us with an high level language which can be used to implement algorithms with both circuit-based and adiabatic computation approaches and, once the code is set up, it can be easily executed on various engines, including both classical and quantum hardware. \n",
    "\n",
    "<center><img src=\"figures/qibo_ecosystem.svg\" alt=\"drawing\" width=\"800\"/></center>\n",
    "\n",
    "For more info about the whole framework one can have a look to the [`qibo` webpage](https://qibo.science/).\n",
    "\n",
    "### Setup\n",
    "We start installing `qibo` and `qibolab` and then importing some useful primitives."
   ]
  },
  {
   "cell_type": "code",
   "execution_count": null,
   "id": "105f9127-2778-4d0f-82fc-310b54caf51c",
   "metadata": {},
   "outputs": [],
   "source": [
    "# if you don't have already qibo and qibolab in your computer uncomment and execute the following line\n",
    "\n",
    "!pip install qibo\n",
    "!pip install qibolab[emulator]"
   ]
  },
  {
   "cell_type": "markdown",
   "id": "414cf4dc-aa9e-4d9b-9e65-feaabeca7b16",
   "metadata": {},
   "source": [
    "A crucial step is the backend choice. In qibo four backends are provided, and can be used for different kind of applications.\n",
    "\n",
    "<center><img src=\"figures/backends.svg\" alt=\"drawing\" width=\"800\"/></center>\n",
    "\n",
    "The blue backends correspond to classical hardware, while the red one can be selected if we want to execute our algorithm directly on a quantum computer."
   ]
  },
  {
   "cell_type": "code",
   "execution_count": null,
   "id": "a7ea5b82-7627-43a9-abe3-44709898073a",
   "metadata": {},
   "outputs": [],
   "source": [
    "# some imports from qibo + numpy\n",
    "import numpy as np\n",
    "import qibo\n",
    "from qibo import Circuit, gates, hamiltonians"
   ]
  },
  {
   "cell_type": "code",
   "execution_count": null,
   "id": "1389c609-0dbc-4f93-85f1-82362adfd390",
   "metadata": {},
   "outputs": [],
   "source": [
    "# with the following line we set the desired backend\n",
    "qibo.set_backend(backend=\"numpy\")"
   ]
  },
  {
   "cell_type": "markdown",
   "id": "0f6762ee-28b3-4d81-93ab-9871283899fd",
   "metadata": {},
   "source": [
    "### Build my first `qibo` circuit\n",
    "\n",
    "Now we are ready to code our first quantum circuit using `qibo`."
   ]
  },
  {
   "cell_type": "code",
   "execution_count": null,
   "id": "4113659e-3d52-47cf-9c98-f2a472e2d3d4",
   "metadata": {},
   "outputs": [],
   "source": [
    "# set the number of qubits\n",
    "nqubits = 4\n",
    "\n",
    "# we initialise the circuit using the Circuit class\n",
    "c = Circuit(nqubits=nqubits)\n",
    "\n",
    "c.draw()"
   ]
  },
  {
   "cell_type": "markdown",
   "id": "28e4e622-95c4-42d2-b433-c129e27e3535",
   "metadata": {},
   "source": [
    "We can now fill the circuits with some quantum gates. Here are some of the quantum gates which are available in Qibo.\n",
    "<center><img src=\"figures/gates.png\" alt=\"drawing\" width=\"400\"/></center>\n",
    "Let's apply a $X$ gate on the first qubit and a $H$ gate on the third qubit:"
   ]
  },
  {
   "cell_type": "code",
   "execution_count": null,
   "id": "2bfef7e2-5f15-4d3e-b1b4-20b68c36848d",
   "metadata": {},
   "outputs": [],
   "source": [
    "c.add(gates.X(0))\n",
    "c.add(gates.H(2))\n",
    "c.draw()"
   ]
  },
  {
   "cell_type": "markdown",
   "id": "42f0029a-a64a-4f46-ad92-76b7c0e687ae",
   "metadata": {},
   "source": [
    "Finally we add measurements gate on all qubits."
   ]
  },
  {
   "cell_type": "code",
   "execution_count": null,
   "id": "c888978a-cd8f-4766-acba-b971f648c7f0",
   "metadata": {},
   "outputs": [],
   "source": [
    "c.add(gates.M(i) for i in range(4))\n",
    "c.draw()"
   ]
  },
  {
   "cell_type": "code",
   "execution_count": null,
   "id": "07e49acf-905a-42db-872c-ab8b32968b16",
   "metadata": {},
   "outputs": [],
   "source": [
    "result = c(nshots=1000)"
   ]
  },
  {
   "cell_type": "code",
   "execution_count": null,
   "id": "1b9b2ad7-29a1-407e-8855-ffa4dcbf55c9",
   "metadata": {},
   "outputs": [],
   "source": [
    "print(result) # visualize ket\n",
    "print(result.state()) # visualize state in computational basis\n",
    "print(result.probabilities()) # visualize probabilities\n",
    "print(result.samples()) # visualize samples\n",
    "print(result.frequencies()) # visualize frequencies"
   ]
  },
  {
   "cell_type": "markdown",
   "id": "65b39f94-3f1c-44d1-9d37-e6feab42411c",
   "metadata": {},
   "source": [
    "We can now visualize the state."
   ]
  },
  {
   "cell_type": "code",
   "execution_count": null,
   "id": "979874ae-1a9d-4f30-9a7f-bd5177660958",
   "metadata": {},
   "outputs": [],
   "source": [
    "import matplotlib.pyplot as plt\n",
    "def visualize_states(counter):\n",
    "    \"\"\"Plot state's frequencies.\"\"\"\n",
    "        \n",
    "    fig, ax = plt.subplots(figsize=(5, 5 * 6/8))\n",
    "    ax.set_title('State visualization')\n",
    "    ax.set_xlabel('States')\n",
    "    ax.set_ylabel('#')\n",
    "    plt.xticks(rotation=90)\n",
    "    n = len(list(counter)[0])\n",
    "    bitstrings = [format(i, f\"0{n}b\") for i in range(2**n)]\n",
    "    for state in bitstrings:\n",
    "        ax.bar(state, counter[state] if state in counter else 0, color='#C194D8', edgecolor=\"black\")\n",
    "visualize_states(result.frequencies())"
   ]
  },
  {
   "cell_type": "markdown",
   "id": "2f1b9192-5523-499b-a262-ab7fef7dff32",
   "metadata": {},
   "source": [
    "<div style=\"background-color: rgba(255, 105, 105, 0.3); border: 2.5px solid #000000; padding: 15px;\">\n",
    "    <strong>Exercise:</strong> Write a quantum circuit with 3 qubits to produce the states $|001\\rangle$, $|010\\rangle$, and $|111\\rangle$.\n",
    "</div>"
   ]
  },
  {
   "cell_type": "code",
   "execution_count": null,
   "id": "d7edd81c-a477-479d-ab13-c92ee35eeef5",
   "metadata": {},
   "outputs": [],
   "source": [
    "circuit = Circuit(3)\n",
    "circuit.add(gates.X(2))\n",
    "circuit.add(gates.M(i) for i in range(3))\n",
    "visualize_states(circuit(nshots=1000).frequencies())"
   ]
  },
  {
   "cell_type": "code",
   "execution_count": null,
   "id": "a7d5d58c-8579-4c1a-a162-f00636b95fb7",
   "metadata": {},
   "outputs": [],
   "source": [
    "circuit = Circuit(3)\n",
    "circuit.add(gates.X(1))\n",
    "circuit.add(gates.M(i) for i in range(3))\n",
    "visualize_states(circuit(nshots=1000).frequencies())"
   ]
  },
  {
   "cell_type": "code",
   "execution_count": null,
   "id": "de0241bc-304d-47bd-9289-adf5a21c1190",
   "metadata": {},
   "outputs": [],
   "source": [
    "circuit = Circuit(3)\n",
    "circuit.add(gates.X(i) for i in range(3))\n",
    "circuit.add(gates.M(i) for i in range(3))\n",
    "visualize_states(circuit(nshots=1000).frequencies())"
   ]
  },
  {
   "cell_type": "markdown",
   "id": "4aaa32ca-1e3e-4661-83d0-e103c8705ea1",
   "metadata": {},
   "source": [
    "#### Let's simulate some entanglement\n",
    "\n",
    "We can simulate the smallest entangling system in order to reproduce one of the Bell's states\n",
    "\n",
    "$$ |b_1\\rangle = \\frac{|00\\rangle + |11\\rangle}{\\sqrt{2}} \\\\. $$\n",
    "\n",
    "To do this, we need to create a two-qubit circuit, lead one of the two qubits to a superposed state using an Hadamard gate and then apply a controlled-NOT gate to the second qubit using the superposed one as control.\n",
    "\n",
    "<center><img src=\"figures/bell.png\" alt=\"drawing\" width=\"400\"/></center>"
   ]
  },
  {
   "cell_type": "code",
   "execution_count": null,
   "id": "760c1a89-9523-4fd1-8340-8ca2aa598891",
   "metadata": {},
   "outputs": [],
   "source": [
    "# two qubit circuit to simulate the first Bell's state\n",
    "c = Circuit(2)\n",
    "c.add(gates.H(0))\n",
    "c.add(gates.CNOT(q0=0, q1=1))\n",
    "c.add(gates.M(*range(2)))"
   ]
  },
  {
   "cell_type": "code",
   "execution_count": null,
   "id": "06f4f8a7-8605-4423-8697-54b6793e19f3",
   "metadata": {},
   "outputs": [],
   "source": [
    "# collect outcome and frequencies\n",
    "freq = c(nshots=1000).frequencies(binary=True)\n",
    "\n",
    "# visualize it\n",
    "visualize_states(freq)"
   ]
  },
  {
   "cell_type": "markdown",
   "id": "85979557-2a72-4440-844a-fe06b4b9306e",
   "metadata": {},
   "source": [
    "<div style=\"background-color: rgba(255, 105, 105, 0.3); border: 2.5px solid #000000; padding: 15px;\">\n",
    "    <strong>Exercise:</strong> implement the quantum circuits needed to prepare the other three Bell's states:\n",
    "    $$ |b_2\\rangle = \\frac{|00\\rangle - |11\\rangle}{\\sqrt{2}},\\qquad |b_3\\rangle = \\frac{|10\\rangle + |01\\rangle}{\\sqrt{2}},\\qquad |b_4\\rangle = \\frac{|01\\rangle - |10\\rangle}{\\sqrt{2}} \\\\. $$\n",
    "</div>"
   ]
  },
  {
   "cell_type": "code",
   "execution_count": null,
   "id": "0e623639-8ac6-4d1b-9ee2-a14eaae06bd8",
   "metadata": {},
   "outputs": [],
   "source": [
    "circuit = Circuit(2)\n",
    "circuit.add(gates.H(0))\n",
    "circuit.add(gates.Z(0))\n",
    "circuit.add(gates.CNOT(0,1))\n",
    "print(circuit())"
   ]
  },
  {
   "cell_type": "code",
   "execution_count": null,
   "id": "39c1c6c9-db72-4b4e-827c-d166f622fedb",
   "metadata": {},
   "outputs": [],
   "source": [
    "circuit = Circuit(2)\n",
    "circuit.add(gates.H(0))\n",
    "circuit.add(gates.X(1))\n",
    "circuit.add(gates.CNOT(0,1))\n",
    "print(circuit())"
   ]
  },
  {
   "cell_type": "code",
   "execution_count": null,
   "id": "a223cd7c-0d61-40ef-803e-90f8578c6775",
   "metadata": {},
   "outputs": [],
   "source": [
    "circuit = Circuit(2)\n",
    "circuit.add(gates.H(0))\n",
    "circuit.add(gates.X(1))\n",
    "circuit.add(gates.Z(0))\n",
    "circuit.add(gates.CNOT(0,1))\n",
    "print(circuit())"
   ]
  },
  {
   "cell_type": "markdown",
   "id": "79effe1e-5a2b-4563-b5e8-e74a07abc6f7",
   "metadata": {},
   "source": [
    "### Parametrized gates\n",
    "\n",
    "We can use parametric gates to manipulate the quantum state with some more freedom. \n",
    "\n",
    "The most commonly used parametric gates are rotations $R_k(\\theta) = \\exp [ -i \\theta \\sigma_k ] $, where $\\sigma_k$ is one of the components of the Pauli's vector: $\\vec{\\sigma}=(I, \\sigma_x, \\sigma_y, \\sigma_z)$."
   ]
  },
  {
   "cell_type": "code",
   "execution_count": null,
   "id": "6b301894-d961-42a6-8593-f8c31aceaa55",
   "metadata": {},
   "outputs": [],
   "source": [
    "# a fancier quantum circuit\n",
    "nqubits = 2\n",
    "nlayers = 2\n",
    "\n",
    "c = Circuit(nqubits=nqubits)\n",
    "\n",
    "for l in range(nlayers):\n",
    "    for q in range(nqubits):\n",
    "        # NOTE: the angles are set to zero here!\n",
    "        c.add(gates.RY(q=q, theta=0))\n",
    "        c.add(gates.RZ(q=q, theta=0))\n",
    "    c.add(gates.CNOT(q0=0, q1=nqubits-1))\n",
    "c.add(gates.M(*range(nqubits)))\n",
    "\n",
    "c.draw()"
   ]
  },
  {
   "cell_type": "markdown",
   "id": "5e6308dd-1721-4f49-9ab1-4af2b9bd49e6",
   "metadata": {},
   "source": [
    "All the rotational angles are now set to zero, and the final state is equal to the initial state (which is $|0\\rangle^{\\otimes N}$ by default). We can play with the angles to modify the final state."
   ]
  },
  {
   "cell_type": "code",
   "execution_count": null,
   "id": "0d8e5c4e-5a0c-4786-950c-6bec36d2d3cd",
   "metadata": {},
   "outputs": [],
   "source": [
    "# execute the circuit and collect frequencies\n",
    "outcome = c(nshots=1000)\n",
    "freq = outcome.frequencies()\n",
    "\n",
    "print(outcome)\n",
    "# visualize the |0> state\n",
    "visualize_states(freq)"
   ]
  },
  {
   "cell_type": "markdown",
   "id": "0893e5d7-dfed-4d49-860e-04ce0c2983da",
   "metadata": {},
   "source": [
    "Let's now set some random parameters to see how the distribution changes."
   ]
  },
  {
   "cell_type": "code",
   "execution_count": null,
   "id": "bf05f5b0-593f-4c22-bfa9-43a62ec31c75",
   "metadata": {},
   "outputs": [],
   "source": [
    "np.random.seed(42)\n",
    "nparams = len(c.get_parameters())\n",
    "angles = np.random.randn(nparams)\n",
    "\n",
    "# set the parameters into the circuit\n",
    "c.set_parameters(angles)\n",
    "# execute, collect frequencies and visualize the state\n",
    "outcome = c(nshots=1000)\n",
    "freq = outcome.frequencies()\n",
    "\n",
    "visualize_states(freq)"
   ]
  },
  {
   "cell_type": "markdown",
   "id": "504d36a3-0477-4ccc-a3ae-089deffab5f8",
   "metadata": {},
   "source": [
    "## Controlled gates\n",
    "Some controlled gates are already available in Qibo. We can write a generalized controlled gate using `controlled_by`."
   ]
  },
  {
   "cell_type": "code",
   "execution_count": null,
   "id": "c129c80e-1bf4-4325-ba8a-a1ae022cd900",
   "metadata": {},
   "outputs": [],
   "source": [
    "nqubits = 3\n",
    "circuit = Circuit(nqubits)\n",
    "circuit.add(gates.X(nqubits - 1).controlled_by(*range(nqubits - 1)))\n",
    "circuit.add(gates.M(*range(nqubits)))\n",
    "result = circuit(nshots=1000)"
   ]
  },
  {
   "cell_type": "code",
   "execution_count": null,
   "id": "e73be660-3ea9-4509-ac94-390e65960c3b",
   "metadata": {},
   "outputs": [],
   "source": [
    "visualize_states(result.frequencies())"
   ]
  },
  {
   "cell_type": "markdown",
   "id": "d5703bfb-7f0b-4fdd-9399-59b19e1ce553",
   "metadata": {},
   "source": [
    "Above we see that we measure only the $|000\\rangle$ because the first qubit are both in $|0\\rangle$.\n",
    "Let's see what happens if we set both of them to $|1\\rangle$ using $X$ gates."
   ]
  },
  {
   "cell_type": "code",
   "execution_count": null,
   "id": "c259e268-78d7-49d5-8d07-82e485520d54",
   "metadata": {},
   "outputs": [],
   "source": [
    "nqubits = 3\n",
    "circuit = Circuit(nqubits)\n",
    "for i in range(nqubits-1):\n",
    "    circuit.add(gates.X(i))\n",
    "circuit.add(gates.X(nqubits - 1).controlled_by(*range(nqubits - 1)))\n",
    "circuit.add(gates.M(*range(nqubits)))\n",
    "circuit.draw()\n",
    "result = circuit(nshots=1000)"
   ]
  },
  {
   "cell_type": "code",
   "execution_count": null,
   "id": "0f2769ef-8a83-468c-9bf7-f8b816e79a1e",
   "metadata": {},
   "outputs": [],
   "source": [
    "visualize_states(result.frequencies())"
   ]
  },
  {
   "cell_type": "markdown",
   "id": "0b601320-2502-4bf8-8e64-b91c12438f35",
   "metadata": {},
   "source": [
    "## Add circuits as subroutines\n",
    "\n",
    "Using Qibo we also have the possibility to append a smaller circuit with a bigger circuit using the on_qubits function. For circuits with the same number of qubits you can also the + operator."
   ]
  },
  {
   "cell_type": "code",
   "execution_count": null,
   "id": "a7a8fd47-5499-4a29-92cb-7d2197083004",
   "metadata": {},
   "outputs": [],
   "source": [
    "small_qubits = 2\n",
    "superposition = Circuit(small_qubits)\n",
    "superposition.add(gates.H(i) for i in range(small_qubits))"
   ]
  },
  {
   "cell_type": "code",
   "execution_count": null,
   "id": "983abf55-b501-433a-8861-e73360e62300",
   "metadata": {},
   "outputs": [],
   "source": [
    "large_qubits = 4\n",
    "circuit=Circuit(large_qubits)\n",
    "circuit.add(superposition.on_qubits(0,2))\n",
    "circuit.add(gates.M(i) for i in range(large_qubits))\n",
    "circuit.draw()"
   ]
  },
  {
   "cell_type": "code",
   "execution_count": null,
   "id": "65c834d8-4585-4927-82bf-96a5acf4b35a",
   "metadata": {},
   "outputs": [],
   "source": [
    "visualize_states(circuit(nshots=1000).frequencies())"
   ]
  },
  {
   "cell_type": "markdown",
   "id": "db22a395-8909-4bf4-90fe-7b681423911d",
   "metadata": {},
   "source": [
    "## Running circuits on an emulator\n",
    "So far, we have only executed circuits on simulation. To get a glimpse of what is like to run on actual hardware where noise plays a big factor we can use an emulator provided by Qibolab. We will now load an emulator that simulates the behavior of a QPU with just one qubit."
   ]
  },
  {
   "cell_type": "code",
   "execution_count": null,
   "id": "94429ae7-b9f3-4e41-a2fc-174a5ae2d7e0",
   "metadata": {},
   "outputs": [],
   "source": [
    "import os\n",
    "from qibolab import create_platform\n",
    "\n",
    "os.environ[\"QIBOLAB_PLATFORMS\"] = \"../\"\n",
    "platform = create_platform(\"emulator\")\n",
    "qibo.set_backend(\"qibolab\", platform=platform)"
   ]
  },
  {
   "cell_type": "markdown",
   "id": "4965ee15-7e73-40c2-89da-22993cb8ce79",
   "metadata": {},
   "source": [
    "Since we are now dealing with an emulator not all gates can be executed directly. The gates which are executable direclty are known as <em> native gates </em>. In our case the natives gates are the following:"
   ]
  },
  {
   "cell_type": "code",
   "execution_count": null,
   "id": "6aea70e6-27a2-48af-bed4-fa1e5f646c89",
   "metadata": {},
   "outputs": [],
   "source": [
    "from qibo.transpiler import NativeGates\n",
    "NativeGates.default()"
   ]
  },
  {
   "cell_type": "markdown",
   "id": "0ff5cc05-48b9-4c09-93d3-678b424d4bf2",
   "metadata": {},
   "source": [
    "We are now going to define a transpiler for a platform containing only 1 qubit."
   ]
  },
  {
   "cell_type": "code",
   "execution_count": null,
   "id": "9482b46a-155d-4be3-90b1-e9d1de163bb5",
   "metadata": {},
   "outputs": [],
   "source": [
    "from qibo.transpiler import Passes, Unroller\n",
    "transpiler = Passes(\n",
    "    connectivity=[], # this is the topology of the chip, since we are using just a\n",
    "                     # single qubit, there's no connectivity to respect\n",
    "    passes=[Unroller(NativeGates.default())]\n",
    ")\n",
    "# we set the transpiler \n",
    "qibo.set_transpiler(transpiler)"
   ]
  },
  {
   "cell_type": "code",
   "execution_count": null,
   "id": "dffa23aa-f5aa-4414-bc6b-65067f3f4573",
   "metadata": {},
   "outputs": [],
   "source": [
    "circuit = Circuit(1)\n",
    "# circuit.add(gates.(0))\n",
    "circuit.add(gates.M(0))\n",
    "\n",
    "print(\"Circuit before transpilation\")\n",
    "circuit.draw()\n",
    "print(\"Circuit after transpilation\")\n",
    "transpiler(circuit)[0].draw()"
   ]
  },
  {
   "cell_type": "markdown",
   "id": "e9e94d67-0418-4548-ae7f-6cb5d92c6d10",
   "metadata": {},
   "source": [
    "Having set the transpiler above Qibolab will automatically take care of the transpilation when we run a circuit."
   ]
  },
  {
   "cell_type": "code",
   "execution_count": null,
   "id": "0ee62cde-3c7c-4b77-b183-0f11d5a602c5",
   "metadata": {},
   "outputs": [],
   "source": [
    "visualize_states(circuit(nshots=1000).frequencies())"
   ]
  },
  {
   "cell_type": "code",
   "execution_count": null,
   "id": "2f135e97-cd40-4c15-8200-2c88804c3acb",
   "metadata": {},
   "outputs": [],
   "source": []
  }
 ],
 "metadata": {
  "kernelspec": {
   "display_name": "Python 3 (ipykernel)",
   "language": "python",
   "name": "python3"
  },
  "language_info": {
   "codemirror_mode": {
    "name": "ipython",
    "version": 3
   },
   "file_extension": ".py",
   "mimetype": "text/x-python",
   "name": "python",
   "nbconvert_exporter": "python",
   "pygments_lexer": "ipython3",
   "version": "3.12.6"
  }
 },
 "nbformat": 4,
 "nbformat_minor": 5
}
